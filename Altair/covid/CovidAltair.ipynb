{
 "cells": [
  {
   "cell_type": "code",
   "execution_count": null,
   "metadata": {
    "slideshow": {
     "slide_type": "skip"
    }
   },
   "outputs": [],
   "source": [
    "#import pyforest"
   ]
  },
  {
   "cell_type": "code",
   "execution_count": null,
   "metadata": {
    "slideshow": {
     "slide_type": "skip"
    }
   },
   "outputs": [],
   "source": [
    "#pyforest.active_imports()"
   ]
  },
  {
   "cell_type": "code",
   "execution_count": null,
   "metadata": {
    "slideshow": {
     "slide_type": "skip"
    }
   },
   "outputs": [],
   "source": [
    "import altair as alt\n",
    "alt.data_transformers.disable_max_rows()"
   ]
  },
  {
   "cell_type": "markdown",
   "metadata": {},
   "source": [
    "## Get Data"
   ]
  },
  {
   "cell_type": "code",
   "execution_count": null,
   "metadata": {},
   "outputs": [],
   "source": [
    "from pathlib import Path"
   ]
  },
  {
   "cell_type": "code",
   "execution_count": null,
   "metadata": {},
   "outputs": [],
   "source": [
    "#https://npgeo-corona-npgeo-de.hub.arcgis.com/datasets/dd4580c810204019a7b8eb3e0b329dd6_0\n",
    "\n",
    "file = Path(\"data/RKI_COVID19.csv\")\n",
    "import pandas as pd\n",
    "date_parser = lambda x : pd.to_datetime(x.replace(\"Uhr\", \"\"), errors=\"coerce\")\n",
    "\n",
    "date_cols = [\"Meldedatum\",\"Datenstand\",\"Refdatum\"]\n",
    "categories = [\"Bundesland\", \"Landkreis\",\"Altergruppe\", \"Geschlecht\",\"IdLandkreis\"]\n",
    "cat_dict = dict(zip(categories, [\"category\"]*len(categories)))\n",
    "\n",
    "\n",
    "if not file.exists():\n",
    "    pd.read_csv(\"https://opendata.arcgis.com/datasets/dd4580c810204019a7b8eb3e0b329dd6_0.csv\").to_csv(file)   \n",
    "rki_data = pd.read_csv(file, dtype=cat_dict)\n",
    "\n",
    "for col in date_cols:\n",
    "    rki_data[col] = pd.to_datetime(rki_data[col].str.replace(\"Uhr\",\"\"))\n",
    "    \n",
    "ddr = [\"Mecklenburg\",\"Brandenburg\",\"Sachsen-Anhalt\",\"Sachsen\",\"Thüringen\"]\n",
    "rki_data[\"ddr\"] = rki_data.Bundesland.isin(ddr)"
   ]
  },
  {
   "cell_type": "code",
   "execution_count": null,
   "metadata": {},
   "outputs": [],
   "source": [
    "print(rki_data.Meldedatum.max())"
   ]
  },
  {
   "cell_type": "code",
   "execution_count": null,
   "metadata": {},
   "outputs": [],
   "source": [
    "data_landkreise = pd.read_csv(\"data/RKI_Corona_Landkreise.csv\")\n",
    "data_bundesländer = pd.read_csv(\"data/RKI_Corona_Bundesländer.csv\")"
   ]
  },
  {
   "cell_type": "code",
   "execution_count": null,
   "metadata": {},
   "outputs": [],
   "source": [
    "rki_data = rki_data.join(data_landkreise.set_index(\"county\")[[\"GEN\",\"cases7_bl_per_100k\",\"cases7_bl\",\"death7_bl\",\"cases7_lk\",\"death7_lk\",\"cases7_per_100k\"]], on=\"Landkreis\")"
   ]
  },
  {
   "cell_type": "code",
   "execution_count": null,
   "metadata": {},
   "outputs": [],
   "source": [
    "rki_data[\"fälle_100_kreis\"] = rki_data.join(data_landkreise.set_index(\"county\").EWZ, on=\"Landkreis\").pipe(lambda df: df.AnzahlFall / (df.EWZ / 100000))\n",
    "rki_data[\"fälle_100_land\"] = rki_data.join(data_bundesländer.set_index(\"LAN_ew_GEN\").LAN_ew_EWZ, on=\"Bundesland\").pipe(lambda df: df.AnzahlFall / (df.LAN_ew_EWZ / 100000))"
   ]
  },
  {
   "cell_type": "markdown",
   "metadata": {
    "slideshow": {
     "slide_type": "slide"
    }
   },
   "source": [
    "# Grammar of Graphics\n",
    "\n",
    "* [Buch](https://www.springer.com/de/book/9780387245447) von Wilkinson, Leland aus 2005\n",
    "\n",
    "![](https://miro.medium.com/max/1800/1*mcLnnVdHNg-ikDbHJfHDNA.png)"
   ]
  },
  {
   "cell_type": "markdown",
   "metadata": {
    "slideshow": {
     "slide_type": "subslide"
    }
   },
   "source": [
    "* Data => [Chart](https://altair-viz.github.io/user_guide/data.html) + [Transformations](https://altair-viz.github.io/user_guide/transform/index.html)\n",
    "* Aesthetics => [encodings](https://altair-viz.github.io/user_guide/encoding.html)\n",
    "* Scale => [Scales](https://altair-viz.github.io/user_guide/scale_resolve.html)\n",
    "* Geometric objects => [Marks](https://altair-viz.github.io/user_guide/marks.html)\n",
    "* Statistics => [BuildIn vega-lite Aggregations](https://vega.github.io/vega-lite/docs/aggregate.html#ops)\n",
    "* Facets => Compound Charts (https://altair-viz.github.io/user_guide/compound_charts.html)\n",
    "* Coordinate system => ? [Map](https://altair-viz.github.io/gallery/index.html#maps)"
   ]
  },
  {
   "cell_type": "markdown",
   "metadata": {},
   "source": [
    "# Basic Examples"
   ]
  },
  {
   "cell_type": "markdown",
   "metadata": {},
   "source": [
    "## Pandas API"
   ]
  },
  {
   "cell_type": "code",
   "execution_count": null,
   "metadata": {},
   "outputs": [],
   "source": [
    "rki_data.groupby(\"Meldedatum\").AnzahlFall.sum().rolling(7).mean().plot.line()"
   ]
  },
  {
   "cell_type": "code",
   "execution_count": null,
   "metadata": {},
   "outputs": [],
   "source": [
    "pd.__version__"
   ]
  },
  {
   "cell_type": "code",
   "execution_count": null,
   "metadata": {},
   "outputs": [],
   "source": [
    "fig = rki_data.groupby(\"Meldedatum\").AnzahlFall.sum().rolling(7).mean().plot.line(backend=\"altair\")\n",
    "fig"
   ]
  },
  {
   "cell_type": "code",
   "execution_count": null,
   "metadata": {},
   "outputs": [],
   "source": [
    "pd.Series(rki_data.Landkreis.unique()).apply(lambda s: s.split(\" \")[0]).value_counts().plot.barh(backend=\"altair\")"
   ]
  },
  {
   "cell_type": "code",
   "execution_count": null,
   "metadata": {},
   "outputs": [],
   "source": [
    "rki_data.groupby([\"Bundesland\", \"Geschlecht\"]).AnzahlFall.sum().unstack().plot.barh(stacked=True, backend=\"altair\")"
   ]
  },
  {
   "cell_type": "markdown",
   "metadata": {},
   "source": [
    "## Altair syntax\n",
    "\n",
    "* Chart: Which Data Source\n",
    "* Marks. How to represent (Chart Type)\n",
    "* Encodings:\n",
    "    * [Channels](https://altair-viz.github.io/user_guide/encoding.html#encoding-channels): X-Axis, Y-Axis, Color, Size\n",
    "    * [Encode Data Type](https://altair-viz.github.io/user_guide/encoding.html#encoding-data-types): Quantiative, Ordinal, Nominal"
   ]
  },
  {
   "cell_type": "code",
   "execution_count": null,
   "metadata": {},
   "outputs": [],
   "source": [
    "source = rki_data.groupby(\"Meldedatum\").AnzahlFall.sum().reset_index()\n",
    "\n",
    "alt.Chart(source).mark_line().encode(\n",
    "    x=\"Meldedatum:T\", \n",
    "    y=\"AnzahlFall:Q\"\n",
    ").properties(width=1000).interactive()"
   ]
  },
  {
   "cell_type": "markdown",
   "metadata": {},
   "source": [
    "## Custom Order oder Colors"
   ]
  },
  {
   "cell_type": "code",
   "execution_count": null,
   "metadata": {},
   "outputs": [],
   "source": [
    "fälle_je_tag_bundesland = rki_data.query(\"Meldedatum > '2020-08-15'\").groupby([\"Altersgruppe\",\"Meldedatum\"])[\"fälle_100_land\"].sum().fillna(0).reset_index()\n",
    "rolling_fall_bundesland = fälle_je_tag_bundesland.groupby([\"Altersgruppe\"]).rolling(7, on=\"Meldedatum\")[\"fälle_100_land\"].mean().fillna(0).reset_index()\n",
    "\n",
    "ages = ['unbekannt','A00-A04', 'A05-A14', 'A15-A34','A35-A59', 'A60-A79', 'A80+'][::-1]\n",
    "\n",
    "timeline_age = alt.Chart(rolling_fall_bundesland).mark_area().encode(\n",
    "    x=\"Meldedatum:T\", \n",
    "    y=\"fälle_100_land:Q\", \n",
    "    tooltip=\"Altersgruppe\",\n",
    "    color=alt.Color('Altersgruppe', scale=alt.Scale(scheme='spectral'), sort=ages)\n",
    ")\n",
    "timeline_age"
   ]
  },
  {
   "cell_type": "code",
   "execution_count": null,
   "metadata": {},
   "outputs": [],
   "source": [
    "fälle_je_tag_bundesland = rki_data.query(\"Meldedatum > '2020-08-15'\").groupby([\"Geschlecht\",\"Meldedatum\"])[\"AnzahlFall\"].sum().fillna(0).reset_index()\n",
    "rolling_fall_bundesland = fälle_je_tag_bundesland.groupby([\"Geschlecht\"]).rolling(7, on=\"Meldedatum\")[\"AnzahlFall\"].mean().fillna(0).reset_index()\n",
    "\n",
    "timeline_sex= alt.Chart(rolling_fall_bundesland).mark_line().encode(\n",
    "    x=\"Meldedatum:T\", y=\"AnzahlFall:Q\", color=\"Geschlecht\"\n",
    ")\n",
    "timeline_sex"
   ]
  },
  {
   "cell_type": "markdown",
   "metadata": {},
   "source": [
    "# Aggregations"
   ]
  },
  {
   "cell_type": "code",
   "execution_count": null,
   "metadata": {},
   "outputs": [],
   "source": [
    "group = [\"Altersgruppe\",\"Geschlecht\",\"Bundesland\"]\n",
    "fälle_je_tag_bundesland = rki_data.query(\"Meldedatum > '2020-05-15'\").groupby(group + [\"Meldedatum\"])[\"AnzahlFall\"].sum().fillna(0).reset_index()\n",
    "rolling_fall_bundesland = fälle_je_tag_bundesland.groupby(group).rolling(7, on=\"Meldedatum\")[\"AnzahlFall\"].mean().fillna(0).reset_index()\n"
   ]
  },
  {
   "cell_type": "code",
   "execution_count": null,
   "metadata": {},
   "outputs": [],
   "source": [
    "rolling_fall_bundesland"
   ]
  },
  {
   "cell_type": "code",
   "execution_count": null,
   "metadata": {},
   "outputs": [],
   "source": [
    "agg_timeline = alt.Chart(rolling_fall_bundesland).mark_area().encode(\n",
    "    x=\"Meldedatum:T\", \n",
    "    y=\"sum(AnzahlFall):Q\", \n",
    "    tooltip=\"Altersgruppe:N\",\n",
    "    color=alt.Color('Altersgruppe:N', sort=ages)\n",
    ")\n",
    "agg_timeline"
   ]
  },
  {
   "cell_type": "code",
   "execution_count": null,
   "metadata": {},
   "outputs": [],
   "source": [
    "agg_timeline.encode(\n",
    "    column='Geschlecht',\n",
    "    row='Bundesland'\n",
    ")"
   ]
  },
  {
   "cell_type": "markdown",
   "metadata": {},
   "source": [
    "# Combining Charts"
   ]
  },
  {
   "cell_type": "code",
   "execution_count": null,
   "metadata": {},
   "outputs": [],
   "source": [
    "# Pandas Syntax\n",
    "mean = rki_data.groupby(\"Meldedatum\").AnzahlFall.sum().plot.line(backend=\"altair\")\n",
    "rolling = rki_data.groupby(\"Meldedatum\").AnzahlFall.sum().rolling(7).mean().plot.line(backend=\"altair\")\n",
    "\n",
    "comb = (mean + rolling).properties(width=1000)\n",
    "#for l in comb.layer:\n",
    "#    l.selection = alt.Undefined\n",
    "comb"
   ]
  },
  {
   "cell_type": "code",
   "execution_count": null,
   "metadata": {},
   "outputs": [],
   "source": [
    "summed = rki_data.groupby(\"Meldedatum\").AnzahlFall.sum()\n",
    "\n",
    "actual = alt.Chart(summed.reset_index()).mark_line()\n",
    "rolling = alt.Chart(summed.rolling(7).mean().reset_index()).mark_line().encode(\n",
    "    color=alt.value(\"orange\")\n",
    ")\n",
    "\n",
    "comb = (actual + rolling).encode(\n",
    "    x=\"Meldedatum:T\", \n",
    "    y=\"AnzahlFall:Q\"\n",
    ").properties(width=1000)\n",
    "comb"
   ]
  },
  {
   "cell_type": "code",
   "execution_count": null,
   "metadata": {},
   "outputs": [],
   "source": [
    "timeline_age | timeline_age.encode(y=alt.Y(\"fälle_100_land:Q\", stack=\"normalize\"))"
   ]
  },
  {
   "cell_type": "code",
   "execution_count": null,
   "metadata": {},
   "outputs": [],
   "source": [
    "timeline_sex | timeline_sex.mark_area()"
   ]
  },
  {
   "cell_type": "code",
   "execution_count": null,
   "metadata": {},
   "outputs": [],
   "source": [
    "multi_select = alt.selection_multi(encodings=['color'])\n",
    "\n",
    "(timeline_age.add_selection(multi_select) | timeline_age.transform_filter(multi_select).add_selection(multi_select)).resolve_scale(y='shared')"
   ]
  },
  {
   "cell_type": "markdown",
   "metadata": {},
   "source": [
    "# Interaction & Scales"
   ]
  },
  {
   "cell_type": "code",
   "execution_count": null,
   "metadata": {},
   "outputs": [],
   "source": [
    "data = data_landkreise[[\"GEN\", \"BL\", \"BEZ\",\"EWZ\", \"cases7_lk\",\"death7_lk\",\"cases7_per_100k\",\"cases7_bl_per_100k\"]]\n",
    "alt.Chart(data).mark_circle().encode(\n",
    "    x=alt.X(\"EWZ\", scale=alt.Scale(type=\"log\", zero=False)),\n",
    "    y=\"cases7_per_100k\",\n",
    "    color=\"BL\",\n",
    "    tooltip=['GEN', 'BL', 'cases7_lk', 'cases7_per_100k']\n",
    ").interactive()"
   ]
  },
  {
   "cell_type": "code",
   "execution_count": null,
   "metadata": {},
   "outputs": [],
   "source": [
    "brush = alt.selection(type='interval', encodings=['x'])\n",
    "\n",
    "upper = comb.encode(\n",
    "    alt.X('Meldedatum:T', scale=alt.Scale(domain=brush))\n",
    ")\n",
    "\n",
    "lower = comb.properties(\n",
    "    height=60\n",
    ").add_selection(brush)\n",
    "\n",
    "upper & lower"
   ]
  },
  {
   "cell_type": "markdown",
   "metadata": {},
   "source": [
    "# Geo-Data"
   ]
  },
  {
   "cell_type": "markdown",
   "metadata": {},
   "source": [
    "## Get Data"
   ]
  },
  {
   "cell_type": "code",
   "execution_count": null,
   "metadata": {},
   "outputs": [],
   "source": [
    "import json\n",
    "from urllib.request import urlopen\n",
    "map_url = \"https://raw.githubusercontent.com/AliceWi/TopoJSON-Germany/master/germany.json\"\n",
    "json_data = json.loads(urlopen(map_url).read())\n",
    "states = [c.get(\"properties\").get(\"name\") for c in json_data.get(\"objects\").get(\"states\").get(\"geometries\")]\n",
    "json_data.get(\"objects\").get(\"states\").get(\"geometries\")[0].keys()\n"
   ]
  },
  {
   "cell_type": "code",
   "execution_count": null,
   "metadata": {},
   "outputs": [],
   "source": [
    "# Missing matched\n",
    "conainted = pd.Series({\n",
    "    e.get(\"properties\").get(\"name\"): e.get(\"properties\").get(\"name\") in data_landkreise.GEN.to_list()\n",
    "    for e in json_data.get(\"objects\").get(\"counties\").get(\"geometries\")\n",
    "})\n",
    "conainted.loc[conainted==False]"
   ]
  },
  {
   "cell_type": "code",
   "execution_count": null,
   "metadata": {},
   "outputs": [],
   "source": [
    "json_data.get(\"objects\").get(\"counties\").get(\"geometries\")[0].get(\"properties\")"
   ]
  },
  {
   "cell_type": "markdown",
   "metadata": {},
   "source": [
    "## Simple Map"
   ]
  },
  {
   "cell_type": "code",
   "execution_count": null,
   "metadata": {},
   "outputs": [],
   "source": [
    "counties = alt.topo_feature(map_url, 'states')\n",
    "alt.Chart(counties).mark_geoshape().encode(\n",
    "    text='properties.name:N',\n",
    "    tooltip='properties.name:N'\n",
    ")"
   ]
  },
  {
   "cell_type": "code",
   "execution_count": null,
   "metadata": {},
   "outputs": [],
   "source": [
    "highlight = alt.selection_single(on='mouseover', fields=['Bundesland'], empty='none')\n",
    "bundesland_cnt = rki_data.groupby(\"Bundesland\").size().to_frame(\"cnt\").reset_index()\n",
    "\n",
    "counties = alt.topo_feature(map_url, 'states')\n",
    "county_map = alt.Chart(counties).mark_geoshape().encode(\n",
    "    color=alt.condition(highlight, alt.value('red'), 'Bundesland:N'),\n",
    "    text='name:N'\n",
    ").transform_lookup(\n",
    "    lookup='properties.name',\n",
    "    from_=alt.LookupData(bundesland_cnt, 'Bundesland', ['Bundesland','cnt'])\n",
    ")\n",
    "\n",
    "county_map.add_selection(highlight)"
   ]
  },
  {
   "cell_type": "code",
   "execution_count": null,
   "metadata": {},
   "outputs": [],
   "source": [
    "fälle_je_tag_bundesland = rki_data.query(\"Meldedatum > '2020-10-15'\").groupby([\"Bundesland\",\"Meldedatum\"])[\"fälle_100_land\"].sum().fillna(0).reset_index()\n",
    "rolling_fall_bundesland = fälle_je_tag_bundesland.groupby([\"Bundesland\"]).rolling(7, on=\"Meldedatum\")[\"fälle_100_land\"].mean().fillna(0).reset_index()\n",
    "line = alt.Chart(rolling_fall_bundesland).mark_line().encode(\n",
    "    x=\"Meldedatum:T\", \n",
    "    y=\"fälle_100_land:Q\", \n",
    "    color=\"Bundesland\",\n",
    "    tooltip=['Bundesland', 'fälle_100_land']\n",
    ")\n",
    "line"
   ]
  },
  {
   "cell_type": "code",
   "execution_count": null,
   "metadata": {},
   "outputs": [],
   "source": [
    "agg_timeline"
   ]
  },
  {
   "cell_type": "code",
   "execution_count": null,
   "metadata": {},
   "outputs": [],
   "source": [
    "sel_neg = alt.selection_multi(fields=[\"Bundesland\"], empty='none')\n",
    "sel = alt.selection_multi(fields=[\"Bundesland\"])\n",
    "\n",
    "fig = county_map.encode(\n",
    "    color=alt.condition(sel_neg, alt.value('red'), 'cnt:Q'),\n",
    ").add_selection(sel).add_selection(sel_neg)\n",
    "\n",
    "fig | (line.transform_filter(sel) & \\\n",
    "       agg_timeline.transform_filter(sel)\n",
    "      ).resolve_scale(color='independent')"
   ]
  },
  {
   "cell_type": "markdown",
   "metadata": {},
   "source": [
    "# Landkreise"
   ]
  },
  {
   "cell_type": "code",
   "execution_count": null,
   "metadata": {},
   "outputs": [],
   "source": [
    "data = data_landkreise[[\"GEN\", \"BL\", \"BEZ\", \"cases7_lk\",\"death7_lk\",\"cases7_per_100k\",\"cases7_bl_per_100k\"]]\n",
    "\n",
    "brush = alt.selection_interval(empty='none', zoom=False)\n",
    "brush = alt.selection_interval(fields=['GEN:N'], empty='none', zoom=False)\n",
    "\n",
    "color = alt.condition(sel_neg,\n",
    "                      alt.Color('BL:N', legend=None),\n",
    "                      alt.value('lightgray'))\n",
    "\n",
    "scatter = alt.Chart(data).mark_circle().encode(\n",
    "    x=alt.X(\"cases7_lk\", scale=alt.Scale(type=\"log\", zero=False)),\n",
    "    y=\"cases7_per_100k\",\n",
    "    color=color,\n",
    "    tooltip=['GEN', 'BL', 'cases7_lk', 'cases7_per_100k']\n",
    ").add_selection(sel_neg)#.interactive()"
   ]
  },
  {
   "cell_type": "code",
   "execution_count": null,
   "metadata": {},
   "outputs": [],
   "source": [
    "#category = \"Bundesland\"\n",
    "category = \"Landkreis\"\n",
    "if category == \"Bundesland\":\n",
    "    map_data = alt.topo_feature(map_url, 'states')\n",
    "if category == \"Landkreis\":\n",
    "    map_data = alt.topo_feature(map_url, 'counties')\n",
    "\n",
    "#cnt_data = rki_data.groupby([\"GEN\",\"Bundesland\"]).size().to_frame(\"cnt\")\n",
    "#cnt_data = rki_data.loc[rki_data.Meldedatum == rki_data.Meldedatum.max()].groupby([\"GEN\"]).cases7_lk.mean().to_frame(\"cnt\").reset_index()\n",
    "#cnt_data = rki_data.groupby([\"GEN\",\"Meldedatum\"]).AnzahlFall.sum().reset_index().pipe(lambda df: df.loc[df.groupby(\"GEN\").Meldedatum.idxmax()])\n",
    "\n",
    "cnt_data = data_landkreise[[\"GEN\", \"BL\", \"BEZ\", \"cases7_lk\",\"death7_lk\",\"cases7_per_100k\",\"cases7_bl_per_100k\"]]\n",
    "\n",
    "sel_neg = alt.selection_multi(fields=[\"GEN\"], init=[{'GEN': 'Köln'}, {'GEN': 'Frankfurt am Main'}], empty='none')\n",
    "sel = alt.selection_multi(fields=[\"GEN\"], init=[{'GEN': 'Köln'}, {'GEN': 'Frankfurt am Main'}])\n",
    "\n",
    "\n",
    "fälle_je_tag = rki_data.query(\"Meldedatum > '2020-10-15'\").groupby([\"GEN\",\"Meldedatum\"])[\"fälle_100_kreis\"].sum().fillna(0).reset_index()\n",
    "rolling_fall = fälle_je_tag.groupby([\"GEN\"]).rolling(7, on=\"Meldedatum\")[\"fälle_100_kreis\"].mean().fillna(0).reset_index()\n",
    "\n",
    "timeline = alt.Chart(rolling_fall).mark_line().encode(\n",
    "    x=\"Meldedatum:T\", \n",
    "    y=\"fälle_100_kreis:Q\", \n",
    "    color=\"GEN\",\n",
    "    tooltip=[\"GEN\"]\n",
    ")\n",
    "\n",
    "county_map = alt.Chart(map_data).mark_geoshape().encode(\n",
    "    color=alt.condition(sel_neg, alt.value('red'), 'cases7_per_100k:Q'),\n",
    "    tooltip='GEN:N',\n",
    ").transform_lookup(\n",
    "    lookup='properties.name',\n",
    "    from_=alt.LookupData(cnt_data, \"GEN\", [\"GEN\",'cases7_per_100k'])\n",
    ").add_selection(sel).add_selection(sel_neg)\n",
    "\n",
    "county_map.properties(width=500, height=800) | timeline.transform_filter(sel) & scatter"
   ]
  },
  {
   "cell_type": "markdown",
   "metadata": {},
   "source": [
    "# Conclusion \n",
    "\n",
    "## Strengths\n",
    "\n",
    "* Modular, Logical Concept\n",
    "* Interactions!\n",
    "* Support on Geo-Data\n",
    "* Handling of [many data](https://altair-viz.github.io/user_guide/faq.html#maxrowserror-how-can-i-plot-large-datasets)\n",
    "* [Flexibility](https://www.youtube.com/watch?v=SNaWwk_HzK0)\n",
    "        \n",
    "## Weaknesses\n",
    "\n",
    "* Cumbersome definitions\n",
    "* Sometimes unclear behaivor\n",
    "* Still some bugs and missing support for elementary things ([See my issues](https://github.com/altair-viz/altair/issues?q=author%3Akrlng+))\n",
    "\n",
    "## When do I use what?\n",
    "\n",
    "* Typical static Chart: Seaborn\n",
    "* Complex static Chart: Matplotlib\n",
    "* Typical interactive Chart: Plotly Express\n",
    "* Complex interactive Chart: Altair"
   ]
  },
  {
   "cell_type": "markdown",
   "metadata": {},
   "source": [
    "# Sonstiges"
   ]
  },
  {
   "cell_type": "code",
   "execution_count": null,
   "metadata": {},
   "outputs": [],
   "source": [
    "brush = alt.selection_interval() \n",
    "\n",
    "\n",
    "legend_selection = alt.selection_multi(fields=['set'], bind='legend')\n",
    "\n",
    "#\n",
    "chart = alt.Chart(data.query(\"(training_points <65000) & (rel<2)\")).mark_circle().encode(\n",
    "    alt.X('training_points', scale=alt.Scale(zero=False)),\n",
    "    alt.Y(\"rel\"),\n",
    "    color=alt.condition(brush | legend_selection, 'set:N', alt.value('lightgray'), sort=sorter)\n",
    ").add_selection(brush).add_selection(legend_selection).properties(width=800)\n",
    "\n",
    "bar =  alt.Chart(data, width=800).mark_bar().encode(y=alt.Y(\"set\",sort=sorter)).transform_filter( brush ).properties(width=300)\n",
    "\n",
    "err_bars = bar.encode(x=alt.X(\"average(rel)\", scale=alt.Scale(zero=False)), color=alt.condition(legend_selection, \"stdev(rel):Q\", alt.value('lightgray'), sort=sorter))\n",
    "est_bars = bar.encode(x=alt.X(\"average(params_n_estimators_)\", scale=alt.Scale(domain=(100,1000))), color=alt.condition(legend_selection, \"stdev(params_n_estimators_):Q\", alt.value('lightgray'), sort=sorter))\n",
    "fit_bars = bar.encode(x=alt.X(\"average(fit_time)\", scale=alt.Scale(zero=False)), color=alt.condition(legend_selection, \"stdev(fit_time):Q\", alt.value('lightgray'), sort=sorter))\n",
    "cnt_bars = bar.encode(x=\"count(fit_time)\")\n",
    "chart &  (((err_bars | est_bars) & (fit_bars | cnt_bars)).resolve_scale(color = 'independent') )"
   ]
  },
  {
   "cell_type": "code",
   "execution_count": null,
   "metadata": {},
   "outputs": [],
   "source": [
    "source = data.set_index(\"set\").rel.clip(0,2).reset_index()\n",
    "\n",
    "best_set = source.groupby(\"set\").rel.mean().idxmin()\n",
    "selection = alt.selection_single(fields=[\"set\"], init={'set': best_set})\n",
    "ticks = alt.Chart(source, width=800, height=200).mark_tick().encode(\n",
    "    y=\"set:N\", \n",
    "    x=\"rel:Q\",\n",
    "    color=alt.condition(selection, alt.value('navy'), alt.value('lightgray'))\n",
    ").add_selection(selection)\n",
    "\n",
    "hist = alt.Chart(source).mark_bar().encode(\n",
    "    alt.X('rel:Q', bin=alt.Bin(1, step=0.05)),\n",
    "    alt.Y('count():Q'),\n",
    ")\n",
    "\n",
    "density = alt.Chart(source).transform_bin(\n",
    "    \"binned_rel\", \"rel\", bin=alt.Bin(1, step=0.05)\n",
    ").transform_density(\n",
    "    'binned_rel',\n",
    "    as_=['rel', 'density'],\n",
    "    counts=True,\n",
    ").mark_area().encode(\n",
    "    alt.X('rel:Q'),\n",
    "    alt.Y('density:Q'),\n",
    "    opacity=alt.value(0.5)\n",
    ")\n",
    "\n",
    "ticks & (hist + density).resolve_scale(\n",
    "    y='independent'\n",
    ").transform_filter(\n",
    "    selection\n",
    ").properties(width=800, height=200)"
   ]
  }
 ],
 "metadata": {
  "kernelspec": {
   "display_name": "Python [conda env:ds]",
   "language": "python",
   "name": "conda-env-ds-py"
  },
  "language_info": {
   "codemirror_mode": {
    "name": "ipython",
    "version": 3
   },
   "file_extension": ".py",
   "mimetype": "text/x-python",
   "name": "python",
   "nbconvert_exporter": "python",
   "pygments_lexer": "ipython3",
   "version": "3.8.2"
  },
  "toc-autonumbering": true
 },
 "nbformat": 4,
 "nbformat_minor": 4
}
