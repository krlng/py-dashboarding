{
 "cells": [
  {
   "cell_type": "markdown",
   "id": "70224847-1977-425e-8d61-d66ee92dd7ba",
   "metadata": {
    "jp-MarkdownHeadingCollapsed": true,
    "slideshow": {
     "slide_type": "slide"
    },
    "tags": []
   },
   "source": [
    "**A picture is worth a thousand words - Visual Data Exploration**\n",
    "\n",
    "Data is manifold, which makes it hard to discover its secrets and hidden relationships. Data Scientists can rack their brain on descriptive statistics or choose to explore the data using interactive visualisation tools. While both ways have benefits and dangerous pitfalls, the latter is definitely the more fun. This talk will help you discover your data visually by showing how you can quickly transform simple plots into powerful, interactive dashboards using Panel. Furthermore, it will provide you with a quick overview over Python’s most loved interactive plotting librarie "
   ]
  },
  {
   "cell_type": "markdown",
   "id": "fa53a89d-1a58-440f-b328-4e8477f58f60",
   "metadata": {
    "slideshow": {
     "slide_type": "slide"
    },
    "tags": []
   },
   "source": [
    "# Why visual data exploration?"
   ]
  },
  {
   "cell_type": "markdown",
   "id": "7358b780-844e-4dbb-a78e-9c504d334147",
   "metadata": {
    "slideshow": {
     "slide_type": "subslide"
    },
    "tags": []
   },
   "source": [
    "## \"The human brain processes images 60,000 times faster than text.\" - [some shady website](https://www.t-sciences.com/news/humans-process-visual-data-better)"
   ]
  },
  {
   "cell_type": "code",
   "execution_count": null,
   "id": "ae421eab-f95c-4e52-875f-8dbac1228614",
   "metadata": {
    "slideshow": {
     "slide_type": "fragment"
    },
    "tags": []
   },
   "outputs": [],
   "source": [
    "import pandas as pd\n",
    "s = pd.Series([1,2,23,23,3,1,21,22,4,2,4,2,3,4,132,1,3,2])\n",
    "s.describe()"
   ]
  },
  {
   "cell_type": "code",
   "execution_count": null,
   "id": "91d52e71-4b0a-4ae8-9dae-914693bc1292",
   "metadata": {
    "slideshow": {
     "slide_type": "fragment"
    },
    "tags": []
   },
   "outputs": [],
   "source": [
    "s.hist(bins=40)"
   ]
  },
  {
   "cell_type": "markdown",
   "id": "10bad9f3-7f39-466a-befb-af7d446e2b5a",
   "metadata": {
    "slideshow": {
     "slide_type": "subslide"
    },
    "tags": []
   },
   "source": [
    "## Descriptive statistics are hiding many information"
   ]
  },
  {
   "cell_type": "code",
   "execution_count": null,
   "id": "77da0abc-49eb-4bc0-a6d7-41d519b92a13",
   "metadata": {
    "slideshow": {
     "slide_type": "fragment"
    },
    "tags": []
   },
   "outputs": [],
   "source": [
    "df = pd.DataFrame({\"a\": s, \"b\": s.sort_index(ascending=False).to_list()})\n",
    "df.describe()"
   ]
  },
  {
   "cell_type": "code",
   "execution_count": null,
   "id": "4e7cd0d1-81cb-45f7-be2f-47c78f4987d1",
   "metadata": {
    "slideshow": {
     "slide_type": "fragment"
    },
    "tags": []
   },
   "outputs": [],
   "source": [
    "df.plot.scatter(x=\"a\", y=\"b\")"
   ]
  },
  {
   "cell_type": "markdown",
   "id": "a090559d-410f-4dcd-aa75-d3efc7d2c79a",
   "metadata": {
    "slideshow": {
     "slide_type": "slide"
    },
    "tags": []
   },
   "source": [
    "# Getting Started"
   ]
  },
  {
   "cell_type": "markdown",
   "id": "e3bf88ec-bce9-4087-b6fe-24fe83e9b880",
   "metadata": {
    "slideshow": {
     "slide_type": "fragment"
    },
    "tags": []
   },
   "source": [
    "## Import and Data\n",
    "\n",
    "* Loading some plotting libraries\n",
    "* Loading panel and activating it with [vega](https://vega.github.io/vega/) as plotting backend\n",
    "* Load Covid data from [our world in data](https://covid.ourworldindata.org)"
   ]
  },
  {
   "cell_type": "code",
   "execution_count": null,
   "id": "32df48aa-b9ff-403a-82ee-e11d26c8208f",
   "metadata": {
    "slideshow": {
     "slide_type": "subslide"
    },
    "tags": []
   },
   "outputs": [],
   "source": [
    "import matplotlib.pyplot as plt\n",
    "import pandas as pd\n",
    "import altair as alt\n",
    "import seaborn as sns"
   ]
  },
  {
   "cell_type": "code",
   "execution_count": null,
   "id": "1129700e-f37b-4e00-ba8f-ef861b77e0db",
   "metadata": {
    "slideshow": {
     "slide_type": "subslide"
    },
    "tags": []
   },
   "outputs": [],
   "source": [
    "import panel as pn\n",
    "\n",
    "pn.extension(\"vega\")"
   ]
  },
  {
   "cell_type": "code",
   "execution_count": null,
   "id": "20de831e-f1bc-498c-9b8a-a028afba7844",
   "metadata": {
    "slideshow": {
     "slide_type": "subslide"
    },
    "tags": []
   },
   "outputs": [],
   "source": [
    "#!wget https://covid.ourworldindata.org/data/owid-covid-data.csv -O ../data/owid-covid-data.csv \n",
    "raw_data = pd.read_csv(\"../data/owid-covid-data.csv\")\n",
    "\n",
    "countries = raw_data.dropna(subset=[\"continent\"])\n",
    "countries[\"date\"] = pd.to_datetime(countries.date)\n",
    "countries_actual = countries.query(f\"date == '{countries.date.max()}'\")\n",
    "print(f\"defined \\\"countries_actual\\\" based on date {countries.date.max().date()}\")"
   ]
  },
  {
   "cell_type": "markdown",
   "id": "eac2c0d6-3c44-44d9-8131-c25c7e43fef0",
   "metadata": {
    "slideshow": {
     "slide_type": "slide"
    },
    "tags": []
   },
   "source": [
    "## From a figure to a Dashboard\n",
    "\n",
    "* Visualize total covid cases over time\n",
    "* Use `pn.interactive` to transform any python function into a minimal dashboard"
   ]
  },
  {
   "cell_type": "code",
   "execution_count": null,
   "id": "3d417e51-b27f-4492-9b6e-d3582b8ba8ed",
   "metadata": {},
   "outputs": [],
   "source": [
    "df = countries.pivot(\"date\",\"location\", \"total_cases\")\n",
    "df[[\"Germany\",\"France\"]].plot.line(figsize=(16, 4))"
   ]
  },
  {
   "cell_type": "code",
   "execution_count": null,
   "id": "d82e6bac-9448-492b-9c31-2ff766966d56",
   "metadata": {},
   "outputs": [],
   "source": [
    "def create_plot(location = \"Germany\"):\n",
    "    df = countries.pivot(\"date\",\"location\", \"total_cases\")\n",
    "    fig = df[[location]].plot.line(title=f\"total cases for {location}\", figsize=(16, 4))\n",
    "    return fig"
   ]
  },
  {
   "cell_type": "code",
   "execution_count": null,
   "id": "acb230a8-3829-4ed7-a8c8-afb97bdf6e61",
   "metadata": {},
   "outputs": [],
   "source": [
    "create_plot(\"France\")"
   ]
  },
  {
   "cell_type": "code",
   "execution_count": null,
   "id": "942e031c-4b97-48a6-9a56-e4bb8785cdbc",
   "metadata": {},
   "outputs": [],
   "source": [
    "def create_custom_attr_plot(location = \"Germany\", metric=\"total_cases_per_million\"):\n",
    "    df = countries.pivot(\"date\",\"location\", metric).loc[:, location]\n",
    "    fig = df.plot.line(figsize=(16, 4), title=f\"{metric} for {location}\").get_figure()\n",
    "    plt.close()\n",
    "    return fig\n",
    "\n",
    "european_countries = countries.query(\"continent == 'Europe'\").location.drop_duplicates().to_list()\n",
    "metrics = countries.filter(like=\"per_million\").columns.to_list()"
   ]
  },
  {
   "cell_type": "code",
   "execution_count": null,
   "id": "19a39889-ae5f-4012-87d8-5512f059230c",
   "metadata": {
    "tags": []
   },
   "outputs": [],
   "source": [
    "pn.interact(create_custom_attr_plot, location=european_countries, metric=metrics)"
   ]
  },
  {
   "cell_type": "markdown",
   "id": "2f2665e4-29f9-4778-aa35-180b74b4e0e7",
   "metadata": {},
   "source": [
    "## Creating Dashboards using the Parameterized class\n",
    "\n",
    "* [Param](https://param.holoviz.org/) is powerful python library to create user-modifiable parameters to control code execution\n",
    "* Using `param.Parameterized` the executables can be bound to parameters\n",
    "* `pn.widgets` offer addition input elements such as multi-select"
   ]
  },
  {
   "cell_type": "code",
   "execution_count": null,
   "id": "388b0e87-55e2-4e3e-95b0-8c2b542dec07",
   "metadata": {
    "tags": []
   },
   "outputs": [],
   "source": [
    "import param\n",
    "class PlotTimeline(param.Parameterized):\n",
    "    def __init__(self, locations, metrics, default_location = \"Germany\", default_metric = \"new_cases_per_million\", **params):\n",
    "        super(PlotTimeline, self).__init__(**params)\n",
    "        self.location = pn.widgets.MultiChoice(name='Countries', value=[default_location], options=locations)\n",
    "        self.target_col = pn.widgets.Select(name='Cols', value=default_metric,  options=metrics)\n",
    "\n",
    "    def config(self):\n",
    "        return pn.Column(self.location, self.target_col)\n",
    "    \n",
    "    @pn.depends('location.value', 'target_col.value')\n",
    "    def view(self, *events, **kwargs):\n",
    "        df = countries.pivot(\"date\",\"location\", self.target_col.value).loc[:, self.location.value]\n",
    "        fig = df.plot.line(figsize=(16, 4), title=f\"{self.target_col.value} for {self.location.value}\").get_figure()\n",
    "        plt.close()\n",
    "        return fig"
   ]
  },
  {
   "cell_type": "code",
   "execution_count": null,
   "id": "6cf9c4a3-442a-467d-89af-7cd8dee214e6",
   "metadata": {},
   "outputs": [],
   "source": [
    "country_names = countries.location.drop_duplicates().to_list()\n",
    "metrics = countries.filter(like=\"per_million\").columns.to_list()\n",
    "\n",
    "timeline = PlotTimeline(country_names, metrics)"
   ]
  },
  {
   "cell_type": "code",
   "execution_count": null,
   "id": "79d2301f-86db-4f27-96d4-304fd4bbe498",
   "metadata": {},
   "outputs": [],
   "source": [
    "pn.Row(timeline.config, timeline.view)"
   ]
  },
  {
   "cell_type": "markdown",
   "id": "ab62b27b-6448-49ac-a276-6a70811e104c",
   "metadata": {
    "tags": []
   },
   "source": [
    "# Using Altair for dashboards\n",
    "\n",
    "* [Altair](https://altair-viz.github.io/) is a declarative, descriptive visualization library for python\n",
    "* Implements the [*grammer of graphics*](https://link.springer.com/book/10.1007/0-387-28695-0) paradigm based on [vega](https://vega.github.io/vega/) and [vega-lite](https://vega.github.io/vega-lite/)"
   ]
  },
  {
   "cell_type": "code",
   "execution_count": null,
   "id": "f9af414a-13ab-417d-b6f8-9adc9d00f39a",
   "metadata": {},
   "outputs": [],
   "source": [
    "cols = [\"total_cases_per_million\",\"total_deaths_per_million\", \"people_vaccinated_per_hundred\",\"life_expectancy\", \"human_development_index\"]\n",
    "df_long_form = countries_actual.loc[countries_actual.location.isin([\"Germany\",\"Argentina\",\"France\"]),[\"continent\",\"location\"]+cols].melt([\"continent\",\"location\"])   "
   ]
  },
  {
   "cell_type": "code",
   "execution_count": null,
   "id": "123cfcc4-07b1-4471-b9c9-5e816ed168fb",
   "metadata": {},
   "outputs": [],
   "source": [
    "fig = alt.Chart(df_long_form, width=120, height=200).mark_point().encode(\n",
    "    y=\"value\", \n",
    "    shape=\"continent\", \n",
    "    column=\"variable\", \n",
    "    color=\"location\", \n",
    "    x=\"continent\", \n",
    "    tooltip=[\"location\", \"continent\"]\n",
    ").resolve_scale(y=\"independent\")\n",
    "fig"
   ]
  },
  {
   "cell_type": "code",
   "execution_count": null,
   "id": "2758f22a-a4ae-4578-b722-6a8f0b36eea4",
   "metadata": {
    "tags": []
   },
   "outputs": [],
   "source": [
    "import plotly.express as px\n",
    "import param\n",
    "class Plot(param.Parameterized):\n",
    "    def __init__(self, locations, default_location = [\"Germany\",\"Argentina\",\"France\"], **params):\n",
    "        super(Plot, self).__init__(**params)\n",
    "        self.location = pn.widgets.MultiChoice(name='Countries', options=locations)\n",
    "\n",
    "    def config(self):\n",
    "        return pn.Column(self.location)\n",
    "    \n",
    "    @pn.depends('location.value')\n",
    "    def view(self, *events, **kwargs):\n",
    "        cols = [\"total_cases_per_million\",\"total_deaths_per_million\", \"people_vaccinated_per_hundred\",\"life_expectancy\", \"human_development_index\"]\n",
    "        df = countries_actual.loc[countries_actual.location.isin(self.location.value),[\"continent\",\"location\"]+cols].melt([\"continent\",\"location\"])\n",
    "        fig = alt.Chart(df, width=120, height=200).mark_point().encode(\n",
    "            y=\"value\", shape=\"continent\", column=\"variable\", color=\"location\", x=\"continent\",  tooltip=[\"location\", \"continent\"]\n",
    "        ).resolve_scale(y=\"independent\")\n",
    "        return fig\n",
    "\n",
    "country_names = countries.location.drop_duplicates().to_list()\n",
    "\n",
    "multiple_1d_scatter = Plot(country_names)\n",
    "\n",
    "pn.Row(multiple_1d_scatter.config, multiple_1d_scatter.view, max_height=400)"
   ]
  },
  {
   "cell_type": "markdown",
   "id": "12e90431-7afb-4cee-b051-6e93f15078ff",
   "metadata": {},
   "source": [
    "# Graphical data selection using Bokeh\n",
    "\n",
    "* [Bokeh](https://bokeh.org/) is an open-source interactive python plotting library\n",
    "* It bridges JavaScript and Python, thereby frontend events can effect python code\n",
    "* This enables chart-selections events can change python variables\n",
    "* Furthermore Bokeh also offers data tables"
   ]
  },
  {
   "cell_type": "code",
   "execution_count": null,
   "id": "695fdf3a-158f-41c1-9a1d-045e4392d475",
   "metadata": {},
   "outputs": [],
   "source": [
    "from bokeh.models import CustomJS, ColumnDataSource\n",
    "from bokeh.models.widgets import DataTable, TableColumn\n",
    "from bokeh.plotting import figure\n",
    "from bokeh.events import SelectionGeometry, Reset"
   ]
  },
  {
   "cell_type": "code",
   "execution_count": null,
   "id": "cabcb441-d558-45a9-ba5e-49e20c039258",
   "metadata": {},
   "outputs": [],
   "source": [
    "# Get Data\n",
    "table_columns = [\"continent\", \"location\"] + countries_actual.filter(like=\"new\").columns.to_list() + countries_actual.filter(like=\"total\").columns.to_list()\n",
    "table_data = countries_actual[table_columns].query(\"total_cases > 10\").fillna(0)\n",
    "\n",
    "# Create a Scatter Chart\n",
    "selector = ColumnDataSource(data=table_data.to_dict(orient=\"list\"))\n",
    "scatter = figure(plot_width=400, plot_height=400, tools=\"lasso_select,box_zoom,pan,zoom_in,zoom_out,reset\", active_drag=\"lasso_select\", title=\"Select a Country\")\n",
    "scatter.circle('total_cases', 'total_deaths', source=selector)\n",
    "pn.Row(scatter)"
   ]
  },
  {
   "cell_type": "code",
   "execution_count": null,
   "id": "df97bc2e-e8f5-41da-8205-865f5987eda8",
   "metadata": {},
   "outputs": [],
   "source": [
    "# Create DataTable\n",
    "column_data = ColumnDataSource(data=table_data.sample(0).to_dict(orient=\"list\"))\n",
    "table = DataTable(\n",
    "    columns=[TableColumn(field=x, title=x) for x in table_data.columns],\n",
    "    source=column_data, \n",
    "    max_width = 1500,\n",
    "    height = 100,\n",
    "    sizing_mode = \"scale_width\",\n",
    "    autosize_mode=\"fit_viewport\",\n",
    ")"
   ]
  },
  {
   "cell_type": "code",
   "execution_count": null,
   "id": "282bad4d-9c1a-469d-9c61-923c68da9474",
   "metadata": {},
   "outputs": [],
   "source": [
    "# Create the filter-functionality Scatter -> Table\n",
    "js_mappings = {\n",
    "            \"table_data\": column_data,\n",
    "            \"data_source\": eval(table_data.to_json(orient=\"records\"))\n",
    "        }\n",
    "selector.selected.js_on_change('indices', CustomJS(args=js_mappings, code=\"\"\"\n",
    "        var inds = cb_obj.indices;\n",
    "        var table = table_data.data;\n",
    "\n",
    "        Object.keys(table).forEach(function(key){\n",
    "            console.log(key)\n",
    "            table[key] = []\n",
    "            for (var i = 0; i < inds.length; i++) {\n",
    "                table[key].push(data_source[inds[i]][key])\n",
    "            }\n",
    "        })\n",
    "        table_data.change.emit();\n",
    "    \"\"\"))"
   ]
  },
  {
   "cell_type": "code",
   "execution_count": null,
   "id": "7fcb5ae2-41c4-4f4f-816a-188e472ba565",
   "metadata": {
    "tags": []
   },
   "outputs": [],
   "source": [
    "pn.Row(scatter, table)"
   ]
  },
  {
   "cell_type": "markdown",
   "id": "0ddf72e6-66ff-49b2-894d-9ff79a30cd4f",
   "metadata": {
    "tags": []
   },
   "source": [
    "# Combining everything a full dashboard\n",
    "\n",
    "* Using panel different visualization libraries can be combined\n",
    "* `on_change` binds a javascript **property** to a python function execution \n",
    "* `on_event` binds a javascript **event-trigger** to a python function execution"
   ]
  },
  {
   "cell_type": "markdown",
   "id": "8818db43-89d5-4a7a-bc54-35883baa4816",
   "metadata": {},
   "source": [
    "## Table Selection event"
   ]
  },
  {
   "cell_type": "code",
   "execution_count": null,
   "id": "61397391-c712-4508-b631-468afb05bdda",
   "metadata": {},
   "outputs": [],
   "source": [
    "column_data_full = ColumnDataSource(data=table_data.to_dict(orient=\"list\"))\n",
    "\n",
    "def select_user(attr, old, new):\n",
    "    ids = [x for pos, x in enumerate(selector.selected.indices) if pos in new]\n",
    "    locations = table_data.iloc[ids][\"location\"].to_list()\n",
    "    timeline.location.value = locations\n",
    "\n",
    "\n",
    "tab = DataTable(\n",
    "    columns=[TableColumn(field=x, title=x) for x in table_data.columns],\n",
    "    source=column_data_full, \n",
    "    max_width = 1500,\n",
    "    height = 100,\n",
    "    sizing_mode = \"scale_width\",\n",
    "    autosize_mode=\"fit_viewport\",\n",
    ")    \n",
    "column_data_full.selected.on_change(\"indices\", select_user)\n",
    "pn.Column(tab, timeline.view)"
   ]
  },
  {
   "cell_type": "markdown",
   "id": "488bb1cc-6457-498e-8790-5908e186d2c7",
   "metadata": {},
   "source": [
    "## Lasso Selection"
   ]
  },
  {
   "cell_type": "code",
   "execution_count": null,
   "id": "fa2071d0-2653-436c-b634-f79400cd7e35",
   "metadata": {},
   "outputs": [],
   "source": [
    "# Create the filter-functionality Scatter -> Panel Group Dashboard\n",
    "def select_group(event):\n",
    "    if event.final is True:\n",
    "        ids = [x for pos, x in enumerate(selector.selected.indices)]\n",
    "        locations = table_data.iloc[ids][\"location\"].to_list()\n",
    "        multiple_1d_scatter.location.value = locations\n",
    "\n",
    "scatter.on_event(SelectionGeometry, select_group)\n",
    "scatter.on_event(Reset, select_group)"
   ]
  },
  {
   "cell_type": "code",
   "execution_count": null,
   "id": "057ae85e-ade9-4b7d-bd72-0d14c9e0390a",
   "metadata": {},
   "outputs": [],
   "source": [
    "pn.Row(scatter, multiple_1d_scatter.view)"
   ]
  },
  {
   "cell_type": "markdown",
   "id": "c9f83fad-84b7-41d2-af6d-76bc8797f42b",
   "metadata": {
    "tags": []
   },
   "source": [
    "## Creating the final structure: The 3-layer approach\n",
    "\n",
    "    1. Layer: High-Level overview of all data points with limited information (Scatter Chart)\n",
    "    2. Layer: visualizations and table to show a group of points and gain understanding (1D-scatter chart + data table)\n",
    "    3. Layer: Detailed visualizations on single data points"
   ]
  },
  {
   "cell_type": "code",
   "execution_count": null,
   "id": "cb0525c3-d7bb-452e-832a-a2d0289e5685",
   "metadata": {},
   "outputs": [],
   "source": [
    "# Create the filter-functionality Scatter -> Panel Group Dashboard\n",
    "def select_group(event):\n",
    "    if event.final is True:\n",
    "        ids = [x for pos, x in enumerate(selector.selected.indices)]\n",
    "        locations = table_data.iloc[ids][\"location\"].to_list()\n",
    "        multiple_1d_scatter.location.value = locations\n",
    "\n",
    "scatter.on_event(SelectionGeometry, select_group)\n",
    "scatter.on_event(Reset, select_group)\n",
    "\n",
    "# Create the filter-functionality Table -> Layer 3 detailed timeline\n",
    "def select_user(attr, old, new):\n",
    "    ids = [x for pos, x in enumerate(selector.selected.indices) if pos in new]\n",
    "    locations = table_data.iloc[ids][\"location\"].to_list()\n",
    "    timeline.location.value = locations\n",
    "\n",
    "column_data.selected.on_change(\"indices\", select_user)\n",
    "pn.Column(table, timeline )\n",
    "\n",
    "# Show the whole Dashboard\n",
    "dashboard = pn.Column(\n",
    "    pn.Row(scatter, multiple_1d_scatter.view), \n",
    "    table, \n",
    "    pn.Row(timeline.config, timeline.view),\n",
    "    title=\"Covid Dashboard\"\n",
    ")"
   ]
  },
  {
   "cell_type": "code",
   "execution_count": null,
   "id": "2849caf1-111d-4320-a250-80045d01e245",
   "metadata": {
    "slideshow": {
     "slide_type": "subslide"
    },
    "tags": []
   },
   "outputs": [],
   "source": [
    "dashboard"
   ]
  },
  {
   "cell_type": "code",
   "execution_count": null,
   "id": "2ba9742b-0986-4758-aeed-208ed5b6d3d0",
   "metadata": {},
   "outputs": [],
   "source": [
    "pn.serve(dashboard)"
   ]
  },
  {
   "cell_type": "code",
   "execution_count": null,
   "id": "f9f1c2f0-5379-47b0-9933-ffc2450d388f",
   "metadata": {
    "slideshow": {
     "slide_type": "subslide"
    },
    "tags": []
   },
   "outputs": [],
   "source": [
    "%run _prepare.ipynb"
   ]
  }
 ],
 "metadata": {
  "kernelspec": {
   "display_name": "py-dashboarding",
   "language": "python",
   "name": "py-dashboarding"
  },
  "language_info": {
   "codemirror_mode": {
    "name": "ipython",
    "version": 3
   },
   "file_extension": ".py",
   "mimetype": "text/x-python",
   "name": "python",
   "nbconvert_exporter": "python",
   "pygments_lexer": "ipython3",
   "version": "3.8.7"
  },
  "toc-autonumbering": false,
  "toc-showcode": false,
  "toc-showmarkdowntxt": false
 },
 "nbformat": 4,
 "nbformat_minor": 5
}
