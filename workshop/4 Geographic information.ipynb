{
 "cells": [
  {
   "cell_type": "code",
   "execution_count": null,
   "id": "e599c981-f26e-4917-8638-8123d43306fc",
   "metadata": {},
   "outputs": [],
   "source": [
    "%run _prepare.ipynb"
   ]
  },
  {
   "cell_type": "markdown",
   "id": "5f77329d-825e-4593-a3fc-b6dcb9bd1c4f",
   "metadata": {},
   "source": [
    "# Geographic information (Notebook 4)\n",
    "\n",
    "Maps are a great way to visualize geographc information, as they are intuitive as well as expressive.\n",
    "\n",
    "The main types of maps used are:\n",
    " * **Symbols maps** (visualizing exact geographic locations)\n",
    " * **Choropleth maps** (visualizing areas with clear boundries)\n",
    " \n",
    "Aside of these, there are also some rather special maps:\n",
    " * **Hexagon maps** (for voting districts)\n",
    " * **isarithmic** (for weather maps)\n",
    " * **Voronoi** (construct a choropleth-style mape using points)\n",
    "\n",
    "As our dataset contains country aggreagtions and those have a clear area, we will only use choropleth maps."
   ]
  },
  {
   "cell_type": "markdown",
   "id": "8668e9d7-1e65-4f98-9927-d8c4fa38bd5b",
   "metadata": {},
   "source": [
    "## Using plotly"
   ]
  },
  {
   "cell_type": "markdown",
   "id": "d32f524e-6dd4-4e6c-8883-c3b9e4354b86",
   "metadata": {},
   "source": [
    "Plotly enables us the easily create a map for countries, as it does some intelligent lookup of countries iso-codes and maps those to positions within a world-map."
   ]
  },
  {
   "cell_type": "code",
   "execution_count": null,
   "id": "cb2cfb92-11ff-43d0-88d1-9dbc3946d3d7",
   "metadata": {},
   "outputs": [],
   "source": [
    "px.choropleth(countries.sort_values(\"year\"), \n",
    "    locations=\"iso_code\", \n",
    "    color=\"co2\", \n",
    "    hover_name=\"iso_code\", \n",
    "    animation_frame=\"year\",\n",
    "   width=1000, height=550)\n"
   ]
  },
  {
   "cell_type": "markdown",
   "id": "a1395744-5960-419c-8744-2a4a493d2483",
   "metadata": {},
   "source": [
    "A great feature of plotly is its `animation_frame` feature, which allows us to easily "
   ]
  },
  {
   "cell_type": "code",
   "execution_count": null,
   "id": "180dd0d0-7246-4942-b02e-341cbfd74640",
   "metadata": {},
   "outputs": [],
   "source": [
    "px.choropleth(countries.sort_values(\"year\"), \n",
    "    locations=\"iso_code\", \n",
    "    color=\"co2\", \n",
    "    hover_name=\"iso_code\", \n",
    "    animation_frame=\"year\",\n",
    "   width=1000, height=550)\n"
   ]
  },
  {
   "cell_type": "markdown",
   "id": "230562e1-a3f7-42ff-b6ce-1c43ff833ae5",
   "metadata": {},
   "source": [
    "# Projections\n",
    "\n",
    "As our earth is a three dimensional sphere, it is impossible to project it to a two dimensional plane without loosing some information. The main aspects of geography are:\n",
    "\n",
    "* shape of the continents / countries\n",
    "* area\n",
    "* angles\n",
    "* distances\n",
    "* directions\n",
    "\n",
    "All projections need to make some compromises. Some popular examples:\n",
    "* Mercator (used in Google maps): Drops the area proportions\n",
    "* Exotisch: Lambert (keep size, not shape), Goode’s Homolsine (mix of conformal and equal area), \n",
    "* Gute Kompromisse: Mollweide (no rectangular form), Natural Earth, Robinson\n",
    "\n",
    "For more info, read [this article](https://www.axismaps.com/guide/map-projections).\n",
    "\n",
    "Generally it is important to note, that those aspects are less relevant for narrow visualiatzions (for example of a single city) and grow as we want to project the whole globe."
   ]
  },
  {
   "cell_type": "markdown",
   "id": "22054d2c-b965-46c0-b147-b69f4f9e95c0",
   "metadata": {},
   "source": [
    "As all major charting libraries, plotly lets us choose which projection to use. It actually provides quite a high number of options:"
   ]
  },
  {
   "cell_type": "code",
   "execution_count": null,
   "id": "e7fa1b75-a5d2-418f-bf03-0c79dfc88582",
   "metadata": {},
   "outputs": [],
   "source": [
    "projections = ['equirectangular',  'mercator',  'orthographic',  'natural earth'] \n",
    "projections_other = ['kavrayskiy7',  'miller',  'robinson',  'eckert4',  'azimuthal equal area',  'azimuthal equidistant',  'conic equal area',  'conic conformal',  'conic equidistant',  'gnomonic',  'stereographic',  'mollweide',  'hammer',  'transverse mercator',  'albers usa',  'winkel tripel',  'aitoff', 'sinusoidal']"
   ]
  },
  {
   "cell_type": "code",
   "execution_count": null,
   "id": "caaa3c16-ade3-4446-8002-f5217ccb3cd3",
   "metadata": {},
   "outputs": [],
   "source": [
    "for proj in projections:\n",
    "    display(px.choropleth(countries.loc[filter_most_recent], \n",
    "        locations=\"iso_code\", \n",
    "        color=\"co2\", \n",
    "        hover_name=\"country\", \n",
    "        projection=proj,\n",
    "        title=f\"World projected using {proj}\",\n",
    "        width=500, \n",
    "        height=500))"
   ]
  },
  {
   "cell_type": "markdown",
   "id": "fdbba7d9-67c2-445d-83ce-eb986681fead",
   "metadata": {},
   "source": [
    "# Using Altair\n",
    "\n",
    "Altair is also a good option for visualization geographic information. How ever, it does not do an automatic matching with the iso-codes within our dataset. Therefore we need to first get the map we want to show.\n",
    "\n",
    "A common format to use is geo-json. You can download a projection of the world from [geojson-maps](https://geojson-maps.ash.ms/) and load it with geopandas"
   ]
  },
  {
   "cell_type": "code",
   "execution_count": null,
   "id": "f9242513-3212-4f88-b3a3-92a51667d01c",
   "metadata": {},
   "outputs": [],
   "source": [
    "import geopandas as gpd\n",
    "#!wget https://github.com/datasets/geo-countries/raw/master/data/countries.geojson -O ../data/countries.geojson\n",
    "geo_df = gpd.read_file('../data/countries.geojson')"
   ]
  },
  {
   "cell_type": "code",
   "execution_count": null,
   "id": "1fef31b5-dad8-46ec-9c18-0f894b17c10c",
   "metadata": {},
   "outputs": [],
   "source": [
    "geo_df = geo_df.join(countries.loc[filter_most_recent].set_index(\"iso_code\"), on=\"ISO_A3\")"
   ]
  },
  {
   "cell_type": "code",
   "execution_count": null,
   "id": "8cc80a8a-130b-4196-92e0-68c723f9fd36",
   "metadata": {},
   "outputs": [],
   "source": [
    "alt.data_transformers.disable_max_rows()"
   ]
  },
  {
   "cell_type": "code",
   "execution_count": null,
   "id": "b3896e3c-b641-4cbb-8684-4529ecf4380c",
   "metadata": {},
   "outputs": [],
   "source": [
    "world_map = alt.Chart(geo_df, width=900, height=380).mark_geoshape(stroke=\"white\").encode(\n",
    "    tooltip=[\"country:N\", \"continent:N\"],\n",
    "    color='co2:Q',\n",
    ").project(\"equirectangular\")\n",
    "\n",
    "world_map"
   ]
  },
  {
   "cell_type": "markdown",
   "id": "30ae759d-e240-45bb-8194-b3e9b6bc21d9",
   "metadata": {
    "tags": []
   },
   "source": [
    "# Maps to select countries of interest\n",
    "\n",
    "Maps combine greatly with Altairs interactivity and enables us to filter other charts based on our selection"
   ]
  },
  {
   "cell_type": "code",
   "execution_count": null,
   "id": "0833b99f-1c63-4487-99e9-826e0cfc0391",
   "metadata": {},
   "outputs": [],
   "source": [
    "alt.Chart(countries, width=1000, height=250).mark_line().encode(\n",
    "    x=\"year\", \n",
    "    y=\"co2\",\n",
    "    color=\"country\"\n",
    ")"
   ]
  },
  {
   "cell_type": "code",
   "execution_count": null,
   "id": "b8717ce2-2e65-4cc6-ac9e-ce6b9e6d0626",
   "metadata": {},
   "outputs": [],
   "source": [
    "# Create a selection\n",
    "selected_countries = alt.selection_multi(on='click', fields=['country'], empty='none')\n",
    "\n",
    "# Add the selection to the map\n",
    "interactive_world = world_map.encode(color=alt.condition(selected_countries, alt.value('red'), 'co2_per_capita:Q')).add_selection(selected_countries)\n",
    "\n",
    "# Creater a timeline that filters based on the selection\n",
    "timeline = alt.Chart(countries, width=1000, height=250).mark_line().encode(\n",
    "    x=\"year\", \n",
    "    y=\"co2_per_capita\",\n",
    "    color=\"country\"\n",
    ").transform_filter(selected_countries)\n",
    "\n",
    "interactive_world & timeline"
   ]
  },
  {
   "cell_type": "markdown",
   "id": "e0d66077-f2c4-442d-8631-4a928ed9a90d",
   "metadata": {},
   "source": [
    "# 📝 Task: Add some more charts, that link to the map"
   ]
  },
  {
   "cell_type": "code",
   "execution_count": null,
   "id": "05f1d70f-2a29-4348-bfaf-3b6fc39213f0",
   "metadata": {},
   "outputs": [],
   "source": [
    "def create_dashboard(target_column=\"co2\", additional_timeseries=[]):\n",
    "    selected_countries = alt.selection_multi(on='click', fields=['country'], empty='none')\n",
    "\n",
    "    # Add the selection to the map\n",
    "    interactive_world = world_map.encode(color=alt.condition(selected_countries, alt.value('red'), target_column)).add_selection(selected_countries)\n",
    "\n",
    "    # Creater a timeline that filters based on the selection\n",
    "    timelines = []\n",
    "    for y in [target_column, *additional_timeseries]:\n",
    "        timelines.append(\n",
    "            alt.Chart(countries, width=1000, height=150).mark_line().encode(\n",
    "                x=\"year\", \n",
    "                y=y,\n",
    "                color=\"country\",\n",
    "            ).transform_filter(selected_countries)\n",
    "         )\n",
    "\n",
    "    return interactive_world & alt.vconcat(*timelines)\n",
    "    "
   ]
  },
  {
   "cell_type": "code",
   "execution_count": null,
   "id": "764b1efa-2af9-4421-ab77-2babd7ca16f1",
   "metadata": {},
   "outputs": [],
   "source": [
    "target_column = widgets.Dropdown(options=countries.columns.to_list(), value=\"co2_per_capita\")\n",
    "other_columns = widgets.SelectMultiple(options=countries.columns.to_list())\n",
    "\n",
    "interact(create_dashboard, target_column=target_column, additional_timeseries=other_columns)"
   ]
  },
  {
   "cell_type": "code",
   "execution_count": null,
   "id": "69ab165f-de8e-464e-b12b-add4be2c527a",
   "metadata": {},
   "outputs": [],
   "source": []
  }
 ],
 "metadata": {
  "kernelspec": {
   "display_name": "py-dashboarding",
   "language": "python",
   "name": "py-dashboarding"
  },
  "language_info": {
   "codemirror_mode": {
    "name": "ipython",
    "version": 3
   },
   "file_extension": ".py",
   "mimetype": "text/x-python",
   "name": "python",
   "nbconvert_exporter": "python",
   "pygments_lexer": "ipython3",
   "version": "3.8.7"
  }
 },
 "nbformat": 4,
 "nbformat_minor": 5
}
