{
 "cells": [
  {
   "cell_type": "code",
   "execution_count": null,
   "id": "fd6a62c3-c17b-40de-8af8-4f75c572e948",
   "metadata": {},
   "outputs": [],
   "source": [
    "!git clone https://github.com/krlng/py-dashboarding"
   ]
  },
  {
   "cell_type": "code",
   "execution_count": null,
   "id": "fe264bc7-9c70-4c7d-88b4-364ff202c479",
   "metadata": {},
   "outputs": [],
   "source": [
    "!pip install -r py-dashboarding/requirements.txt"
   ]
  }
 ],
 "metadata": {
  "kernelspec": {
   "display_name": "Python 3 (ipykernel)",
   "language": "python",
   "name": "python3"
  },
  "language_info": {
   "codemirror_mode": {
    "name": "ipython",
    "version": 3
   },
   "file_extension": ".py",
   "mimetype": "text/x-python",
   "name": "python",
   "nbconvert_exporter": "python",
   "pygments_lexer": "ipython3",
   "version": "3.8.7"
  }
 },
 "nbformat": 4,
 "nbformat_minor": 5
}
