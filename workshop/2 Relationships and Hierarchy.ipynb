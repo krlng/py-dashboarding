{
 "cells": [
  {
   "cell_type": "markdown",
   "id": "ecb5368b-83ac-4290-8ecb-42da1e49db01",
   "metadata": {},
   "source": [
    "# Relationships and Hierarchy (Notebook 2)\n",
    "\n",
    "Structured data usually represents a number of instances with their attributes. Those instances usually have some ID column (similiar to primary keys in databases) as well as references to other ID columns (similiar to foreign keys). Understanding those relationships is of high importance.\n",
    "\n",
    "Our dataset contains countries which we group into continents. Aside of this, we already found a classification using countries wealth.\n",
    "\n",
    "\n",
    "In this Notebook we will analyse:\n",
    "\n",
    "* Which countries and continents have the most corona cases?\n",
    "* How can we visualize continents and countries at the same time?"
   ]
  },
  {
   "cell_type": "code",
   "execution_count": null,
   "id": "e599c981-f26e-4917-8638-8123d43306fc",
   "metadata": {},
   "outputs": [],
   "source": [
    "%run _prepare.ipynb"
   ]
  },
  {
   "cell_type": "markdown",
   "id": "673fa463-be39-4b48-a24d-4f11dd288237",
   "metadata": {},
   "source": [
    "## Visualize CO2 per continent"
   ]
  },
  {
   "cell_type": "code",
   "execution_count": null,
   "id": "f832aa19-a2f7-4a4f-8d89-f7fed20e1456",
   "metadata": {},
   "outputs": [],
   "source": [
    "countries[countries.year == 2020].groupby(\"continent\").co2.sum().sort_values(ascending=False).plot.barh(title=\"CO2 2020 per Continent\")"
   ]
  },
  {
   "cell_type": "code",
   "execution_count": null,
   "id": "a5538266-2f8f-46c5-a278-a774c2315f9c",
   "metadata": {},
   "outputs": [],
   "source": [
    "top50_countries_by_co2 = countries[filter_most_recent].groupby([\"country\",\"continent\"]).co2.sum().sort_values(ascending=False).head(50)\n",
    "top50_countries_by_co2.plot.barh(title=\"CO2 Aggregated in most emitting 50 countries\", figsize=(10,10))"
   ]
  },
  {
   "cell_type": "markdown",
   "id": "fc72cace-8796-4135-9f68-71df3eff6c50",
   "metadata": {},
   "source": [
    "## How could we display both, continent and country relationship?"
   ]
  },
  {
   "cell_type": "markdown",
   "id": "2db7ccc4-c153-4cf3-b4d2-3b27a04268ec",
   "metadata": {},
   "source": [
    "Most similiar to above, but with ordering and coloring by continent"
   ]
  },
  {
   "cell_type": "code",
   "execution_count": null,
   "id": "9c4f08d2-ba27-4f4c-a8c4-c0673158a0d8",
   "metadata": {},
   "outputs": [],
   "source": [
    "px.bar(top50_countries_by_co2.reset_index(), y=\"country\", x =\"co2\", color=\"continent\")"
   ]
  },
  {
   "cell_type": "markdown",
   "id": "0649420a-b63d-408c-af52-b84a1e25b7a7",
   "metadata": {},
   "source": [
    "Switching axis, to make it easier to compare com"
   ]
  },
  {
   "cell_type": "code",
   "execution_count": null,
   "id": "a10bb18e-7bc8-4e25-b12c-88ac9a45a82f",
   "metadata": {},
   "outputs": [],
   "source": [
    "px.bar(\n",
    "    top50_countries_by_co2.reset_index(), \n",
    "    x=\"continent\",\n",
    "    color=\"country\", \n",
    "    y=\"co2\", \n",
    "    title='COVID-10 Cases per conintent / country', \n",
    "    height=500, \n",
    "    width=1200\n",
    ")"
   ]
  },
  {
   "cell_type": "markdown",
   "id": "666b61fa-1878-42a1-b5f1-ade6cabe8b7b",
   "metadata": {},
   "source": [
    "#  📝 Find better ways to visualize both: continent and country\n",
    "\n",
    "* Does it work for even more then 50 countries?\n",
    "* What is the main aspect of the visualization\n",
    "* Which aspect does the visualization hide"
   ]
  },
  {
   "cell_type": "code",
   "execution_count": null,
   "id": "13a4267e-2556-4797-b914-52299dc2e072",
   "metadata": {},
   "outputs": [],
   "source": [
    "px.icicle(\n",
    "    countries[filter_most_recent], path=[\"continent\",\"country\"], values=\"co2\", \n",
    " title='CO2 consumption in the last recorded year', height=400, width=800\n",
    ").update_layout(margin=dict(t=30,l=0,r=0,b=0))"
   ]
  },
  {
   "cell_type": "code",
   "execution_count": null,
   "id": "c560ccad-c1ab-4946-96db-08d067d652db",
   "metadata": {},
   "outputs": [],
   "source": [
    "px.treemap(\n",
    "    countries[filter_most_recent], \n",
    "    path=[px.Constant(\"World\"), \"continent\",\"country\"], \n",
    "    values=\"co2\", \n",
    "    title='CO2 consumption in the last recorded year', \n",
    "    height=600, \n",
    "    width=1000\n",
    ")"
   ]
  },
  {
   "cell_type": "code",
   "execution_count": null,
   "id": "9c66fb65-dbbf-4aa2-b5f6-cf8a7b3053f8",
   "metadata": {},
   "outputs": [],
   "source": [
    "px.sunburst(\n",
    "    countries[filter_most_recent], \n",
    "    path=[px.Constant(\"World\"), \"continent\",\"country\"], \n",
    "    values=\"co2\", \n",
    "    title='CO2 consumption in the last recorded year', \n",
    "    height=600, \n",
    "    width=1000\n",
    ")"
   ]
  },
  {
   "cell_type": "markdown",
   "id": "4deeb547-bd55-498e-a816-db025ec42c58",
   "metadata": {},
   "source": [
    "# Income aggregations"
   ]
  },
  {
   "cell_type": "code",
   "execution_count": null,
   "id": "23eb278a-4886-4149-a788-e66e2bf91f49",
   "metadata": {},
   "outputs": [],
   "source": [
    "income_groups = [\"High-income countries\", \"Upper-middle-income countries\", \"Lower-middle-income countries\", \"Low-income countries\"]"
   ]
  },
  {
   "cell_type": "code",
   "execution_count": null,
   "id": "dc7a9085-fa06-4ef3-80de-38a86f68b3d8",
   "metadata": {},
   "outputs": [],
   "source": [
    "raw_data[raw_data.country.isin(income_groups)].query(\"year > 1900\").groupby([\"country\", \"year\"]).co2.sum().unstack(level=0)\\\n",
    ".plot.line(figsize=(20,5))"
   ]
  },
  {
   "cell_type": "markdown",
   "id": "6fcd7c93-8f28-427b-89a7-e3e0d292b854",
   "metadata": {},
   "source": [
    "# How can we more quickly iterate over years?"
   ]
  },
  {
   "cell_type": "code",
   "execution_count": null,
   "id": "c2f12628-c828-47da-aa0b-a107c2e60972",
   "metadata": {},
   "outputs": [],
   "source": [
    "def display_chart(year):\n",
    "    return px.sunburst(\n",
    "        countries[countries.year == year], \n",
    "        path=[px.Constant(\"World\"), \"continent\",\"country\"], \n",
    "        values=\"co2\", \n",
    "        title='CO2 consumption in the last recorded year', \n",
    "        height=600, \n",
    "        width=1000\n",
    "    )\n",
    "    \n",
    "source_year = widgets.IntSlider(value=2020, min=1950, max=2020)\n",
    "\n",
    "interact(display_chart, year=source_year)"
   ]
  }
 ],
 "metadata": {
  "kernelspec": {
   "display_name": "py-dashboarding",
   "language": "python",
   "name": "py-dashboarding"
  },
  "language_info": {
   "codemirror_mode": {
    "name": "ipython",
    "version": 3
   },
   "file_extension": ".py",
   "mimetype": "text/x-python",
   "name": "python",
   "nbconvert_exporter": "python",
   "pygments_lexer": "ipython3",
   "version": "3.8.7"
  }
 },
 "nbformat": 4,
 "nbformat_minor": 5
}
