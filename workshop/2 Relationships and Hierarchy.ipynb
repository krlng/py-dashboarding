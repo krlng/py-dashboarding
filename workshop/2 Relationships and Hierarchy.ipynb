{
 "cells": [
  {
   "cell_type": "markdown",
   "id": "ecb5368b-83ac-4290-8ecb-42da1e49db01",
   "metadata": {},
   "source": [
    "# Relationships and Hierarchy (Notebook 2)\n",
    "\n",
    "Structured data usually represents a number of instances with their attributes. Those instances usually have some ID column (similiar to primary keys in databases) as well as references to other ID columns (similiar to foreign keys). Understanding those relationships is of high importance.\n",
    "\n",
    "Our dataset contains countries which we group into continents. Aside of this, we already found a classification using countries wealth.\n",
    "\n",
    "\n",
    "In this Notebook we will analyse:\n",
    "\n",
    "* Which countries and continents have the most corona cases?\n",
    "* How can we visualize continents and countries at the same time?"
   ]
  },
  {
   "cell_type": "code",
   "execution_count": null,
   "id": "e599c981-f26e-4917-8638-8123d43306fc",
   "metadata": {},
   "outputs": [],
   "source": [
    "%run _prepare.ipynb"
   ]
  },
  {
   "cell_type": "markdown",
   "id": "673fa463-be39-4b48-a24d-4f11dd288237",
   "metadata": {},
   "source": [
    "## Visualize CO2 per continent"
   ]
  },
  {
   "cell_type": "code",
   "execution_count": null,
   "id": "f832aa19-a2f7-4a4f-8d89-f7fed20e1456",
   "metadata": {},
   "outputs": [],
   "source": [
    "countries[countries.year == 2020].groupby(\"continent\").co2.sum().sort_values(ascending=False).plot.barh(title=\"CO2 2020 per Continent\")"
   ]
  },
  {
   "cell_type": "code",
   "execution_count": null,
   "id": "a5538266-2f8f-46c5-a278-a774c2315f9c",
   "metadata": {},
   "outputs": [],
   "source": [
    "top50_countries_by_co2 = countries[filter_most_recent].groupby([\"country\",\"continent\"]).co2.sum().sort_values(ascending=False).head(50)\n",
    "top50_countries_by_co2.plot.barh(title=\"CO2 Aggregated in most emitting 50 countries\", figsize=(10,10))"
   ]
  },
  {
   "cell_type": "markdown",
   "id": "fc72cace-8796-4135-9f68-71df3eff6c50",
   "metadata": {},
   "source": [
    "## How could we display both, continent and country relationship?"
   ]
  },
  {
   "cell_type": "markdown",
   "id": "2db7ccc4-c153-4cf3-b4d2-3b27a04268ec",
   "metadata": {},
   "source": [
    "Most similiar to above, but with ordering and coloring by continent"
   ]
  },
  {
   "cell_type": "code",
   "execution_count": null,
   "id": "9c4f08d2-ba27-4f4c-a8c4-c0673158a0d8",
   "metadata": {},
   "outputs": [],
   "source": [
    "px.bar(top50_countries_by_co2.reset_index(), y=\"country\", x =\"co2\", color=\"continent\", height=700)"
   ]
  },
  {
   "cell_type": "markdown",
   "id": "0649420a-b63d-408c-af52-b84a1e25b7a7",
   "metadata": {},
   "source": [
    "Switching axis, to make it easier to compare continents: "
   ]
  },
  {
   "cell_type": "code",
   "execution_count": null,
   "id": "a10bb18e-7bc8-4e25-b12c-88ac9a45a82f",
   "metadata": {},
   "outputs": [],
   "source": [
    "px.bar(\n",
    "    top50_countries_by_co2.reset_index(), \n",
    "    x=\"continent\",\n",
    "    color=\"country\", \n",
    "    y=\"co2\", \n",
    "    title='CO2 per conintent / country in 2020', \n",
    "    height=500, \n",
    "    width=1200\n",
    ")"
   ]
  },
  {
   "cell_type": "markdown",
   "id": "69ef8117-e6dc-4ef6-8514-bac7308ad5b9",
   "metadata": {},
   "source": [
    "How ever, even that we only show the top 50 countries, their colors are not unique in this chart and it looks kind of messy"
   ]
  },
  {
   "cell_type": "markdown",
   "id": "666b61fa-1878-42a1-b5f1-ade6cabe8b7b",
   "metadata": {},
   "source": [
    "#  📝 Find better ways to visualize both: continent and country\n",
    "\n",
    "* Does it work for even more then 50 countries?\n",
    "* What is the main aspect of the visualization\n",
    "* Which aspect does the visualization hide\n",
    "\n",
    "For ideas, you can check the [plotly-express examples](https://plotly.com/python/plotly-express)"
   ]
  },
  {
   "cell_type": "markdown",
   "id": "1d2268ed-9944-45f1-a6e2-48970ecafc00",
   "metadata": {},
   "source": [
    "**Option 1:**"
   ]
  },
  {
   "cell_type": "code",
   "execution_count": null,
   "id": "13a4267e-2556-4797-b914-52299dc2e072",
   "metadata": {},
   "outputs": [],
   "source": [
    "px.icicle(\n",
    "    countries[filter_most_recent], path=[\"continent\",\"country\"], values=\"co2\", \n",
    " title='CO2 consumption in the last recorded year', height=400, width=800\n",
    ").update_layout(margin=dict(t=30,l=0,r=0,b=0))"
   ]
  },
  {
   "cell_type": "markdown",
   "id": "449f6a5f-3b0d-48e4-89db-326a28570aa6",
   "metadata": {},
   "source": [
    "**Option 2:**"
   ]
  },
  {
   "cell_type": "code",
   "execution_count": null,
   "id": "c560ccad-c1ab-4946-96db-08d067d652db",
   "metadata": {},
   "outputs": [],
   "source": [
    "px.treemap(\n",
    "    countries[filter_most_recent], \n",
    "    path=[px.Constant(\"World\"), \"continent\",\"country\"], \n",
    "    values=\"co2\", \n",
    "    title='CO2 consumption in the last recorded year', \n",
    "    height=600, \n",
    "    width=1000\n",
    ")"
   ]
  },
  {
   "cell_type": "markdown",
   "id": "35a2a0ca-6d2f-484a-8f94-6c91bb37f2f3",
   "metadata": {},
   "source": [
    "**Option 3:**"
   ]
  },
  {
   "cell_type": "code",
   "execution_count": null,
   "id": "9c66fb65-dbbf-4aa2-b5f6-cf8a7b3053f8",
   "metadata": {},
   "outputs": [],
   "source": [
    "px.sunburst(\n",
    "    countries[filter_most_recent], \n",
    "    path=[px.Constant(\"World\"), \"continent\",\"country\"], \n",
    "    values=\"co2\", \n",
    "    title='CO2 consumption in the last recorded year', \n",
    "    height=600, \n",
    "    width=1000\n",
    ")"
   ]
  },
  {
   "cell_type": "markdown",
   "id": "6fcd7c93-8f28-427b-89a7-e3e0d292b854",
   "metadata": {},
   "source": [
    "# How can we more quickly iterate over years?"
   ]
  },
  {
   "cell_type": "code",
   "execution_count": null,
   "id": "602ce5f6-588b-4e7b-a99c-8488d01daf26",
   "metadata": {},
   "outputs": [],
   "source": [
    "def display_chart(year):\n",
    "    return px.sunburst(\n",
    "        countries[countries.year == year], \n",
    "        path=[px.Constant(\"World\"), \"continent\",\"country\"], \n",
    "        values=\"co2\", \n",
    "        title='CO2 consumption in the last recorded year', \n",
    "        height=600, \n",
    "        width=1000\n",
    "    )"
   ]
  },
  {
   "cell_type": "code",
   "execution_count": null,
   "id": "adc623a6-4bb5-4b6b-b2cb-0fe28fcfe0c4",
   "metadata": {},
   "outputs": [],
   "source": [
    "source_year = widgets.IntSlider(value=2020, min=1950, max=2020)"
   ]
  },
  {
   "cell_type": "code",
   "execution_count": null,
   "id": "f5d7a0b4-baab-430f-b274-3cc523b01ce0",
   "metadata": {},
   "outputs": [],
   "source": [
    "interact(display_chart, year=source_year)"
   ]
  },
  {
   "cell_type": "code",
   "execution_count": null,
   "id": "bc5e8582-3935-49f7-9e5e-7721de91ae1e",
   "metadata": {},
   "outputs": [],
   "source": []
  }
 ],
 "metadata": {
  "kernelspec": {
   "display_name": "py-dashboarding",
   "language": "python",
   "name": "py-dashboarding"
  },
  "language_info": {
   "codemirror_mode": {
    "name": "ipython",
    "version": 3
   },
   "file_extension": ".py",
   "mimetype": "text/x-python",
   "name": "python",
   "nbconvert_exporter": "python",
   "pygments_lexer": "ipython3",
   "version": "3.8.7"
  }
 },
 "nbformat": 4,
 "nbformat_minor": 5
}
