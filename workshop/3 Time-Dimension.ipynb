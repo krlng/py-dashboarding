{
 "cells": [
  {
   "cell_type": "code",
   "execution_count": null,
   "id": "e599c981-f26e-4917-8638-8123d43306fc",
   "metadata": {},
   "outputs": [],
   "source": [
    "%run _prepare.ipynb"
   ]
  },
  {
   "cell_type": "markdown",
   "id": "a5c21b2f-e046-4dce-b851-8f955f21992a",
   "metadata": {},
   "source": [
    "# Analyse time\n",
    "\n",
    "Time is the fourth dimension and an essential component of most datasets, therefore it is often helpful to analyse important features at different points of time.\n",
    "\n",
    "The most common used charts for those are:\n",
    "\n",
    "* line-charts: Visualize independent timelines \n",
    "* area-charts: Visualize aggregating timelines"
   ]
  },
  {
   "cell_type": "markdown",
   "id": "c958ae49-6ec3-4c32-94c3-45cdd012dff4",
   "metadata": {},
   "source": [
    "## Continent-CO2 Timeline"
   ]
  },
  {
   "cell_type": "markdown",
   "id": "6febae4c-dd5a-4117-b820-3ef0638b6f23",
   "metadata": {},
   "source": [
    "### Using pandas plotting backend"
   ]
  },
  {
   "cell_type": "code",
   "execution_count": null,
   "id": "e82b581e-eb5d-439a-9506-b7be9d72445e",
   "metadata": {},
   "outputs": [],
   "source": [
    "plot_df_pandas = countries.groupby([\"year\",\"continent\"]).co2.sum().unstack(\"continent\").reset_index()\n",
    "plot_df_pandas.plot(x=\"year\", figsize=(20,5))"
   ]
  },
  {
   "cell_type": "markdown",
   "id": "016e089a-d283-459b-ba77-51b449fd191f",
   "metadata": {},
   "source": [
    "### Using plotly"
   ]
  },
  {
   "cell_type": "code",
   "execution_count": null,
   "id": "61c675b9-5bcf-45b1-af24-3a0cecdf971c",
   "metadata": {},
   "outputs": [],
   "source": [
    "plot_df_px = countries.groupby([\"year\",\"continent\"]).co2.sum().reset_index()\n",
    "px.line(plot_df_px, y=\"co2\", x=\"year\", color=\"continent\")"
   ]
  },
  {
   "cell_type": "markdown",
   "id": "644d43b4-b8d8-4927-9c89-8114d960fec5",
   "metadata": {},
   "source": [
    "### Using Altair"
   ]
  },
  {
   "cell_type": "code",
   "execution_count": null,
   "id": "b5743842-e2b2-4377-ba85-aeb926230a37",
   "metadata": {},
   "outputs": [],
   "source": [
    "alt.data_transformers.disable_max_rows()\n",
    "countries[\"dt\"] = pd.to_datetime(countries.year.astype(str) + \"-01-01\")\n",
    "\n",
    "alt.Chart(countries, width=1009, height=250).mark_line().encode(\n",
    "    x=\"year\", \n",
    "    y=alt.Y(field='co2', aggregate='sum', type='quantitative'),\n",
    "    color=\"continent\"\n",
    ")"
   ]
  },
  {
   "cell_type": "markdown",
   "id": "03474d71-336f-4ff8-9337-31d90fe91445",
   "metadata": {},
   "source": [
    "# More Timelines with Altair"
   ]
  },
  {
   "cell_type": "code",
   "execution_count": null,
   "id": "45d29703-ae7e-4e48-becf-b096fe7281b7",
   "metadata": {},
   "outputs": [],
   "source": [
    "raw_data_info.co2_per_capita"
   ]
  },
  {
   "cell_type": "code",
   "execution_count": null,
   "id": "4c15856e-361c-4f4e-bb5f-82a1ec2eb795",
   "metadata": {},
   "outputs": [],
   "source": [
    "alt.data_transformers.disable_max_rows()\n",
    "countries[\"dt\"] = pd.to_datetime(countries.year.astype(str) + \"-01-01\")\n",
    "alt.Chart(countries, width=900, height=250).mark_line().encode(\n",
    "    x=\"dt:T\", \n",
    "    y=alt.Y(field='co2_per_capita', aggregate='mean', type='quantitative'),\n",
    "    color=\"continent\"\n",
    ")"
   ]
  },
  {
   "cell_type": "code",
   "execution_count": null,
   "id": "297a0e40-a903-462a-9bbb-a3c98a8dda55",
   "metadata": {},
   "outputs": [],
   "source": [
    "alt.data_transformers.disable_max_rows()\n",
    "countries[\"dt\"] = pd.to_datetime(countries.year.astype(str) + \"-01-01\")\n",
    "def plot_chart(Y = alt.Y(field='co2_per_capita', aggregate='mean', type='quantitative')):\n",
    "    return alt.Chart(countries, width=900, height=250).mark_line().encode(\n",
    "        x=\"dt:T\", \n",
    "        y = Y,\n",
    "        color=\"continent\"\n",
    "    )\n",
    "\n",
    "plot_chart(\n",
    "    alt.Y(field='co2_per_capita', aggregate='mean', type='quantitative')\n",
    ") & plot_chart(\n",
    "    alt.Y(field='co2', aggregate='sum', type='quantitative')\n",
    ")"
   ]
  },
  {
   "cell_type": "markdown",
   "id": "15ef5c5e-0c4f-49ef-aa4b-8865fddc42ee",
   "metadata": {},
   "source": [
    "# 📝 Task: Make a similiar chart that shows the usage of the different co2 sources\n",
    "\n",
    "* Hint: Altair requires the [long-data-format](https://de.wikipedia.org/wiki/Wide-Format_und_Long-Format). Use the `.melt()` command an your dataframe"
   ]
  },
  {
   "cell_type": "code",
   "execution_count": null,
   "id": "b4a79d9b-5d3f-44c6-a44f-d8ac70f2038b",
   "metadata": {},
   "outputs": [],
   "source": [
    "plot_df = countries[[\"country\",\"continent\", \"year\", *cols_co2_sources]].melt([\"country\",\"continent\",\"year\"])"
   ]
  },
  {
   "cell_type": "code",
   "execution_count": null,
   "id": "b2497215-7d2b-413c-9392-bfb82113229f",
   "metadata": {},
   "outputs": [],
   "source": [
    "alt.data_transformers.disable_max_rows()\n",
    "co2_sources_chart = alt.Chart(plot_df, width=900, height=250).mark_line().encode(\n",
    "    x=\"year\", \n",
    "    y=alt.Y(field='value', aggregate='sum', type='quantitative'),\n",
    "    color=\"variable\"\n",
    ")"
   ]
  },
  {
   "cell_type": "code",
   "execution_count": null,
   "id": "38d73db9-0227-40dc-8b3c-012067fd041c",
   "metadata": {},
   "outputs": [],
   "source": [
    "co2_sources_chart"
   ]
  },
  {
   "cell_type": "markdown",
   "id": "63b3296f-3f8a-493c-9fa7-d9cf74ff1f36",
   "metadata": {},
   "source": [
    "# Altair Interactivity"
   ]
  },
  {
   "cell_type": "code",
   "execution_count": null,
   "id": "ba427f28-dda7-4e50-8607-d96a00231b80",
   "metadata": {},
   "outputs": [],
   "source": [
    "import altair as alt\n",
    "from vega_datasets import data\n",
    "\n",
    "\n",
    "brush = alt.selection(type='interval', encodings=['x'])\n",
    "\n",
    "upper = co2_sources_chart.encode(\n",
    "    alt.X('year', scale=alt.Scale(domain=brush))\n",
    ")\n",
    "\n",
    "lower = co2_sources_chart.properties(\n",
    "    height=60\n",
    ").add_selection(brush)\n",
    "\n",
    "upper & lower"
   ]
  },
  {
   "cell_type": "markdown",
   "id": "e35c0e91-a34a-4c17-ab02-02e4cd8b6674",
   "metadata": {},
   "source": [
    "And all of this is still combinable with altairs other super-powers. For example try:\n",
    "`upper.mark_area() & upper.encode(row=\"continent\") & lower`"
   ]
  },
  {
   "cell_type": "code",
   "execution_count": null,
   "id": "5e833e59-0a44-4d8e-ba42-b3759eaa6e5e",
   "metadata": {},
   "outputs": [],
   "source": [
    "plot_df = countries[filter_most_recent].join(countries.groupby(\"country\").agg({\"co2\": sum, \"co2_per_capita\": \"mean\"}).add_suffix(\"_historical\"), on=\"country\").query(\"co2 >1\")"
   ]
  },
  {
   "cell_type": "code",
   "execution_count": null,
   "id": "b75fd6b9-2afe-4603-9674-f07c18a7e4a8",
   "metadata": {},
   "outputs": [],
   "source": [
    "scatter = alt.Chart(plot_df).mark_circle().encode(\n",
    "    x=\"co2_per_capita\",\n",
    "    y=\"co2\",\n",
    "    color=\"continent\",\n",
    "    size=\"co2_historical\",\n",
    "    tooltip=[\"country\", \"co2\", \"co2_per_capita\", \"co2_historical\",  \"co2_per_capita_historical\"]\n",
    ").properties(\n",
    "    width=1000,\n",
    "    height=400\n",
    ")\n",
    "scatter"
   ]
  },
  {
   "cell_type": "code",
   "execution_count": null,
   "id": "6d6bec28-c6c8-4e71-b2ea-33c79c20a0d4",
   "metadata": {},
   "outputs": [],
   "source": [
    "selection = alt.selection_multi(fields=['country'], empty='none')\n",
    "\n",
    "alt.data_transformers.disable_max_rows()\n",
    "line_co2 = alt.Chart(countries, width=600, height=150).mark_line().encode(\n",
    "    x=\"dt:T\", \n",
    "    y=\"co2\",\n",
    "    color=\"country:N\",\n",
    "    tooltip = [\"country\", \"co2\"]\n",
    ").transform_filter(selection)\n",
    "\n",
    "dashboard = alt.hconcat(\n",
    "    scatter.properties(width=400, height=450).add_selection( selection ),\n",
    "    line_co2 & line_co2.encode(y=\"co2_per_capita\"),\n",
    "    line_co2.encode(y=\"total_ghg\") & line_co2.encode(y=\"gdp\")\n",
    ")\n",
    "dashboard.resolve_scale(color='independent').configure(autosize=alt.AutoSizeParams(resize=True))"
   ]
  },
  {
   "cell_type": "markdown",
   "id": "3ceeedad-33d0-48d5-83e1-21f55957a56b",
   "metadata": {
    "tags": []
   },
   "source": [
    "# 📝 Task: Extend the dashboard to gain insights you will be interested in\n",
    "\n",
    "Ideas:\n",
    "* modify fields in the scatter plot\n",
    "* add additional timelines\n",
    "* add comparative charts"
   ]
  },
  {
   "cell_type": "markdown",
   "id": "c933ba9e-61b7-4a76-a042-3708aa7dd4ed",
   "metadata": {},
   "source": [
    "## Next level dashbaord"
   ]
  },
  {
   "cell_type": "code",
   "execution_count": null,
   "id": "1ef101e2-6294-4ddc-ba57-415eead06c62",
   "metadata": {
    "jupyter": {
     "outputs_hidden": true
    },
    "tags": []
   },
   "outputs": [],
   "source": [
    "selection = alt.selection_multi(fields=['country'], empty='none')\n",
    "nearest = alt.selection(type='single', nearest=True, on='mouseover',fields=['dt'], empty='none')\n",
    "\n",
    "alt.data_transformers.disable_max_rows()\n",
    "line_co2 = alt.Chart(countries, width=600, height=150).mark_line().encode(\n",
    "    x=\"dt:T\", \n",
    "    y=\"co2\",\n",
    "    color=\"country:N\",\n",
    "    tooltip = [\"country\", \"co2\"]\n",
    ").transform_filter(selection)\n",
    "\n",
    "selectors = alt.Chart(countries).mark_point().encode(\n",
    "    x='dt:T',\n",
    "    opacity=alt.value(0),\n",
    ").add_selection(\n",
    "    nearest\n",
    ")\n",
    "\n",
    "# Draw a rule at the location of the selection\n",
    "rules = alt.Chart(countries).mark_rule(color='gray').encode(\n",
    "    x='dt:T',\n",
    ").transform_filter(\n",
    "    nearest\n",
    ")\n",
    "\n",
    "line = line_co2 +  rules\n",
    "\n",
    "dashboard = alt.hconcat(\n",
    "    scatter.properties(width=400, height=450).add_selection( selection ),\n",
    "    line+ selectors & line.encode(y=\"co2_per_capita:Q\"),\n",
    "    line.encode(y=\"total_ghg:Q\") & line.encode(y=\"gdp:Q\")\n",
    ")\n",
    "dashboard.resolve_scale(color='independent').configure(autosize=alt.AutoSizeParams(resize=True))"
   ]
  }
 ],
 "metadata": {
  "kernelspec": {
   "display_name": "py-dashboarding",
   "language": "python",
   "name": "py-dashboarding"
  },
  "language_info": {
   "codemirror_mode": {
    "name": "ipython",
    "version": 3
   },
   "file_extension": ".py",
   "mimetype": "text/x-python",
   "name": "python",
   "nbconvert_exporter": "python",
   "pygments_lexer": "ipython3",
   "version": "3.8.7"
  }
 },
 "nbformat": 4,
 "nbformat_minor": 5
}
