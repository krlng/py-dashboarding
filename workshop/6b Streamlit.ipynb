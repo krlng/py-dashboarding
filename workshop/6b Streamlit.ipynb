{
 "cells": [
  {
   "cell_type": "code",
   "execution_count": null,
   "id": "c1ccd1df-3146-4c22-b8ae-95ae3d1a1c68",
   "metadata": {},
   "outputs": [],
   "source": [
    "st.selectbox("
   ]
  },
  {
   "cell_type": "code",
   "execution_count": null,
   "id": "155a43e9-eb86-4533-a155-2b5c5e26624e",
   "metadata": {},
   "outputs": [],
   "source": [
    "%%writefile streamlit.py\n",
    "import pandas as pd\n",
    "import numpy as np\n",
    "import datetime\n",
    "import plotly.express as px\n",
    "import altair as alt\n",
    "from _helper import *\n",
    "import streamlit as st\n",
    "\n",
    "@st.cache\n",
    "def load_data():\n",
    "    raw_data = pd.read_csv(\"../data/owid-co2-data.csv\")\n",
    "    countries = raw_data[~raw_data.iso_code.fillna(\"OWID\").str.contains(\"OWID\")]\n",
    "    continent_mapping = pd.read_csv(\"../data/continent.csv\").set_index(\"alpha-3\").region.rename(\"continent\")\n",
    "    countries = countries.join(continent_mapping, on=\"iso_code\").dropna(subset=[\"continent\"])\n",
    "    return countries\n",
    "\n",
    "def plot(select_country, select_y):\n",
    "    df = construct_groups(countries, select_country).query(\"year>1900\")\n",
    "    st.altair_chart(plot_line(df, select_y))\n",
    "    st.altair_chart(plot_connected_lines(df, select_y))\n",
    "    st.plotly_chart(plot_area(df, select_y))\n",
    "\n",
    "countries = load_data()\n",
    "\n",
    "select_country = st.multiselect(label=\"Country selection\", options=countries.country.unique().tolist(), default=[\"China\", \"United States\"]),\n",
    "select_y = st.selectbox(label=\"Y-Axis\", options=countries.select_dtypes(np.number).columns.to_list(), index=4)    \n",
    "\n",
    "plot(select_country, select_y)"
   ]
  },
  {
   "cell_type": "code",
   "execution_count": null,
   "id": "288945c9-4877-49b8-a4d5-31d4bea79115",
   "metadata": {},
   "outputs": [],
   "source": [
    "!streamlit run streamlit.py"
   ]
  },
  {
   "cell_type": "code",
   "execution_count": null,
   "id": "c4a1aeac-8d01-4b06-88e8-650e438a3722",
   "metadata": {},
   "outputs": [],
   "source": []
  }
 ],
 "metadata": {
  "kernelspec": {
   "display_name": "py-dashboarding",
   "language": "python",
   "name": "py-dashboarding"
  },
  "language_info": {
   "codemirror_mode": {
    "name": "ipython",
    "version": 3
   },
   "file_extension": ".py",
   "mimetype": "text/x-python",
   "name": "python",
   "nbconvert_exporter": "python",
   "pygments_lexer": "ipython3",
   "version": "3.8.7"
  }
 },
 "nbformat": 4,
 "nbformat_minor": 5
}
