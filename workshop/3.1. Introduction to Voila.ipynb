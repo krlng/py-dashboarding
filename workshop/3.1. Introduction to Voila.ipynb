{
 "cells": [
  {
   "cell_type": "code",
   "execution_count": null,
   "id": "f746f7f8-10b1-4262-a34f-71cd890522a1",
   "metadata": {},
   "outputs": [],
   "source": [
    "%run _prepare.ipynb"
   ]
  },
  {
   "cell_type": "code",
   "execution_count": null,
   "id": "1fdff89b-e0f0-4cda-9b25-c7666531ade8",
   "metadata": {},
   "outputs": [],
   "source": [
    "import datetime\n",
    "from datetime import datetime as dt\n",
    "import ipywidgets as widgets\n",
    "from ipywidgets import interact\n",
    "from IPython.display import display\n",
    "import plotly.express as px"
   ]
  },
  {
   "cell_type": "markdown",
   "id": "c49552b0-e945-4f7e-9a85-e239065b2f3c",
   "metadata": {
    "tags": []
   },
   "source": [
    "# New Cases per Continent"
   ]
  },
  {
   "cell_type": "code",
   "execution_count": null,
   "id": "cf72b5f7-707d-47b6-a641-23110b59b18a",
   "metadata": {},
   "outputs": [],
   "source": [
    "df = countries.groupby([\"date\",\"continent\"])[\"new_cases\"].sum().reset_index()\n",
    "def display_continent(aggregation, start_date):\n",
    "    plot_df = df.loc[df.date > start_date]\n",
    "    plot_df = plot_df.groupby(\"continent\").rolling(aggregation, on=\"date\").new_cases.mean().reset_index()\n",
    "    return px.line(plot_df, x=\"date\", y=\"new_cases\", color=\"continent\", title=\"New Cases per continent\")"
   ]
  },
  {
   "cell_type": "code",
   "execution_count": null,
   "id": "80a1cc39-bb1c-4a0a-8d33-58d03e6c752e",
   "metadata": {},
   "outputs": [],
   "source": [
    "aggregation_period = widgets.IntSlider(value=7, min=1, max=30)\n",
    "start_date = widgets.DatePicker(value=(dt.today()-datetime.timedelta(days=365)).date())\n",
    "\n",
    "interact(display_continent, aggregation=aggregation_period, start_date=start_date);"
   ]
  },
  {
   "cell_type": "markdown",
   "id": "992677ea-80fb-4cf7-8cc6-cd6f36d5ea21",
   "metadata": {
    "tags": []
   },
   "source": [
    "# Covid Datas per Country"
   ]
  },
  {
   "cell_type": "code",
   "execution_count": null,
   "id": "6a5a3a7e-3a2f-41da-8a24-b51fa03776bd",
   "metadata": {},
   "outputs": [],
   "source": [
    "def display_country(aggregation, start_date, location, metric):\n",
    "    df = countries.loc[countries.location.isin(location)].groupby([\"date\",\"location\"])[metric].sum().reset_index()\n",
    "    plot_df = df.loc[df.date > start_date]\n",
    "    plot_df = plot_df.groupby(\"location\").rolling(aggregation, on=\"date\")[metric].mean().reset_index()\n",
    "    return px.line(plot_df, x=\"date\", y=metric, color=\"location\", title=f\"{metric} per country\")"
   ]
  },
  {
   "cell_type": "code",
   "execution_count": null,
   "id": "b0066efd-b198-481d-b632-4378eb22780e",
   "metadata": {},
   "outputs": [],
   "source": [
    "aggregation_period = widgets.IntSlider(value=7, min=1, max=30)\n",
    "start_date = widgets.DatePicker(value=(dt.today()-datetime.timedelta(days=365)).date())\n",
    "location = widgets.SelectMultiple(options=countries.location.unique(), value=[\"Germany\", \"France\"])\n",
    "metric = widgets.Dropdown(options=['total_cases','new_cases','total_cases_per_million','new_cases_per_million'], value=\"new_cases\", description='Metric') \n",
    "\n",
    "\n",
    "interact(display_country, \n",
    "         aggregation=aggregation_period, \n",
    "         start_date=start_date, \n",
    "         location = location, \n",
    "         metric = metric);"
   ]
  },
  {
   "cell_type": "code",
   "execution_count": null,
   "id": "5080caa4-428b-44c7-8d3a-9a9cf3842935",
   "metadata": {},
   "outputs": [],
   "source": [
    "!poetry run voila 3.1.\\ Introduction\\ to\\ Voila.ipynb"
   ]
  },
  {
   "cell_type": "code",
   "execution_count": null,
   "id": "49462398-c993-41f9-b8d4-7e1ad5045c6f",
   "metadata": {},
   "outputs": [],
   "source": []
  }
 ],
 "metadata": {
  "kernelspec": {
   "display_name": "pyviz",
   "language": "python",
   "name": "pyviz"
  },
  "language_info": {
   "codemirror_mode": {
    "name": "ipython",
    "version": 3
   },
   "file_extension": ".py",
   "mimetype": "text/x-python",
   "name": "python",
   "nbconvert_exporter": "python",
   "pygments_lexer": "ipython3",
   "version": "3.8.7"
  }
 },
 "nbformat": 4,
 "nbformat_minor": 5
}
