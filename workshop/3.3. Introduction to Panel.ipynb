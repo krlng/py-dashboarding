{
 "cells": [
  {
   "cell_type": "code",
   "execution_count": null,
   "id": "d636f96b-8332-4512-a35b-60169231ba0d",
   "metadata": {},
   "outputs": [],
   "source": [
    "%run _prepare.ipynb"
   ]
  },
  {
   "cell_type": "code",
   "execution_count": null,
   "id": "6d1c5308-a326-4845-887d-14eff456a155",
   "metadata": {},
   "outputs": [],
   "source": [
    "from bokeh.models import CustomJS, ColumnDataSource\n",
    "from bokeh.models.widgets import DataTable, TableColumn\n",
    "from bokeh.plotting import figure\n",
    "\n",
    "import param\n",
    "import pandas as pd\n",
    "from pandas import json_normalize\n",
    "\n",
    "import plotly.express as px\n",
    "import altair as alt\n",
    "import numpy as np\n",
    "import panel as pn"
   ]
  },
  {
   "cell_type": "code",
   "execution_count": null,
   "id": "daaff8e3-6cee-4618-9691-09ccf012a8de",
   "metadata": {},
   "outputs": [],
   "source": [
    "pn.extension(\"plotly\")\n",
    "from datetime import datetime as dt\n",
    "import datetime"
   ]
  },
  {
   "cell_type": "markdown",
   "id": "4fdde469-654e-461c-b4dc-7c2a2ddaf159",
   "metadata": {
    "tags": []
   },
   "source": [
    "# New Cases per Continent"
   ]
  },
  {
   "cell_type": "code",
   "execution_count": null,
   "id": "3bf5cc19-cd1c-440b-a84b-22b0135c176a",
   "metadata": {},
   "outputs": [],
   "source": [
    "df = countries.groupby([\"date\",\"continent\"])[\"new_cases\"].sum().reset_index()\n",
    "def display_continent(aggregation, start_date):\n",
    "    plot_df = df.loc[df.date > start_date]\n",
    "    plot_df = plot_df.groupby(\"continent\").rolling(aggregation, on=\"date\").new_cases.mean().reset_index()\n",
    "    return px.line(plot_df, x=\"date\", y=\"new_cases\", color=\"continent\", title=\"New Cases per continent\")"
   ]
  },
  {
   "cell_type": "code",
   "execution_count": null,
   "id": "a652934c-738d-4490-bcfa-fb0a7dcf2599",
   "metadata": {},
   "outputs": [],
   "source": [
    "aggregation_period = pn.widgets.IntInput(value=7, start=1, end=30)\n",
    "start_date = pn.widgets.DatePicker(value=(dt.today()-datetime.timedelta(days=365)).date())"
   ]
  },
  {
   "cell_type": "code",
   "execution_count": null,
   "id": "247f55ae-71bf-4471-a5ea-e3afe8cf01d6",
   "metadata": {},
   "outputs": [],
   "source": [
    "dashboard = pn.interact(display_continent, aggregation=aggregation_period, start_date=start_date);"
   ]
  },
  {
   "cell_type": "code",
   "execution_count": null,
   "id": "bd649e85-c2ed-43fa-b2ef-d12ad8b1289b",
   "metadata": {},
   "outputs": [],
   "source": [
    "dashboard"
   ]
  },
  {
   "cell_type": "code",
   "execution_count": null,
   "id": "cfdca2ba-b668-4604-bd09-7377c40e4aed",
   "metadata": {},
   "outputs": [],
   "source": [
    "pn.serve(dashboard)"
   ]
  },
  {
   "cell_type": "markdown",
   "id": "4f69b4c5-9ac0-4156-a2e6-4453d8d06e1d",
   "metadata": {},
   "source": [
    "# Class"
   ]
  },
  {
   "cell_type": "code",
   "execution_count": null,
   "id": "16a85d0c-9168-43eb-8877-bcedd61e91b9",
   "metadata": {},
   "outputs": [],
   "source": [
    "class ContinentDashboard(param.Parameterized):\n",
    "    aggregation_period = param.Integer(7, bounds=(1, 30))\n",
    "    start_date = param.Date((dt.today()-datetime.timedelta(days=365)))\n",
    "\n",
    "    @param.depends('aggregation_period', 'start_date')\n",
    "    def view(self):\n",
    "        plot_df = df.loc[df.date > self.start_date.date()]\n",
    "        plot_df = plot_df.groupby(\"continent\").rolling(self.aggregation_period, on=\"date\").new_cases.mean().reset_index()\n",
    "        return px.line(plot_df, x=\"date\", y=\"new_cases\", color=\"continent\", title=\"New Cases per continent\")\n",
    "\n",
    "user = ContinentDashboard()\n",
    "#pn.Column(user, user.view)"
   ]
  },
  {
   "cell_type": "code",
   "execution_count": null,
   "id": "9ae2d887-0aac-4aae-a46a-2064159ee2cd",
   "metadata": {},
   "outputs": [],
   "source": [
    "pn.Row(user.param, user.view)"
   ]
  },
  {
   "cell_type": "code",
   "execution_count": null,
   "id": "7f09bba2-cb16-4299-b699-a0f01d632d2e",
   "metadata": {},
   "outputs": [],
   "source": []
  }
 ],
 "metadata": {
  "kernelspec": {
   "display_name": "pyviz",
   "language": "python",
   "name": "pyviz"
  },
  "language_info": {
   "codemirror_mode": {
    "name": "ipython",
    "version": 3
   },
   "file_extension": ".py",
   "mimetype": "text/x-python",
   "name": "python",
   "nbconvert_exporter": "python",
   "pygments_lexer": "ipython3",
   "version": "3.8.7"
  }
 },
 "nbformat": 4,
 "nbformat_minor": 5
}
