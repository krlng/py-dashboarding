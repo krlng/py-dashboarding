{
 "cells": [
  {
   "cell_type": "code",
   "execution_count": null,
   "id": "7bbc5494-2136-4ee2-9932-a2d67973b1fe",
   "metadata": {},
   "outputs": [],
   "source": [
    "%run _prepare.ipynb"
   ]
  },
  {
   "cell_type": "code",
   "execution_count": null,
   "id": "cc0275b2-bc23-4ff6-811c-6097a23e98eb",
   "metadata": {},
   "outputs": [],
   "source": [
    "import param\n",
    "import panel as pn\n",
    "pn.extension(\"plotly\", \"vega\")"
   ]
  },
  {
   "cell_type": "markdown",
   "id": "0b6b10b0-fb35-426c-90ce-0e4851b33ebf",
   "metadata": {
    "tags": []
   },
   "source": [
    "# `pn.interact` API"
   ]
  },
  {
   "cell_type": "code",
   "execution_count": null,
   "id": "5e163128-e08a-4896-b95a-4062e8fcf087",
   "metadata": {},
   "outputs": [],
   "source": [
    "from _helper import *"
   ]
  },
  {
   "cell_type": "code",
   "execution_count": null,
   "id": "0b740865-a971-4d2a-8dab-b712b03eec07",
   "metadata": {
    "tags": []
   },
   "outputs": [],
   "source": [
    "params = dict(\n",
    "    select_country = pn.widgets.MultiSelect(options=countries.country.unique().tolist(), value=[\"China\", \"United States\"]),\n",
    "    select_y = pn.widgets.Select(options=countries.select_dtypes(np.number).columns.to_list(), value=\"co2\")\n",
    ")\n",
    "\n",
    "def plot(select_country, select_y):\n",
    "    df = construct_groups(countries, select_country).query(\"year>1900\")\n",
    "    return pn.Column(\n",
    "        plot_line(df, select_y),\n",
    "        plot_area(df, select_y),\n",
    "        plot_connected_lines(df, select_y)\n",
    "    )\n",
    "    \n",
    "dashboard = pn.interact(plot, **params)"
   ]
  },
  {
   "cell_type": "code",
   "execution_count": null,
   "id": "8d7231aa-a1bc-4bd9-92cb-14ceb8f8452b",
   "metadata": {},
   "outputs": [],
   "source": [
    "pn.serve(dashboard)"
   ]
  },
  {
   "cell_type": "markdown",
   "id": "9cd7eb37-ce43-4050-9379-a245ecf69b2d",
   "metadata": {},
   "source": [
    "# Using Panel's Class Structure"
   ]
  },
  {
   "cell_type": "code",
   "execution_count": null,
   "id": "ef7299ce-ab7d-4d39-a4cc-c0bf5b78d4f6",
   "metadata": {},
   "outputs": [],
   "source": [
    "class CountryDashboard(param.Parameterized):\n",
    "    select_country = pn.widgets.MultiSelect(name=\"Countries\", height=200, options=countries.country.unique().tolist(), value=[\"China\", \"United States\"])\n",
    "    select_y = pn.widgets.Select(name=\"Y-Axis\", options=countries.select_dtypes(np.number).columns.to_list(), value=\"co2\")\n",
    "    \n",
    "    @param.depends('select_country.value', 'select_y.value')\n",
    "    def view(self):\n",
    "        df = construct_groups(countries, self.select_country.value).query(\"year>1900\")\n",
    "        return pn.Column(\n",
    "            plot_line(df, self.select_y.value),\n",
    "            plot_area(df, self.select_y.value),\n",
    "            plot_connected_lines(df, self.select_y.value)\n",
    "        )\n",
    "    \n",
    "    def render(self):\n",
    "        return pn.Column(self.select_country, self.select_y, self.view)\n",
    "        \n",
    "\n",
    "dashboard = CountryDashboard()"
   ]
  },
  {
   "cell_type": "code",
   "execution_count": null,
   "id": "17118bfe-d9c4-42f3-9780-3bdc6138cdf3",
   "metadata": {},
   "outputs": [],
   "source": [
    "pn.serve(dashboard.render)"
   ]
  }
 ],
 "metadata": {
  "kernelspec": {
   "display_name": "py-dashboarding",
   "language": "python",
   "name": "py-dashboarding"
  },
  "language_info": {
   "codemirror_mode": {
    "name": "ipython",
    "version": 3
   },
   "file_extension": ".py",
   "mimetype": "text/x-python",
   "name": "python",
   "nbconvert_exporter": "python",
   "pygments_lexer": "ipython3",
   "version": "3.8.7"
  }
 },
 "nbformat": 4,
 "nbformat_minor": 5
}
