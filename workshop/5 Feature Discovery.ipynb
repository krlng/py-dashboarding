{
 "cells": [
  {
   "cell_type": "code",
   "execution_count": null,
   "id": "e599c981-f26e-4917-8638-8123d43306fc",
   "metadata": {},
   "outputs": [],
   "source": [
    "%run _prepare.ipynb"
   ]
  },
  {
   "cell_type": "markdown",
   "id": "ecb5368b-83ac-4290-8ecb-42da1e49db01",
   "metadata": {},
   "source": [
    "# Gain insights (Notebook 5)\n",
    "\n",
    "After checking the data for exceptions and distributions, checking key columns as well as time and geographic information, it is time to combine these skills and try to get some interesting insights. \n",
    "\n",
    "Topics of this notebook: \n",
    "\n",
    "* Which other interesting features other then co2 does the data contain?\n",
    "* How can we quickly quickly iterate over different datapoints and selections\n",
    "* How can we deal with the different magnitudes of countries emissions"
   ]
  },
  {
   "cell_type": "code",
   "execution_count": null,
   "id": "be286419-7b60-43fd-b472-d37b66e577c7",
   "metadata": {},
   "outputs": [],
   "source": []
  },
  {
   "cell_type": "code",
   "execution_count": null,
   "id": "329f8b98-582b-43dd-b9a4-9bc9a5650475",
   "metadata": {},
   "outputs": [],
   "source": [
    "plot_df = countries.groupby([\"country\",\"continent\"])[[\"co2\",\"co2_per_capita\"]].sum().reset_index(level=1).reset_index()\n",
    "px.scatter(\n",
    "    plot_df,\n",
    "    x=\"co2\",\n",
    "    y=\"co2_per_capita\",\n",
    "    color=\"continent\",\n",
    "    hover_name=\"country\",\n",
    "    height=600,\n",
    "    width=1000,\n",
    "    marginal_y=\"box\",\n",
    "    marginal_x=\"box\"\n",
    ")"
   ]
  },
  {
   "cell_type": "markdown",
   "id": "6a04cac8-25d9-4153-b1c5-a5398c53e687",
   "metadata": {},
   "source": [
    "# Focus on the relevant\n",
    "\n",
    "To many information can distract attention on the important ones. Therefore it is totally valid and actually beneficial to create more balanced groups"
   ]
  },
  {
   "cell_type": "code",
   "execution_count": null,
   "id": "8d3eecef-7398-4f3d-aa5f-6045c123c9ad",
   "metadata": {},
   "outputs": [],
   "source": [
    "def construct_groups(single_important_countries = [\"China\", \"United States\"]):\n",
    "    # Create a list of interesting metrics that keep truth by aggregation\n",
    "    summable_metrics = ['co2', 'trade_co2', 'cement_co2','coal_co2', 'flaring_co2', 'gas_co2', 'oil_co2', 'other_industry_co2','consumption_co2', 'total_ghg', 'total_ghg_excluding_lucf', 'methane','nitrous_oxide', 'population', 'gdp', 'primary_energy_consumption']\n",
    "    aggregations = dict(zip(summable_metrics, [\"sum\"] * len(summable_metrics)))\n",
    "\n",
    "    # Split the list of countries into groups\n",
    "    filter_term = countries.country.isin(single_important_countries)\n",
    "    groups = countries.loc[~filter_term].fillna(0).groupby([\"continent\", \"year\"]).agg(aggregations).reset_index()\n",
    "\n",
    "    groups_important_countries = countries.loc[filter_term, [\"country\"] + list(groups.columns)].rename(columns={\"country\": \"name\"})\n",
    "\n",
    "    groups[\"name\"] = groups.continent\n",
    "    groups = groups.append(groups_important_countries)\n",
    "    groups = groups.assign(co2_per_capita = groups.co2 / groups.population * 10e5).sort_values(\"year\")\n",
    "    return groups"
   ]
  },
  {
   "cell_type": "markdown",
   "id": "421a8933-d4f4-421c-9270-ccfb06aa74ac",
   "metadata": {},
   "source": [
    "## Showing the same using another visualization"
   ]
  },
  {
   "cell_type": "code",
   "execution_count": null,
   "id": "9304563e-3b4d-4d2e-903e-a08e61d38d1d",
   "metadata": {},
   "outputs": [],
   "source": [
    "plot_df = construct_groups()\n",
    "plot_df.name.value_counts()"
   ]
  },
  {
   "cell_type": "code",
   "execution_count": null,
   "id": "43c0c6b4-8f95-41a9-ace8-2bc5f82bc983",
   "metadata": {},
   "outputs": [],
   "source": [
    "plot_df = construct_groups([\"China\", \"United States\", \"Russia\", \"Germany\", \"India\", \"Japan\"]).query(\"year > 1900\")"
   ]
  },
  {
   "cell_type": "code",
   "execution_count": null,
   "id": "4b58eb1b-5258-46e0-a3e5-fac8da6defe4",
   "metadata": {},
   "outputs": [],
   "source": [
    "plot_df[\"dt\"] = pd.to_datetime(plot_df.year.astype(str) + \"-01-01\")\n",
    "line_chart = alt.Chart(\n",
    "    plot_df,\n",
    "    width=1000\n",
    ").mark_line().encode(\n",
    "    x=\"dt\",\n",
    "    y=\"co2_per_capita\",\n",
    "    color=\"name:N\",\n",
    "    tooltip=[\"name\",\"dt\"]\n",
    ")\n",
    "line_chart & line_chart.encode(y=\"co2\") & line_chart.encode(y=\"gdp\") & line_chart.encode(y=\"population\")"
   ]
  },
  {
   "cell_type": "markdown",
   "id": "3717ffb3-9e98-4a76-9337-5c196d5de71f",
   "metadata": {},
   "source": [
    "# Connected Scatter Plot\n",
    "\n",
    "Connected scatter plots are less popular chart types, which enables the visualization of timelines in two dimensions. How ever, they can get messy quickly "
   ]
  },
  {
   "cell_type": "code",
   "execution_count": null,
   "id": "8d5da7d6-8725-45fd-8000-42da78374d0b",
   "metadata": {},
   "outputs": [],
   "source": [
    "chart = alt.Chart(construct_groups().query(\"year>1900\"),\n",
    "    height=600,\n",
    "    width=1000,\n",
    ").mark_circle().encode(\n",
    "    x=\"co2:Q\",\n",
    "    y=\"co2_per_capita:Q\",\n",
    "    color=\"name:N\",\n",
    "    order=\"year\",\n",
    "    tooltip=[\"name\", \"year\"]\n",
    ")\n",
    "chart + chart.mark_trail().encode()"
   ]
  },
  {
   "cell_type": "markdown",
   "id": "0a39e996-ce0d-4151-a996-022d1e611747",
   "metadata": {},
   "source": [
    "A very similiar plot in plotly-express"
   ]
  },
  {
   "cell_type": "code",
   "execution_count": null,
   "id": "65edb4c2-d2cc-4123-a709-89f96b2d0240",
   "metadata": {},
   "outputs": [],
   "source": [
    "px.scatter(\n",
    "    construct_groups(),\n",
    "    x=\"co2\",\n",
    "    y=\"co2_per_capita\",\n",
    "    color=\"name\",\n",
    "    hover_data=[\"name\", \"year\", \"co2\", \"co2_per_capita\"],\n",
    "    height=600,\n",
    "    width=1000,\n",
    ")"
   ]
  },
  {
   "cell_type": "code",
   "execution_count": null,
   "id": "a1f74ad2-ccf8-430c-bff7-4c8cf7f9fa9e",
   "metadata": {},
   "outputs": [],
   "source": [
    "px.scatter(\n",
    "    construct_groups([\"China\", \"United States\", \"Russia\", \"Germany\", \"India\", \"Japan\"]).query(\"year > 1900\"),\n",
    "    x=\"co2\",\n",
    "    y=\"co2_per_capita\",\n",
    "    size=\"population\",\n",
    "    color=\"name\",\n",
    "    hover_data=[\"name\", \"year\", \"co2\", \"co2_per_capita\"],\n",
    "    height=600,\n",
    "    width=1000,\n",
    "    animation_frame=\"year\", \n",
    "    animation_group=\"name\",\n",
    "    range_x=[0,12000], \n",
    "    range_y=[0,25]\n",
    ")"
   ]
  },
  {
   "cell_type": "markdown",
   "id": "0850bdb2-4e2e-460e-82e0-0e4e28e81566",
   "metadata": {
    "tags": []
   },
   "source": [
    "# 📝 Turn Chart into an interactive dashboard and find other interesting visualizations"
   ]
  },
  {
   "cell_type": "code",
   "execution_count": null,
   "id": "8b15fbf8-4c48-4df1-be97-6c6b05950902",
   "metadata": {},
   "outputs": [],
   "source": [
    "def create_scatter_plot(x=\"co2\",y=\"co2_per_capita\", countries=[]):\n",
    "    chart = alt.Chart(construct_groups(countries).query(\"year>1900\"),\n",
    "        height=600,\n",
    "        width=1000,\n",
    "    ).mark_circle().encode(\n",
    "        x=x,\n",
    "        y=y,\n",
    "        color=\"name:N\",\n",
    "        order=\"year\",\n",
    "        tooltip=[\"name\", \"year\"]\n",
    "    )\n",
    "    return chart + chart.mark_trail().encode()\n",
    "\n",
    "interact(create_scatter_plot, \n",
    "         x=widgets.Dropdown(options=countries.columns, value=\"co2\"),\n",
    "         y=widgets.Dropdown(options=countries.columns, value=\"co2_per_capita\"),\n",
    "        countries = widgets.SelectMultiple(options=countries.country.unique().tolist()))"
   ]
  },
  {
   "cell_type": "markdown",
   "id": "2c6cf6c6-6ca9-45fa-ab04-ffb6d34ae108",
   "metadata": {},
   "source": [
    "# Parallel Coordinates "
   ]
  },
  {
   "cell_type": "code",
   "execution_count": null,
   "id": "9b49fb3b-6f02-4fa9-8652-1cb99c679704",
   "metadata": {},
   "outputs": [],
   "source": [
    "df = construct_groups().loc[filter_most_recent,[\"name\", *cols_co2_sources]]\n",
    "alt.Chart(df.melt(\"name\")).mark_bar().encode(y=\"name\", color=\"variable\", x=\"value\", tooltip=[\"name\", \"variable\", \"value\"])"
   ]
  },
  {
   "cell_type": "code",
   "execution_count": null,
   "id": "e65b115a-0d1d-4880-909d-6fe749dd48ef",
   "metadata": {},
   "outputs": [],
   "source": [
    "relative_fraction = df[[\"name\"]].join(df.fillna(0).select_dtypes(np.number).div(df.drop(columns=[\"name\"]).sum(axis=1), axis=0))"
   ]
  },
  {
   "cell_type": "code",
   "execution_count": null,
   "id": "abc7659a-b00a-49c6-b4e1-474336c62988",
   "metadata": {},
   "outputs": [],
   "source": [
    "fig = px.line_polar(relative_fraction.melt(\"name\"), r=\"value\", theta=\"variable\", color=\"name\", line_close=True,\n",
    "            color_discrete_sequence=px.colors.sequential.Plasma_r)\n",
    "fig.show()"
   ]
  },
  {
   "cell_type": "code",
   "execution_count": null,
   "id": "b5a77fd5-f1e5-4e63-9fe6-753b78206eb5",
   "metadata": {},
   "outputs": [],
   "source": [
    "plot_df = countries.loc[filter_most_recent, [\"continent\", \"country\"] + cols_co2_sources].melt([\"continent\", \"country\"]).fillna(0)"
   ]
  },
  {
   "cell_type": "code",
   "execution_count": null,
   "id": "5279372b-717d-4f0d-aab6-b2c2f38959d3",
   "metadata": {},
   "outputs": [],
   "source": [
    "# Parallel Coordinates"
   ]
  },
  {
   "cell_type": "code",
   "execution_count": null,
   "id": "07914685-6586-48c7-9e8c-2e2e31b61794",
   "metadata": {},
   "outputs": [],
   "source": [
    "px.parallel_coordinates(relative_fraction, labels=[\"name\"])"
   ]
  },
  {
   "cell_type": "code",
   "execution_count": null,
   "id": "0383142a-362f-4636-8fb8-a87331c07b62",
   "metadata": {
    "tags": []
   },
   "outputs": [],
   "source": [
    "# Inspired from https://altair-viz.github.io/gallery/parallel_coordinates.html\n",
    "\n",
    "alt.Chart(relative_fraction.fillna(0).melt([\"name\"])).mark_line().encode(\n",
    "    x='variable:N',\n",
    "    y='value:Q',\n",
    "    color='name:N',\n",
    "    detail='name:N',\n",
    "    opacity=alt.value(0.5)\n",
    ").properties(width=500)"
   ]
  },
  {
   "cell_type": "markdown",
   "id": "33b77a04-b98e-4373-815c-81fc0f16c1b8",
   "metadata": {
    "tags": []
   },
   "source": [
    "#  📝Make the time configurable within the dashboard"
   ]
  },
  {
   "cell_type": "markdown",
   "id": "58b5c365-e9d2-48f4-a1bd-dc4867775003",
   "metadata": {},
   "source": [
    "## Option 1: Using the dashboard"
   ]
  },
  {
   "cell_type": "code",
   "execution_count": null,
   "id": "0c4cf621-f845-4c3f-8909-e9d11327b8cd",
   "metadata": {},
   "outputs": [],
   "source": [
    "def create_scatter_plot(x, y, date):\n",
    "    most_recent = raw_data.loc[raw_data.date.astype(str)==date.strftime(\"%Y-%m-%d\")]\n",
    "    plot_df = most_recent.groupby([\"location\",\"continent\"])[[x,y]].sum().reset_index(level=1).reset_index()\n",
    "    return px.scatter(plot_df, x=x,y=y,color=\"continent\", hover_name=\"location\", height=600, width=1000)"
   ]
  },
  {
   "cell_type": "code",
   "execution_count": null,
   "id": "358fe0da-c180-497b-a4ab-af26b0024c40",
   "metadata": {},
   "outputs": [],
   "source": [
    "from datetime import datetime\n",
    "today = datetime.strptime(raw_data.date.max(), \"%Y-%m-%d\").date()"
   ]
  },
  {
   "cell_type": "code",
   "execution_count": null,
   "id": "f46563a6-8fce-4967-a79c-2539961aeb68",
   "metadata": {},
   "outputs": [],
   "source": [
    "numerical_columns= list(raw_data.select_dtypes(np.number).columns)\n",
    "x = widgets.Dropdown(options=numerical_columns, value=\"new_cases\")\n",
    "y = widgets.Dropdown(options=numerical_columns, value=\"new_deaths\")\n",
    "date = widgets.DatePicker(value=today)\n",
    "interact(create_scatter_plot, x=x, y=y, date=date)"
   ]
  },
  {
   "cell_type": "markdown",
   "id": "926dc94d-e01b-48c7-9de1-2dc39df238df",
   "metadata": {
    "tags": []
   },
   "source": [
    "## Option 2: Using plotly"
   ]
  },
  {
   "cell_type": "code",
   "execution_count": null,
   "id": "2f70573e-4511-4759-a660-33f483b92db7",
   "metadata": {},
   "outputs": [],
   "source": [
    "def create_scatter_plot(x, y):\n",
    "    plot_df = most_recent.groupby([\"date\",\"location\",\"continent\"])[[x,y]].sum().reset_index(level=1).reset_index()\n",
    "    return px.scatter(plot_df, x=x,y=y,color=\"continent\", hover_name=\"location\", height=600, width=1000)"
   ]
  },
  {
   "cell_type": "code",
   "execution_count": null,
   "id": "5ce4531c-3f8b-466c-8094-a116ebaaf6b8",
   "metadata": {},
   "outputs": [],
   "source": [
    "from datetime import datetime\n",
    "today = datetime.strptime(raw_data.date.max(), \"%Y-%m-%d\").date()"
   ]
  },
  {
   "cell_type": "code",
   "execution_count": null,
   "id": "41e5333e-f522-4ad2-ba0e-2cf53c6e690c",
   "metadata": {},
   "outputs": [],
   "source": [
    "\n",
    "x=\"new_cases_per_million\"\n",
    "y=\"new_deaths_per_million\"  \n",
    "plot_df = countries.groupby([\"date\",\"location\",\"continent\"])[[x,y]].sum().reset_index(level=1).reset_index()\n",
    "plot_df[\"days_past\"] = (plot_df.date - today).dt.days "
   ]
  },
  {
   "cell_type": "code",
   "execution_count": null,
   "id": "1674c1df-a817-48fa-bc4c-544d8e0c9704",
   "metadata": {},
   "outputs": [],
   "source": [
    "fig = px.scatter(\n",
    "    plot_df, \n",
    "    x=x, y=y,\n",
    "    animation_frame=\"days_past\", \n",
    "    color=\"continent\", \n",
    "    hover_name=\"location\", \n",
    "    range_x=[0,250000], \n",
    "    range_y=[0,10000]\n",
    ")\n",
    "fig.show()"
   ]
  },
  {
   "cell_type": "markdown",
   "id": "86ff24a7-99df-4e36-b54f-a06e27bb1915",
   "metadata": {},
   "source": [
    "# Small Multiples"
   ]
  },
  {
   "cell_type": "code",
   "execution_count": null,
   "id": "35b025f4-3cde-425e-b279-2c1d61584245",
   "metadata": {},
   "outputs": [],
   "source": [
    "alt.data_transformers.disable_max_rows()"
   ]
  },
  {
   "cell_type": "code",
   "execution_count": null,
   "id": "bd9e1e49-0b2c-492e-8e5c-2a839fd77fea",
   "metadata": {},
   "outputs": [],
   "source": [
    "plot_df"
   ]
  },
  {
   "cell_type": "code",
   "execution_count": null,
   "id": "560fe0b6-519e-43c1-beae-655df0669e21",
   "metadata": {},
   "outputs": [],
   "source": [
    "px.scatter(plot_df, x=\"new_cases_per_million\", y=\"new_deaths_per_million\", facet_row=\"year_month\", facet_col=\"continent\")"
   ]
  },
  {
   "cell_type": "code",
   "execution_count": null,
   "id": "b290c8db-ad8d-4007-be91-97c3155ed597",
   "metadata": {},
   "outputs": [],
   "source": [
    "countries.query(\"location=='Italy'\")"
   ]
  },
  {
   "cell_type": "code",
   "execution_count": null,
   "id": "ed125993-1c37-4016-b511-db586335380b",
   "metadata": {},
   "outputs": [],
   "source": [
    "alt.Chart(plot_df, height=100, width=100).mark_circle().encode(\n",
    "    x=alt.X(field='new_cases_per_million', aggregate='mean', type='quantitative'),\n",
    "    y=alt.X(field=\"new_deaths_per_million\", aggregate='mean', type='quantitative'),\n",
    "    color=\"continent:N\", \n",
    "    tooltip=[\"location\",\"new_cases_per_million\", \"new_deaths_per_million\"], \n",
    "    #size=alt.Size(\"life_expectancy\", aggregate='mean', type='quantitative'),\n",
    "    column=\"continent:N\",\n",
    "    row=\"year_month:O\"\n",
    ")"
   ]
  },
  {
   "cell_type": "code",
   "execution_count": null,
   "id": "2e6883a1-cb2b-48e2-b79c-4a004ce5c3af",
   "metadata": {},
   "outputs": [],
   "source": [
    "alt.Chart(plot_df, height=100, width=100).mark_circle().encode(\n",
    "    x=alt.X(field='new_cases_per_million', aggregate='mean', type='quantitative'),\n",
    "    y=alt.X(field=\"new_deaths_per_million\", aggregate='mean', type='quantitative'),\n",
    "    color=\"continent:N\", \n",
    "    tooltip=[\"location\",\"new_cases_per_million\", \"new_deaths_per_million\", \"life_expectancy\"], \n",
    "    size=alt.Size(\"life_expectancy\", aggregate='mean', type='quantitative'),\n",
    "    column=\"continent:N\",\n",
    "    row=\"year_month:O\"\n",
    ")"
   ]
  },
  {
   "cell_type": "code",
   "execution_count": null,
   "id": "2a7bd040-85c9-4a76-8420-69d5b1a756a0",
   "metadata": {},
   "outputs": [],
   "source": [
    "alt.Chart(plot_df, height=100, width=100).mark_circle().encode(\n",
    "    x=alt.X(field='new_cases_per_million', aggregate='mean', type='quantitative'),\n",
    "    y=alt.X(field=\"new_deaths_per_million\", aggregate='mean', type='quantitative'),\n",
    "    color=\"continent:N\", \n",
    "    tooltip=[\"location\",\"new_cases_per_million\", \"new_deaths_per_million\", \"life_expectancy\"], \n",
    "    size=alt.Size(\"life_expectancy\", aggregate='mean', type='quantitative'),\n",
    "    column=\"continent:N\",\n",
    "    row=\"year_month:O\"\n",
    ")"
   ]
  }
 ],
 "metadata": {
  "kernelspec": {
   "display_name": "py-dashboarding",
   "language": "python",
   "name": "py-dashboarding"
  },
  "language_info": {
   "codemirror_mode": {
    "name": "ipython",
    "version": 3
   },
   "file_extension": ".py",
   "mimetype": "text/x-python",
   "name": "python",
   "nbconvert_exporter": "python",
   "pygments_lexer": "ipython3",
   "version": "3.8.7"
  }
 },
 "nbformat": 4,
 "nbformat_minor": 5
}
