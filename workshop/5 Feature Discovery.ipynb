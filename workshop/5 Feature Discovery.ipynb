{
 "cells": [
  {
   "cell_type": "code",
   "execution_count": null,
   "id": "e599c981-f26e-4917-8638-8123d43306fc",
   "metadata": {},
   "outputs": [],
   "source": [
    "%run _prepare.ipynb"
   ]
  },
  {
   "cell_type": "markdown",
   "id": "ecb5368b-83ac-4290-8ecb-42da1e49db01",
   "metadata": {
    "tags": []
   },
   "source": [
    "# Gain insights (Notebook 5)\n",
    "\n",
    "After checking the data for exceptions and distributions, checking key columns as well as time and geographic information, it is time to combine these skills and try to get some interesting insights. \n",
    "\n",
    "Topics of this notebook: \n",
    "\n",
    "* Which other interesting features other then co2 does the data contain?\n",
    "* How can we quickly quickly iterate over different datapoints and selections\n",
    "* How can we deal with the different magnitudes of countries emissions"
   ]
  },
  {
   "cell_type": "markdown",
   "id": "354d2e7e-f0e6-437b-8980-4b6aa9fc24df",
   "metadata": {},
   "source": [
    "## How to deal with the different magnitudes of countries?"
   ]
  },
  {
   "cell_type": "code",
   "execution_count": null,
   "id": "329f8b98-582b-43dd-b9a4-9bc9a5650475",
   "metadata": {},
   "outputs": [],
   "source": [
    "plot_df = countries.groupby([\"country\",\"continent\"])[[\"co2\",\"co2_per_capita\"]].sum().reset_index(level=1).reset_index()\n",
    "px.scatter(\n",
    "    plot_df,\n",
    "    x=\"co2\",\n",
    "    y=\"co2_per_capita\",\n",
    "    color=\"continent\",\n",
    "    hover_name=\"country\",\n",
    "    height=600,\n",
    "    width=1000,\n",
    "    marginal_y=\"box\",\n",
    "    marginal_x=\"box\"\n",
    ")"
   ]
  },
  {
   "cell_type": "markdown",
   "id": "6378668e-52f9-40b9-899b-551eb7b7c81e",
   "metadata": {
    "tags": []
   },
   "source": [
    "# Analyzing changes\n",
    "\n",
    "If the entities have extremly different magnitudes of size, one option is to analye changes."
   ]
  },
  {
   "cell_type": "code",
   "execution_count": null,
   "id": "95ae80ea-1274-46f5-863d-ee3938e48c9a",
   "metadata": {},
   "outputs": [],
   "source": [
    "aggregation_var = \"co2_per_capita\"\n",
    "other_cols = [\"population\"]\n",
    "base_year = 1990\n",
    "plot_df = countries.loc[countries.year==2020].groupby([\"country\",\"continent\"])[[aggregation_var, *other_cols]].mean().add_prefix(\"2020_\").join(\n",
    "    countries.loc[countries.year==base_year].groupby([\"country\",\"continent\"])[[aggregation_var, *other_cols]].mean().add_prefix(f\"{base_year}_\")\n",
    ").reset_index()\n",
    "\n",
    "chart = alt.Chart(\n",
    "    plot_df, height=300, width=800\n",
    ").mark_circle().encode(\n",
    "    x=f\"{base_year}_{aggregation_var}:Q\", \n",
    "    y=f\"2020_{aggregation_var}:Q\", \n",
    "    color=\"continent\", \n",
    "    \n",
    "    tooltip=[\"country\", f\"{base_year}_{aggregation_var}\", f\"2020_{aggregation_var}\"]\n",
    ") \n",
    "\n",
    "min_max = plot_df.filter(like=aggregation_var).max().min()\n",
    "diagonal = alt.Chart(\n",
    "    pd.DataFrame({ 'x': [0, min_max], 'y':  [0, min_max]})\n",
    ").mark_line(color= 'red').encode( \n",
    "    x= 'x',\n",
    "    y= 'y',\n",
    ")\n",
    "chart + diagonal"
   ]
  },
  {
   "cell_type": "markdown",
   "id": "0322fa48-297e-4b70-b408-88832793a2e2",
   "metadata": {},
   "source": [
    "Transforming this into an interactive fashion:"
   ]
  },
  {
   "cell_type": "code",
   "execution_count": null,
   "id": "7fa992eb-d4f4-4659-b9ba-3284ebc9e24d",
   "metadata": {},
   "outputs": [],
   "source": [
    "def plot_year_relationship(aggregation_var = \"co2_per_capita\", other_cols = [\"population\"], base_year = 1990):\n",
    "    plot_df = countries.loc[countries.year==2020].groupby([\"country\",\"continent\"])[[aggregation_var, *other_cols]].mean().add_prefix(\"2020_\").join(\n",
    "        countries.loc[countries.year==base_year].groupby([\"country\",\"continent\"])[[aggregation_var, *other_cols]].mean().add_prefix(f\"{base_year}_\")\n",
    "    ).reset_index()\n",
    "\n",
    "    chart = alt.Chart(\n",
    "        plot_df, height=300, width=800\n",
    "    ).mark_circle().encode(\n",
    "        x=f\"{base_year}_{aggregation_var}:Q\", \n",
    "        y=f\"2020_{aggregation_var}:Q\", \n",
    "        color=\"continent\", \n",
    "\n",
    "        tooltip=[\"country\", f\"{base_year}_{aggregation_var}\", f\"2020_{aggregation_var}\"]\n",
    "    ) \n",
    "\n",
    "    min_max = plot_df.filter(like=aggregation_var).max().min()\n",
    "    diagonal = alt.Chart(\n",
    "        pd.DataFrame({ 'x': [0, min_max], 'y':  [0, min_max]})\n",
    "    ).mark_line(color= 'red').encode( \n",
    "        x= 'x',\n",
    "        y= 'y',\n",
    "    )\n",
    "    chart + diagonal"
   ]
  },
  {
   "cell_type": "code",
   "execution_count": null,
   "id": "4e6a5f5f-cd65-41d9-bc32-25339257bc9b",
   "metadata": {},
   "outputs": [],
   "source": [
    "widgets.Dropdown()\n",
    "widgets.Dropdown()\n",
    "widgets.Mu()\n",
    "\n",
    "interact(aggregation_var = , other_cols = [\"population\"], base_year = 1990)"
   ]
  },
  {
   "cell_type": "markdown",
   "id": "ad5ba497-5e1e-44f9-a58d-71b8e1194e7a",
   "metadata": {
    "tags": []
   },
   "source": [
    "# A contribute to Hans Rosling's Gapminder\n",
    "\n",
    "Hans Rosling was not only the author of the great book \"factfullness\", but researched on global development for many years. Within his workings he also developed a tool named Gapminder or Trendalyzer. This tool is basically a bubble-chart on GDP per capita (x-axis), life expectancy (y-axis) and population size (bubble size). The special thing about it is the time-slider, which shows those key-characteristics in a trend over time.\n",
    "\n",
    "Inspired by this, we can do something similiar regarding CO2 consumption:"
   ]
  },
  {
   "cell_type": "code",
   "execution_count": null,
   "id": "acbd2b50-3cca-4ea9-a480-66dfb1b03ebf",
   "metadata": {},
   "outputs": [],
   "source": [
    "px.scatter(\n",
    "    countries.query(\"year > 1900\").fillna(0),\n",
    "    x=\"consumption_co2_per_gdp\",\n",
    "    y=\"co2_per_capita\",\n",
    "    size=\"population\",\n",
    "    color=\"country\",\n",
    "    hover_data=[\"country\", \"year\", \"co2\", \"co2_per_capita\"],\n",
    "    height=600,\n",
    "    width=1000,\n",
    "    animation_frame=\"year\", \n",
    "    animation_group=\"country\"\n",
    ")s"
   ]
  },
  {
   "cell_type": "code",
   "execution_count": null,
   "id": "a1f74ad2-ccf8-430c-bff7-4c8cf7f9fa9e",
   "metadata": {},
   "outputs": [],
   "source": [
    "px.scatter(\n",
    "    construct_groups([\"China\", \"United States\", \"Russia\", \"Germany\", \"India\", \"Japan\"]).query(\"year > 1900\"),\n",
    "    x=\"co2\",\n",
    "    y=\"co2_per_capita\",\n",
    "    size=\"population\",\n",
    "    color=\"name\",\n",
    "    hover_data=[\"name\", \"year\", \"co2\", \"co2_per_capita\"],\n",
    "    height=600,\n",
    "    width=1000,\n",
    "    animation_frame=\"year\", \n",
    "    animation_group=\"name\",\n",
    "    range_x=[0,12000], \n",
    "    range_y=[0,25]\n",
    ")"
   ]
  },
  {
   "cell_type": "code",
   "execution_count": null,
   "id": "a17fba2d-30da-4f89-a1b6-b4c005d0ace0",
   "metadata": {},
   "outputs": [],
   "source": [
    "px.scatter(\n",
    "    countries.query(\"year > 1900\").fillna(0),\n",
    "    x=\"consumption_co2_per_gdp\",\n",
    "    y=\"co2_per_capita\",\n",
    "    size=\"population\",\n",
    "    color=\"country\",\n",
    "    hover_data=[\"country\", \"year\", \"co2\", \"co2_per_capita\"],\n",
    "    height=600,\n",
    "    width=1000,\n",
    "    animation_frame=\"year\", \n",
    "    animation_group=\"country\"\n",
    ")"
   ]
  },
  {
   "cell_type": "markdown",
   "id": "6a04cac8-25d9-4153-b1c5-a5398c53e687",
   "metadata": {},
   "source": [
    "# Focus on the relevant\n",
    "\n",
    "To many information can distract attention on the important ones. Therefore it is totally valid and actually beneficial to create more balanced groups"
   ]
  },
  {
   "cell_type": "code",
   "execution_count": null,
   "id": "8d3eecef-7398-4f3d-aa5f-6045c123c9ad",
   "metadata": {},
   "outputs": [],
   "source": [
    "def construct_groups(single_important_countries = [\"China\", \"United States\"]):\n",
    "    # Create a list of interesting metrics that keep truth by aggregation\n",
    "    summable_metrics = ['co2', 'trade_co2', 'cement_co2','coal_co2', 'flaring_co2', 'gas_co2', 'oil_co2', 'other_industry_co2','consumption_co2', 'total_ghg', 'total_ghg_excluding_lucf', 'methane','nitrous_oxide', 'population', 'gdp', 'primary_energy_consumption']\n",
    "    aggregations = dict(zip(summable_metrics, [\"sum\"] * len(summable_metrics)))\n",
    "\n",
    "    # Split the list of countries into groups\n",
    "    filter_term = countries.country.isin(single_important_countries)\n",
    "    groups = countries.loc[~filter_term].fillna(0).groupby([\"continent\", \"year\"]).agg(aggregations).reset_index()\n",
    "\n",
    "    groups_important_countries = countries.loc[filter_term, [\"country\"] + list(groups.columns)].rename(columns={\"country\": \"name\"})\n",
    "\n",
    "    groups[\"name\"] = groups.continent\n",
    "    groups = groups.append(groups_important_countries)\n",
    "    groups = groups.assign(co2_per_capita = groups.co2 / groups.population * 10e5).sort_values(\"year\")\n",
    "    return groups"
   ]
  },
  {
   "cell_type": "markdown",
   "id": "421a8933-d4f4-421c-9270-ccfb06aa74ac",
   "metadata": {},
   "source": [
    "## Showing the same using another visualization"
   ]
  },
  {
   "cell_type": "code",
   "execution_count": null,
   "id": "9304563e-3b4d-4d2e-903e-a08e61d38d1d",
   "metadata": {},
   "outputs": [],
   "source": [
    "plot_df = construct_groups()\n",
    "plot_df.name.value_counts()"
   ]
  },
  {
   "cell_type": "code",
   "execution_count": null,
   "id": "43c0c6b4-8f95-41a9-ace8-2bc5f82bc983",
   "metadata": {},
   "outputs": [],
   "source": [
    "plot_df = construct_groups([\"China\", \"United States\", \"Russia\", \"Germany\", \"India\", \"Japan\"]).query(\"year > 1900\")"
   ]
  },
  {
   "cell_type": "code",
   "execution_count": null,
   "id": "4b58eb1b-5258-46e0-a3e5-fac8da6defe4",
   "metadata": {},
   "outputs": [],
   "source": [
    "plot_df[\"dt\"] = pd.to_datetime(plot_df.year.astype(str) + \"-01-01\")\n",
    "line_chart = alt.Chart(\n",
    "    plot_df,\n",
    "    width=1000\n",
    ").mark_line().encode(\n",
    "    x=\"dt\",\n",
    "    y=\"co2_per_capita\",\n",
    "    color=\"name:N\",\n",
    "    tooltip=[\"name\",\"dt\"]\n",
    ")\n",
    "line_chart & line_chart.encode(y=\"co2\") & line_chart.encode(y=\"gdp\") & line_chart.encode(y=\"population\")"
   ]
  },
  {
   "cell_type": "markdown",
   "id": "3717ffb3-9e98-4a76-9337-5c196d5de71f",
   "metadata": {},
   "source": [
    "# Connected Scatter Plot\n",
    "\n",
    "Connected scatter plots are less popular chart types, which enables the visualization of timelines in two dimensions. How ever, they can get messy quickly "
   ]
  },
  {
   "cell_type": "code",
   "execution_count": null,
   "id": "8d5da7d6-8725-45fd-8000-42da78374d0b",
   "metadata": {},
   "outputs": [],
   "source": [
    "chart = alt.Chart(construct_groups().query(\"year>1900\"),\n",
    "    height=600,\n",
    "    width=1000,\n",
    ").mark_circle().encode(\n",
    "    x=\"co2:Q\",\n",
    "    y=\"co2_per_capita:Q\",\n",
    "    color=\"name:N\",\n",
    "    order=\"year\",\n",
    "    tooltip=[\"name\", \"year\"]\n",
    ")\n",
    "chart + chart.mark_trail().encode()"
   ]
  },
  {
   "cell_type": "markdown",
   "id": "0a39e996-ce0d-4151-a996-022d1e611747",
   "metadata": {},
   "source": [
    "A very similiar plot in plotly-express"
   ]
  },
  {
   "cell_type": "code",
   "execution_count": null,
   "id": "65edb4c2-d2cc-4123-a709-89f96b2d0240",
   "metadata": {},
   "outputs": [],
   "source": [
    "px.scatter(\n",
    "    construct_groups(),\n",
    "    x=\"co2\",\n",
    "    y=\"co2_per_capita\",\n",
    "    color=\"name\",\n",
    "    hover_data=[\"name\", \"year\", \"co2\", \"co2_per_capita\"],\n",
    "    height=600,\n",
    "    width=1000,\n",
    ")"
   ]
  },
  {
   "cell_type": "markdown",
   "id": "0850bdb2-4e2e-460e-82e0-0e4e28e81566",
   "metadata": {
    "tags": []
   },
   "source": [
    "# 📝 Turn Chart into an interactive dashboard and find other interesting visualizations"
   ]
  },
  {
   "cell_type": "code",
   "execution_count": null,
   "id": "8b15fbf8-4c48-4df1-be97-6c6b05950902",
   "metadata": {},
   "outputs": [],
   "source": [
    "def create_scatter_plot(x=\"co2\",y=\"co2_per_capita\", countries=[]):\n",
    "    chart = alt.Chart(construct_groups(countries).query(\"year>1900\"),\n",
    "        height=600,\n",
    "        width=1000,\n",
    "    ).mark_circle().encode(\n",
    "        x=x,\n",
    "        y=y,\n",
    "        color=\"name:N\",\n",
    "        order=\"year\",\n",
    "        tooltip=[\"name\", \"year\"]\n",
    "    )\n",
    "    return chart + chart.mark_trail().encode()\n",
    "\n",
    "interact(create_scatter_plot, \n",
    "         x=widgets.Dropdown(options=countries.columns, value=\"co2\"),\n",
    "         y=widgets.Dropdown(options=countries.columns, value=\"co2_per_capita\"),\n",
    "        countries = widgets.SelectMultiple(options=countries.country.unique().tolist()))"
   ]
  },
  {
   "cell_type": "markdown",
   "id": "2c6cf6c6-6ca9-45fa-ab04-ffb6d34ae108",
   "metadata": {
    "tags": []
   },
   "source": [
    "# Parallel Coordinates "
   ]
  },
  {
   "cell_type": "code",
   "execution_count": null,
   "id": "9b49fb3b-6f02-4fa9-8652-1cb99c679704",
   "metadata": {},
   "outputs": [],
   "source": [
    "df = construct_groups().loc[filter_most_recent,[\"name\", *cols_co2_sources]]\n",
    "alt.Chart(df.melt(\"name\")).mark_bar().encode(y=\"name\", color=\"variable\", x=\"value\", tooltip=[\"name\", \"variable\", \"value\"])"
   ]
  },
  {
   "cell_type": "code",
   "execution_count": null,
   "id": "e65b115a-0d1d-4880-909d-6fe749dd48ef",
   "metadata": {},
   "outputs": [],
   "source": [
    "relative_fraction = df[[\"name\"]].join(df.fillna(0).select_dtypes(np.number).div(df.drop(columns=[\"name\"]).sum(axis=1), axis=0))"
   ]
  },
  {
   "cell_type": "markdown",
   "id": "bcac71d7-ce8b-4554-84f0-97ad7add3fad",
   "metadata": {},
   "source": [
    "## Line Polar"
   ]
  },
  {
   "cell_type": "code",
   "execution_count": null,
   "id": "abc7659a-b00a-49c6-b4e1-474336c62988",
   "metadata": {},
   "outputs": [],
   "source": [
    "fig = px.line_polar(relative_fraction.melt(\"name\"), r=\"value\", theta=\"variable\", color=\"name\", line_close=True,\n",
    "            color_discrete_sequence=px.colors.sequential.Plasma_r)\n",
    "fig.show()"
   ]
  },
  {
   "cell_type": "code",
   "execution_count": null,
   "id": "b5a77fd5-f1e5-4e63-9fe6-753b78206eb5",
   "metadata": {},
   "outputs": [],
   "source": [
    "plot_df = countries.loc[filter_most_recent, [\"continent\", \"country\"] + cols_co2_sources].melt([\"continent\", \"country\"]).fillna(0)"
   ]
  },
  {
   "cell_type": "markdown",
   "id": "e39914c0-878f-4625-bb2d-0aec4a6ae183",
   "metadata": {},
   "source": [
    "## Parallel Coordinates"
   ]
  },
  {
   "cell_type": "code",
   "execution_count": null,
   "id": "07914685-6586-48c7-9e8c-2e2e31b61794",
   "metadata": {},
   "outputs": [],
   "source": [
    "px.parallel_coordinates(relative_fraction, labels=[\"name\"])"
   ]
  },
  {
   "cell_type": "code",
   "execution_count": null,
   "id": "0383142a-362f-4636-8fb8-a87331c07b62",
   "metadata": {
    "tags": []
   },
   "outputs": [],
   "source": [
    "# Inspired from https://altair-viz.github.io/gallery/parallel_coordinates.html\n",
    "\n",
    "alt.Chart(relative_fraction.fillna(0).melt([\"name\"])).mark_line().encode(\n",
    "    x='variable:N',\n",
    "    y='value:Q',\n",
    "    color='name:N',\n",
    "    detail='name:N',\n",
    "    opacity=alt.value(0.5)\n",
    ").properties(width=500)"
   ]
  },
  {
   "cell_type": "markdown",
   "id": "33b77a04-b98e-4373-815c-81fc0f16c1b8",
   "metadata": {
    "tags": []
   },
   "source": [
    "#  📝Make the time configurable within the dashboard"
   ]
  }
 ],
 "metadata": {
  "kernelspec": {
   "display_name": "py-dashboarding",
   "language": "python",
   "name": "py-dashboarding"
  },
  "language_info": {
   "codemirror_mode": {
    "name": "ipython",
    "version": 3
   },
   "file_extension": ".py",
   "mimetype": "text/x-python",
   "name": "python",
   "nbconvert_exporter": "python",
   "pygments_lexer": "ipython3",
   "version": "3.8.7"
  }
 },
 "nbformat": 4,
 "nbformat_minor": 5
}
