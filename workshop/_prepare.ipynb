{
 "cells": [
  {
   "cell_type": "code",
   "execution_count": null,
   "id": "3a93fbc2-e1ba-4554-86bf-05eab4029445",
   "metadata": {},
   "outputs": [],
   "source": [
    "import pandas as pd\n",
    "import datetime\n",
    "\n",
    "# if you don't want to load data all the time\n",
    "#!wget https://covid.ourworldindata.org/data/owid-covid-data.csv -O ../data/owid-covid-data.csv \n",
    "#raw_data = pd.read_csv(\"../data/owid-covid-data.csv\")\n",
    "\n",
    "raw_data = pd.read_csv(\"https://covid.ourworldindata.org/data/owid-covid-data.csv\")\n",
    "countries = raw_data.dropna(subset=[\"continent\"])\n",
    "countries.assign(date = pd.to_datetime(countries.date).dt.date)"
   ]
  },
  {
   "cell_type": "code",
   "execution_count": null,
   "id": "7f602b7b-1d92-45f1-8c24-a664a6fc0c09",
   "metadata": {},
   "outputs": [],
   "source": [
    "if False:\n",
    "    countries = raw_data.dropna(subset=[\"continent\"])\n",
    "    countries = countries.assign(\n",
    "        datetime = pd.to_datetime(countries.date),\n",
    "        date = pd.to_datetime(countries.date).dt.date\n",
    "    )\n",
    "    countries = countries.assign(year_month = countries.datetime.dt.year.astype(str) + \"_\" + countries.datetime.dt.month.astype(str).str.pad(2, fillchar=\"0\"))\n",
    "\n",
    "    countries_actual = countries.query(f\"date == '{countries.datetime.max()}'\")\n",
    "    #print(f\"defined \\\"countries_actual\\\" on date {countries.datetime.max().date()}\")\n",
    "\n",
    "    data = raw_data[[\"continent\",\"location\",\"date\",\"new_cases\", \"new_cases_smoothed\", \"human_development_index\", \"new_deaths\"]].dropna(subset=[\"continent\"])"
   ]
  },
  {
   "cell_type": "code",
   "execution_count": null,
   "id": "977cfc91-0969-4660-943e-c2df9e86f8fa",
   "metadata": {},
   "outputs": [],
   "source": []
  }
 ],
 "metadata": {
  "kernelspec": {
   "display_name": "pyviz",
   "language": "python",
   "name": "pyviz"
  },
  "language_info": {
   "codemirror_mode": {
    "name": "ipython",
    "version": 3
   },
   "file_extension": ".py",
   "mimetype": "text/x-python",
   "name": "python",
   "nbconvert_exporter": "python",
   "pygments_lexer": "ipython3",
   "version": "3.8.7"
  }
 },
 "nbformat": 4,
 "nbformat_minor": 5
}
