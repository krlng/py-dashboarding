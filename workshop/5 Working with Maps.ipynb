{
 "cells": [
  {
   "cell_type": "code",
   "execution_count": null,
   "id": "e599c981-f26e-4917-8638-8123d43306fc",
   "metadata": {},
   "outputs": [],
   "source": [
    "%run _prepare.ipynb"
   ]
  },
  {
   "cell_type": "code",
   "execution_count": null,
   "id": "cb2cfb92-11ff-43d0-88d1-9dbc3946d3d7",
   "metadata": {},
   "outputs": [],
   "source": [
    "px.choropleth(countries.sort_values(\"year\"), \n",
    "    locations=\"iso_code\", \n",
    "    color=\"co2\", \n",
    "    hover_name=\"iso_code\", \n",
    "    animation_frame=\"year\",\n",
    "   width=1000, height=550)\n"
   ]
  },
  {
   "cell_type": "markdown",
   "id": "5f77329d-825e-4593-a3fc-b6dcb9bd1c4f",
   "metadata": {},
   "source": [
    "# Maps"
   ]
  },
  {
   "cell_type": "code",
   "execution_count": null,
   "id": "237d4ab1-54ab-4966-9e20-62f4574b537e",
   "metadata": {
    "jupyter": {
     "outputs_hidden": true
    },
    "tags": []
   },
   "outputs": [],
   "source": [
    "#url = \"https://raw.githubusercontent.com/CSSEGISandData/COVID-19/web-data/data/cases_country.csv\"\n",
    "cases = pd.read_csv(url).rename(columns={\"UID\":\"id\"})\n",
    "cols = [\"id\",\"Country_Region\", \"Confirmed\", \"Deaths\", \"Mortality_Rate\"]"
   ]
  },
  {
   "cell_type": "code",
   "execution_count": null,
   "id": "10423ef5-4b2e-4c9b-b65a-971f3a5ecb61",
   "metadata": {
    "tags": []
   },
   "outputs": [],
   "source": [
    "import altair as alt\n",
    "from vega_datasets import data as vega_data\n",
    "countries_topo = alt.topo_feature(vega_data.world_110m.url, 'countries')"
   ]
  },
  {
   "cell_type": "code",
   "execution_count": null,
   "id": "067e6006-433d-4768-a40a-b0bb2a8c8625",
   "metadata": {
    "tags": []
   },
   "outputs": [],
   "source": [
    "worldmap = alt.Chart(countries_topo, width=900, height=380).mark_geoshape(stroke=\"white\").encode(\n",
    "    tooltip=[\"id:Q\"]\n",
    ").project(\"equirectangular\")\n",
    "worldmap"
   ]
  },
  {
   "cell_type": "code",
   "execution_count": null,
   "id": "d95675bf-6ebb-4375-bc20-a7ab99be1773",
   "metadata": {
    "tags": []
   },
   "outputs": [],
   "source": [
    "cols = [\"Confirmed\", \"Deaths\", \"Mortality_Rate\"] \n",
    "\n",
    "world_topo = alt.topo_feature(vega_data.world_110m.url, 'countries')\n",
    "    \n",
    "worldmap = alt.Chart(world_topo, width=900, height=380).mark_geoshape(stroke=\"white\").encode(\n",
    "    tooltip=[\"Country_Region:N\", \"Deaths:Q\"],\n",
    "    color='Deaths:Q',\n",
    ").project(\"equirectangular\")\\\n",
    ".transform_lookup(\n",
    "    lookup='id',\n",
    "    from_=alt.LookupData(cases.fillna(0), key='id', fields=cols)\n",
    ")\n",
    "worldmap"
   ]
  },
  {
   "cell_type": "code",
   "execution_count": null,
   "id": "ce3128a6-a5dc-4972-b439-1fe754923e66",
   "metadata": {},
   "outputs": [],
   "source": [
    "worldmap"
   ]
  },
  {
   "cell_type": "code",
   "execution_count": null,
   "id": "a2b088dd-8f88-4d66-ac70-1b898bc1e43b",
   "metadata": {},
   "outputs": [],
   "source": []
  }
 ],
 "metadata": {
  "kernelspec": {
   "display_name": "py-dashboarding",
   "language": "python",
   "name": "py-dashboarding"
  },
  "language_info": {
   "codemirror_mode": {
    "name": "ipython",
    "version": 3
   },
   "file_extension": ".py",
   "mimetype": "text/x-python",
   "name": "python",
   "nbconvert_exporter": "python",
   "pygments_lexer": "ipython3",
   "version": "3.8.7"
  }
 },
 "nbformat": 4,
 "nbformat_minor": 5
}
