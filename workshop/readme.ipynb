{
 "cells": [
  {
   "cell_type": "markdown",
   "id": "9eec73c5-4370-4e89-ae0f-8aa0a27078d0",
   "metadata": {},
   "source": [
    "# Workshop \"Visual Data Exploration with Python\"\n",
    "\n",
    "Learning Goals:\n",
    "* \n",
    "\n",
    "Dataset:\n",
    "Worldwide, daily corona data by country: https://covid.ourworldindata.org/data/owid-covid-data.csv\n",
    "\n",
    "Tasks:\n",
    "What "
   ]
  },
  {
   "cell_type": "markdown",
   "id": "ffc8face-b4b7-4b0d-99bd-aaa53d812f3b",
   "metadata": {},
   "source": [
    "# Clustering"
   ]
  },
  {
   "cell_type": "code",
   "execution_count": null,
   "id": "fd7087ee-55f4-45f0-b254-4a06214c0a3a",
   "metadata": {
    "tags": []
   },
   "outputs": [],
   "source": [
    "(df[countries_above_1_million].isna().sum() / len(df)).plot.barh(figsize=(10,20))"
   ]
  },
  {
   "cell_type": "code",
   "execution_count": null,
   "id": "b8a6b23f-6aaa-4d1c-a3da-2b03b7514e57",
   "metadata": {},
   "outputs": [],
   "source": [
    "def calc_sim(df, x, y):\n",
    "    row1 = df[x]\n",
    "    row2 = df[y]\n",
    "    return np.sqrt(((row1 - row2)**2).sum()) / len(df)"
   ]
  },
  {
   "cell_type": "code",
   "execution_count": null,
   "id": "b4d92234-b569-4719-b206-cf6880c120ea",
   "metadata": {},
   "outputs": [],
   "source": [
    "%time\n",
    "import itertools\n",
    "df = raw_data[[\"date\",\"location\", \"new_cases_smoothed_per_million\"]].melt(\n",
    "    id_vars=[\"location\",\"date\"]\n",
    ").pivot(\"date\", \"location\", \"value\")#.pipe(lambda df: df.isna().sum())\n",
    "\n",
    "countries_above_1_million = raw_data[raw_data.population > 10e6].location.unique()\n",
    "combinations = (itertools.combinations(countries_above_1_million, 2))\n",
    "sims = [[*x, calc_sim(df, *x )] for x in combinations ]"
   ]
  },
  {
   "cell_type": "code",
   "execution_count": null,
   "id": "0df233b3-4bb0-437e-8b93-9a05d1c136cf",
   "metadata": {},
   "outputs": [],
   "source": [
    "df[((df.isna().sum() / len(df)) < 0.5).index.tolist()]"
   ]
  },
  {
   "cell_type": "raw",
   "id": "c5f540fc-610e-42e4-8c01-ec2240b99c95",
   "metadata": {},
   "source": [
    "countries = raw_data.dropna(subset=[\"continent\"])"
   ]
  },
  {
   "cell_type": "code",
   "execution_count": null,
   "id": "38547f27-621d-4035-b63d-eab6658a72cf",
   "metadata": {},
   "outputs": [],
   "source": [
    "countries[countries.population > 10e6].location.nunique()"
   ]
  },
  {
   "cell_type": "code",
   "execution_count": null,
   "id": "04cd16f7-094e-4739-95fc-8e6b5ef6ec05",
   "metadata": {},
   "outputs": [],
   "source": [
    "countries.groupby(\"location\").population.mean().hist(bins=100, figsize=(20,4))"
   ]
  },
  {
   "cell_type": "code",
   "execution_count": null,
   "id": "2e3fd38d-4814-4555-81ad-15a9e1ae9349",
   "metadata": {},
   "outputs": [],
   "source": [
    "countries.loc[countries.population.idxmax()]"
   ]
  },
  {
   "cell_type": "code",
   "execution_count": null,
   "id": "c5e6d742-045e-4eb7-9cf7-d3d1779991c4",
   "metadata": {},
   "outputs": [],
   "source": [
    "countries.population.max()"
   ]
  },
  {
   "cell_type": "code",
   "execution_count": null,
   "id": "82188ce5-6371-49bb-9335-b7a5f2780d72",
   "metadata": {},
   "outputs": [],
   "source": []
  }
 ],
 "metadata": {
  "kernelspec": {
   "display_name": "pyviz",
   "language": "python",
   "name": "pyviz"
  },
  "language_info": {
   "codemirror_mode": {
    "name": "ipython",
    "version": 3
   },
   "file_extension": ".py",
   "mimetype": "text/x-python",
   "name": "python",
   "nbconvert_exporter": "python",
   "pygments_lexer": "ipython3",
   "version": "3.8.7"
  }
 },
 "nbformat": 4,
 "nbformat_minor": 5
}
