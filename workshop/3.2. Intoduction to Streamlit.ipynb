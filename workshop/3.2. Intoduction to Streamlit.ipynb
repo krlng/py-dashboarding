{
 "cells": [
  {
   "cell_type": "code",
   "execution_count": null,
   "metadata": {},
   "outputs": [],
   "source": [
    "%%writefile streamlit_dashboard.py\n",
    "import streamlit as st\n",
    "import pandas as pd\n",
    "from datetime import datetime as dt\n",
    "import datetime\n",
    "\n",
    "import plotly.express as px\n",
    "\n",
    "st.title('New Cases per Continent')\n",
    "\n",
    "@st.cache\n",
    "def load_data():\n",
    "    raw_data = pd.read_csv(\"https://covid.ourworldindata.org/data/owid-covid-data.csv\")\n",
    "    countries = raw_data.dropna(subset=[\"continent\"])\n",
    "    countries = countries.assign(date = pd.to_datetime(countries.date).dt.date)\n",
    "    return countries.groupby([\"date\",\"continent\"])[\"new_cases\"].sum().reset_index()\n",
    "\n",
    "def display_continent(aggregation, start_date):\n",
    "    plot_df = df.loc[df.date > start_date]\n",
    "    plot_df = plot_df.groupby(\"continent\").rolling(aggregation, on=\"date\").new_cases.mean().reset_index()\n",
    "    chart =  px.line(plot_df, x=\"date\", y=\"new_cases\", color=\"continent\", title=\"New Cases per continent\")\n",
    "    st.plotly_chart(chart)\n",
    "\n",
    "df = load_data()\n",
    "aggregation_period = st.number_input(min_value=1, max_value=30, value=7, step=1, label=\"Aggregation\")\n",
    "start_date = st.date_input(\"Start date\", (dt.today()-datetime.timedelta(days=365)).date())\n",
    "display_continent(aggregation_period, start_date)"
   ]
  },
  {
   "cell_type": "code",
   "execution_count": null,
   "metadata": {},
   "outputs": [],
   "source": [
    "%%bash\n",
    "poetry run streamlit run streamlit_dashboard.py"
   ]
  },
  {
   "cell_type": "code",
   "execution_count": null,
   "metadata": {},
   "outputs": [],
   "source": []
  }
 ],
 "metadata": {
  "kernelspec": {
   "display_name": "pyviz",
   "language": "python",
   "name": "pyviz"
  },
  "language_info": {
   "codemirror_mode": {
    "name": "ipython",
    "version": 3
   },
   "file_extension": ".py",
   "mimetype": "text/x-python",
   "name": "python",
   "nbconvert_exporter": "python",
   "pygments_lexer": "ipython3",
   "version": "3.8.7"
  }
 },
 "nbformat": 4,
 "nbformat_minor": 4
}
