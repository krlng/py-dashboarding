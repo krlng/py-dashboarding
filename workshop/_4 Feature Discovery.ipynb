{
 "cells": [
  {
   "cell_type": "code",
   "execution_count": null,
   "id": "e599c981-f26e-4917-8638-8123d43306fc",
   "metadata": {},
   "outputs": [],
   "source": [
    "%run _prepare.ipynb"
   ]
  },
  {
   "cell_type": "markdown",
   "id": "ecb5368b-83ac-4290-8ecb-42da1e49db01",
   "metadata": {},
   "source": [
    "# Feature Discovery\n",
    "* Which other interesting features then new_cases does the data contain?\n",
    "* How can we quickly try different categorical variables"
   ]
  },
  {
   "cell_type": "code",
   "execution_count": null,
   "id": "329f8b98-582b-43dd-b9a4-9bc9a5650475",
   "metadata": {},
   "outputs": [],
   "source": [
    "plot_df = raw_data.groupby([\"location\",\"continent\"])[[\"new_cases\",\"new_deaths\"]].sum().reset_index(level=1).reset_index()\n",
    "px.scatter(plot_df, x=\"new_cases\",y=\"new_deaths\",color=\"continent\", hover_name=\"location\", height=600, width=1000)"
   ]
  },
  {
   "cell_type": "code",
   "execution_count": null,
   "id": "c5663740-538f-404a-98c5-7445fc5248fa",
   "metadata": {},
   "outputs": [],
   "source": [
    "plot_df = raw_data.groupby([\"location\",\"continent\"])[[\"new_cases\",\"new_deaths\"]].sum().reset_index(level=1).reset_index()\n",
    "px.scatter(\n",
    "    plot_df, \n",
    "    x=\"new_cases\",y=\"new_deaths\",color=\"continent\", \n",
    "    hover_name=\"location\", \n",
    "    height=600, \n",
    "    width=1000,\n",
    "    marginal_y=\"box\",\n",
    "    marginal_x=\"box\"\n",
    ")"
   ]
  },
  {
   "cell_type": "markdown",
   "id": "0850bdb2-4e2e-460e-82e0-0e4e28e81566",
   "metadata": {
    "tags": []
   },
   "source": [
    "## Turn Chart into an interactive dashboard"
   ]
  },
  {
   "cell_type": "code",
   "execution_count": null,
   "id": "8b15fbf8-4c48-4df1-be97-6c6b05950902",
   "metadata": {},
   "outputs": [],
   "source": [
    "most_recent = raw_data.loc[(~raw_data.continent.isna()) & (raw_data.date.astype(str)==raw_data.date.max())]\n",
    "\n",
    "def create_scatter_plot(x=\"new_cases\",y=\"new_deaths\"):\n",
    "    plot_df = most_recent.groupby([\"location\",\"continent\"])[[x,y]].sum().reset_index(level=1).reset_index()\n",
    "    return px.scatter(plot_df, x=x,y=y,color=\"continent\", hover_name=\"location\", height=600, width=1000)"
   ]
  },
  {
   "cell_type": "code",
   "execution_count": null,
   "id": "27c42f09-9ac9-4825-97aa-1a96b26d1e4a",
   "metadata": {},
   "outputs": [],
   "source": [
    "numerical_columns= list(raw_data.select_dtypes(np.number).columns)\n",
    "x = widgets.Dropdown(options=numerical_columns, value=\"new_cases\")\n",
    "y = widgets.Dropdown(options=numerical_columns, value=\"new_deaths\")\n",
    "interact(create_scatter_plot, x=x, y=y)"
   ]
  },
  {
   "cell_type": "markdown",
   "id": "33b77a04-b98e-4373-815c-81fc0f16c1b8",
   "metadata": {},
   "source": [
    "#  📝Make the time configurable within the dashboard"
   ]
  },
  {
   "cell_type": "markdown",
   "id": "58b5c365-e9d2-48f4-a1bd-dc4867775003",
   "metadata": {},
   "source": [
    "## Option 1: Using the dashboard"
   ]
  },
  {
   "cell_type": "code",
   "execution_count": null,
   "id": "0c4cf621-f845-4c3f-8909-e9d11327b8cd",
   "metadata": {},
   "outputs": [],
   "source": [
    "def create_scatter_plot(x, y, date):\n",
    "    most_recent = raw_data.loc[raw_data.date.astype(str)==date.strftime(\"%Y-%m-%d\")]\n",
    "    plot_df = most_recent.groupby([\"location\",\"continent\"])[[x,y]].sum().reset_index(level=1).reset_index()\n",
    "    return px.scatter(plot_df, x=x,y=y,color=\"continent\", hover_name=\"location\", height=600, width=1000)"
   ]
  },
  {
   "cell_type": "code",
   "execution_count": null,
   "id": "358fe0da-c180-497b-a4ab-af26b0024c40",
   "metadata": {},
   "outputs": [],
   "source": [
    "from datetime import datetime\n",
    "today = datetime.strptime(raw_data.date.max(), \"%Y-%m-%d\").date()"
   ]
  },
  {
   "cell_type": "code",
   "execution_count": null,
   "id": "f46563a6-8fce-4967-a79c-2539961aeb68",
   "metadata": {},
   "outputs": [],
   "source": [
    "numerical_columns= list(raw_data.select_dtypes(np.number).columns)\n",
    "x = widgets.Dropdown(options=numerical_columns, value=\"new_cases\")\n",
    "y = widgets.Dropdown(options=numerical_columns, value=\"new_deaths\")\n",
    "date = widgets.DatePicker(value=today)\n",
    "interact(create_scatter_plot, x=x, y=y, date=date)"
   ]
  },
  {
   "cell_type": "markdown",
   "id": "926dc94d-e01b-48c7-9de1-2dc39df238df",
   "metadata": {
    "tags": []
   },
   "source": [
    "## Option 2: Using plotly"
   ]
  },
  {
   "cell_type": "code",
   "execution_count": null,
   "id": "2f70573e-4511-4759-a660-33f483b92db7",
   "metadata": {},
   "outputs": [],
   "source": [
    "def create_scatter_plot(x, y):\n",
    "    plot_df = most_recent.groupby([\"date\",\"location\",\"continent\"])[[x,y]].sum().reset_index(level=1).reset_index()\n",
    "    return px.scatter(plot_df, x=x,y=y,color=\"continent\", hover_name=\"location\", height=600, width=1000)"
   ]
  },
  {
   "cell_type": "code",
   "execution_count": null,
   "id": "5ce4531c-3f8b-466c-8094-a116ebaaf6b8",
   "metadata": {},
   "outputs": [],
   "source": [
    "from datetime import datetime\n",
    "today = datetime.strptime(raw_data.date.max(), \"%Y-%m-%d\").date()"
   ]
  },
  {
   "cell_type": "code",
   "execution_count": null,
   "id": "41e5333e-f522-4ad2-ba0e-2cf53c6e690c",
   "metadata": {},
   "outputs": [],
   "source": [
    "\n",
    "x=\"new_cases_per_million\"\n",
    "y=\"new_deaths_per_million\"  \n",
    "plot_df = countries.groupby([\"date\",\"location\",\"continent\"])[[x,y]].sum().reset_index(level=1).reset_index()\n",
    "plot_df[\"days_past\"] = (plot_df.date - today).dt.days "
   ]
  },
  {
   "cell_type": "code",
   "execution_count": null,
   "id": "1674c1df-a817-48fa-bc4c-544d8e0c9704",
   "metadata": {},
   "outputs": [],
   "source": [
    "fig = px.scatter(\n",
    "    plot_df, \n",
    "    x=x, y=y,\n",
    "    animation_frame=\"days_past\", \n",
    "    color=\"continent\", \n",
    "    hover_name=\"location\", \n",
    "    range_x=[0,250000], \n",
    "    range_y=[0,10000]\n",
    ")\n",
    "fig.show()"
   ]
  },
  {
   "cell_type": "markdown",
   "id": "86ff24a7-99df-4e36-b54f-a06e27bb1915",
   "metadata": {},
   "source": [
    "# Small Multiples"
   ]
  },
  {
   "cell_type": "code",
   "execution_count": null,
   "id": "35b025f4-3cde-425e-b279-2c1d61584245",
   "metadata": {},
   "outputs": [],
   "source": [
    "alt.data_transformers.disable_max_rows()"
   ]
  },
  {
   "cell_type": "code",
   "execution_count": null,
   "id": "b492c1cf-489d-4ab4-a885-783e29c08f6b",
   "metadata": {},
   "outputs": [],
   "source": [
    "top_5_countries_per_continent = most_recent.groupby(\"continent\").apply(lambda df: df.sort_values(\"total_cases\", ascending=False).head()).location\n",
    "plot_df = countries.loc[countries.location.isin(list(top_5_countries_per_continent))]\n",
    "plot_df = plot_df.drop(columns=\"date\")"
   ]
  },
  {
   "cell_type": "code",
   "execution_count": null,
   "id": "bd9e1e49-0b2c-492e-8e5c-2a839fd77fea",
   "metadata": {},
   "outputs": [],
   "source": [
    "plot_df"
   ]
  },
  {
   "cell_type": "code",
   "execution_count": null,
   "id": "560fe0b6-519e-43c1-beae-655df0669e21",
   "metadata": {},
   "outputs": [],
   "source": [
    "px.scatter(plot_df, x=\"new_cases_per_million\", y=\"new_deaths_per_million\", facet_row=\"year_month\", facet_col=\"continent\")"
   ]
  },
  {
   "cell_type": "code",
   "execution_count": null,
   "id": "b290c8db-ad8d-4007-be91-97c3155ed597",
   "metadata": {},
   "outputs": [],
   "source": [
    "countries.query(\"location=='Italy'\")"
   ]
  },
  {
   "cell_type": "code",
   "execution_count": null,
   "id": "ed125993-1c37-4016-b511-db586335380b",
   "metadata": {},
   "outputs": [],
   "source": [
    "alt.Chart(plot_df, height=100, width=100).mark_circle().encode(\n",
    "    x=alt.X(field='new_cases_per_million', aggregate='mean', type='quantitative'),\n",
    "    y=alt.X(field=\"new_deaths_per_million\", aggregate='mean', type='quantitative'),\n",
    "    color=\"continent:N\", \n",
    "    tooltip=[\"location\",\"new_cases_per_million\", \"new_deaths_per_million\"], \n",
    "    #size=alt.Size(\"life_expectancy\", aggregate='mean', type='quantitative'),\n",
    "    column=\"continent:N\",\n",
    "    row=\"year_month:O\"\n",
    ")"
   ]
  },
  {
   "cell_type": "code",
   "execution_count": null,
   "id": "2e6883a1-cb2b-48e2-b79c-4a004ce5c3af",
   "metadata": {},
   "outputs": [],
   "source": [
    "alt.Chart(plot_df, height=100, width=100).mark_circle().encode(\n",
    "    x=alt.X(field='new_cases_per_million', aggregate='mean', type='quantitative'),\n",
    "    y=alt.X(field=\"new_deaths_per_million\", aggregate='mean', type='quantitative'),\n",
    "    color=\"continent:N\", \n",
    "    tooltip=[\"location\",\"new_cases_per_million\", \"new_deaths_per_million\", \"life_expectancy\"], \n",
    "    size=alt.Size(\"life_expectancy\", aggregate='mean', type='quantitative'),\n",
    "    column=\"continent:N\",\n",
    "    row=\"year_month:O\"\n",
    ")"
   ]
  },
  {
   "cell_type": "code",
   "execution_count": null,
   "id": "2a7bd040-85c9-4a76-8420-69d5b1a756a0",
   "metadata": {},
   "outputs": [],
   "source": [
    "alt.Chart(plot_df, height=100, width=100).mark_circle().encode(\n",
    "    x=alt.X(field='new_cases_per_million', aggregate='mean', type='quantitative'),\n",
    "    y=alt.X(field=\"new_deaths_per_million\", aggregate='mean', type='quantitative'),\n",
    "    color=\"continent:N\", \n",
    "    tooltip=[\"location\",\"new_cases_per_million\", \"new_deaths_per_million\", \"life_expectancy\"], \n",
    "    size=alt.Size(\"life_expectancy\", aggregate='mean', type='quantitative'),\n",
    "    column=\"continent:N\",\n",
    "    row=\"year_month:O\"\n",
    ")"
   ]
  },
  {
   "cell_type": "markdown",
   "id": "2c6cf6c6-6ca9-45fa-ab04-ffb6d34ae108",
   "metadata": {},
   "source": [
    "# Parallel Coordinates "
   ]
  },
  {
   "cell_type": "code",
   "execution_count": null,
   "id": "edc17e28-b1ec-40cc-a4c2-d32327a67f71",
   "metadata": {},
   "outputs": [],
   "source": [
    "cols = [\"total_cases_per_million\",\"total_deaths_per_million\", \"people_vaccinated_per_hundred\",\"life_expectancy\", \"human_development_index\"]\n",
    "df = most_recent[[\"continent\",\"location\"]+cols].dropna()\n",
    "fig = px.parallel_coordinates(df, color=\"continent\", labels=[\"location\"])\n",
    "fig"
   ]
  },
  {
   "cell_type": "code",
   "execution_count": null,
   "id": "0230278f-b1bd-4827-9e50-d17801648d3f",
   "metadata": {},
   "outputs": [],
   "source": [
    "import plotly.express as px\n",
    "df = most_recent[[\"continent\",\"location\", \"total_cases\"]].join(\n",
    "    (most_recent.total_cases_per_million < 5000).astype(str).rename(\"incidence < 50\")\n",
    ").join(\n",
    "    (most_recent.total_vaccinations_per_hundred > 70).astype(str).rename(\"70% vaccinated\"))\n",
    "fig = px.parallel_categories(df)\n",
    "fig.show()"
   ]
  },
  {
   "cell_type": "code",
   "execution_count": null,
   "id": "df5c0664-a17d-4216-8611-dc75d7663978",
   "metadata": {},
   "outputs": [],
   "source": []
  }
 ],
 "metadata": {
  "kernelspec": {
   "display_name": "pyviz",
   "language": "python",
   "name": "pyviz"
  },
  "language_info": {
   "codemirror_mode": {
    "name": "ipython",
    "version": 3
   },
   "file_extension": ".py",
   "mimetype": "text/x-python",
   "name": "python",
   "nbconvert_exporter": "python",
   "pygments_lexer": "ipython3",
   "version": "3.8.7"
  }
 },
 "nbformat": 4,
 "nbformat_minor": 5
}
