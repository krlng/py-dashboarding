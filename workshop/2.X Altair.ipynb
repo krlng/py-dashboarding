{
 "cells": [
  {
   "cell_type": "code",
   "execution_count": null,
   "id": "alleged-washington",
   "metadata": {},
   "outputs": [],
   "source": [
    "%run _prepare.ipynb"
   ]
  },
  {
   "cell_type": "code",
   "execution_count": null,
   "id": "after-minute",
   "metadata": {
    "tags": []
   },
   "outputs": [],
   "source": [
    "import pandas as pd\n",
    "import json"
   ]
  },
  {
   "cell_type": "code",
   "execution_count": null,
   "id": "controlling-exclusion",
   "metadata": {},
   "outputs": [],
   "source": [
    "import altair as alt"
   ]
  },
  {
   "cell_type": "code",
   "execution_count": null,
   "id": "dirty-boulder",
   "metadata": {
    "tags": []
   },
   "outputs": [],
   "source": [
    "def create_date_features(df):\n",
    "    \"\"\"\n",
    "    Creates some time related features: year, month, day, weekday and week_of_year\n",
    "    \"\"\"\n",
    "    df.loc[:,\"year\"] = df.date.dt.year\n",
    "    df.loc[:,\"month\"] = df.date.dt.month\n",
    "    df.loc[:,\"day\"] = df.date.dt.day\n",
    "    df.loc[:,\"weekday\"] = df.date.dt.weekday\n",
    "    df.loc[:,\"week_of_year\"] = df.date.dt.isocalendar().week\n",
    "    return df"
   ]
  },
  {
   "cell_type": "code",
   "execution_count": null,
   "id": "directed-cigarette",
   "metadata": {},
   "outputs": [],
   "source": [
    "#alt.data_transformers.disable_max_rows()"
   ]
  },
  {
   "cell_type": "markdown",
   "id": "documentary-tribe",
   "metadata": {},
   "source": [
    "# Basic Charts"
   ]
  },
  {
   "cell_type": "code",
   "execution_count": null,
   "id": "established-rouge",
   "metadata": {},
   "outputs": [],
   "source": [
    "bubble_chart = alt.Chart(countries_actual).mark_circle().encode(\n",
    "    x=\"total_cases_per_million\", \n",
    "    y=\"total_deaths_per_million\",color=\"continent\", \n",
    "    tooltip=[\"location\",\"life_expectancy\"], \n",
    "    size=\"life_expectancy\"\n",
    ")\n",
    "bubble_chart "
   ]
  },
  {
   "cell_type": "code",
   "execution_count": null,
   "id": "governmental-compatibility",
   "metadata": {
    "tags": []
   },
   "outputs": [],
   "source": [
    "alt.Chart(countries, width=900, height=250).mark_line().encode(\n",
    "    x=\"date:T\", \n",
    "    y=alt.Y(field='new_cases', aggregate='sum', type='quantitative'),\n",
    "    color=\"continent\"\n",
    ")"
   ]
  },
  {
   "cell_type": "markdown",
   "id": "introductory-boards",
   "metadata": {},
   "source": [
    "# Using scales"
   ]
  },
  {
   "cell_type": "code",
   "execution_count": null,
   "id": "flexible-finland",
   "metadata": {},
   "outputs": [],
   "source": [
    "plot_df = create_date_features(\n",
    "    countries.query(\"location=='Germany'\")[[\"date\",\"new_cases\",\"new_deaths\"]]\n",
    ")"
   ]
  },
  {
   "cell_type": "code",
   "execution_count": null,
   "id": "sweet-chase",
   "metadata": {},
   "outputs": [],
   "source": [
    "alt.Chart(plot_df).mark_bar().encode(\n",
    "    x=\"week_of_year\",\n",
    "    y=\"new_cases\",\n",
    ")"
   ]
  },
  {
   "cell_type": "code",
   "execution_count": null,
   "id": "effective-effects",
   "metadata": {},
   "outputs": [],
   "source": [
    "alt.Chart(plot_df).mark_bar().encode(\n",
    "    x=\"week_of_year:O\",\n",
    "    y=\"new_cases\",\n",
    ")"
   ]
  },
  {
   "cell_type": "code",
   "execution_count": null,
   "id": "minor-creature",
   "metadata": {},
   "outputs": [],
   "source": [
    "alt.Chart(plot_df).mark_bar().encode(\n",
    "    x=\"week_of_year\",\n",
    "    y=\"new_cases\",\n",
    "    row=\"year\"\n",
    ")"
   ]
  },
  {
   "cell_type": "code",
   "execution_count": null,
   "id": "micro-national",
   "metadata": {},
   "outputs": [],
   "source": [
    "alt.Chart(plot_df).mark_bar().encode(\n",
    "    x=\"week_of_year\",\n",
    "    y=\"new_cases\",\n",
    "    row=\"year\",\n",
    "    column=\"weekday\"\n",
    ")"
   ]
  },
  {
   "cell_type": "markdown",
   "id": "hispanic-loading",
   "metadata": {},
   "source": [
    "## Modifying existing Charts"
   ]
  },
  {
   "cell_type": "code",
   "execution_count": null,
   "id": "polish-calibration",
   "metadata": {},
   "outputs": [],
   "source": [
    "heatmap = alt.Chart(plot_df).mark_rect().encode(\n",
    "    x='week_of_year:N',\n",
    "    y='weekday:N',\n",
    "    color=alt.Color(field='new_cases', aggregate='mean', type='quantitative'),\n",
    ")\n",
    "heatmap"
   ]
  },
  {
   "cell_type": "code",
   "execution_count": null,
   "id": "soviet-referral",
   "metadata": {},
   "outputs": [],
   "source": [
    "heatmap.encode(row=\"year\")"
   ]
  },
  {
   "cell_type": "code",
   "execution_count": null,
   "id": "silent-links",
   "metadata": {
    "tags": []
   },
   "outputs": [],
   "source": [
    "melted_country_df = create_date_features(\n",
    "countries[countries.location.isin([\"Germany\", \"France\", \"Spain\", \"United Kingdom\", \"Italy\", \"Netherlands\"])][[\"date\",\"location\",\"new_cases_per_million\", \"continent\"]]\n",
    ")\n",
    "\n",
    "chart = alt.Chart(melted_country_df).mark_rect().encode(\n",
    "    x='weekday:O',\n",
    "    y='month:O',\n",
    "    color=alt.Color(field='new_cases_per_million', aggregate='mean', type='quantitative'),\n",
    "    column=\"location\",\n",
    "    row=\"year\"\n",
    ")\n",
    "chart"
   ]
  },
  {
   "cell_type": "markdown",
   "id": "accredited-isolation",
   "metadata": {},
   "source": [
    "## Aggregations and resolving Scales"
   ]
  },
  {
   "cell_type": "code",
   "execution_count": null,
   "id": "greater-trial",
   "metadata": {
    "tags": []
   },
   "outputs": [],
   "source": [
    "melted_df = create_date_features(\n",
    "countries[countries.location.isin([\"Germany\"])][[\"date\",\"new_cases_per_million\", \"new_deaths_per_million\", \"new_vaccinations\",\"weekly_hosp_admissions_per_million\"]].melt(\"date\").fillna(0)\n",
    ")\n",
    "\n",
    "chart = alt.Chart(melted_df).mark_rect().encode(\n",
    "    x='weekday:O',\n",
    "    y='month:O',\n",
    "    color=alt.Color(\"value\", aggregate='mean'),\n",
    "    column=\"variable\"\n",
    ")#.resolve_scale(color='independent')\n",
    "chart"
   ]
  },
  {
   "cell_type": "code",
   "execution_count": null,
   "id": "external-painting",
   "metadata": {
    "tags": []
   },
   "outputs": [],
   "source": [
    "chart = alt.Chart(melted_df, height=150).mark_line().encode(\n",
    "    x='date',\n",
    "    y='value:Q',\n",
    "    row=\"variable\",\n",
    ").resolve_scale(\n",
    "    y='independent'\n",
    ")\n",
    "chart"
   ]
  },
  {
   "cell_type": "markdown",
   "id": "tracked-knowing",
   "metadata": {},
   "source": [
    "# Combining Charts"
   ]
  },
  {
   "cell_type": "code",
   "execution_count": null,
   "id": "fatal-claim",
   "metadata": {},
   "outputs": [],
   "source": [
    "base = alt.Chart(plot_df)"
   ]
  },
  {
   "cell_type": "code",
   "execution_count": null,
   "id": "incorrect-christmas",
   "metadata": {},
   "outputs": [],
   "source": [
    "base.mark_line().encode(y='new_cases',x='date:T') | base.mark_line().encode(y='new_deaths',x='date:T')"
   ]
  },
  {
   "cell_type": "code",
   "execution_count": null,
   "id": "designed-dress",
   "metadata": {},
   "outputs": [],
   "source": [
    "(\n",
    "    base.mark_line().encode(y='new_cases',x='date:T') + \n",
    "    base.mark_line().encode(y='new_deaths',x='date:T', color=alt.value(\"red\"))\n",
    ").resolve_scale(y=\"independent\")"
   ]
  },
  {
   "cell_type": "markdown",
   "id": "pleased-philosophy",
   "metadata": {},
   "source": [
    "## Interactivity"
   ]
  },
  {
   "cell_type": "code",
   "execution_count": null,
   "id": "vocational-nigeria",
   "metadata": {},
   "outputs": [],
   "source": [
    "base = alt.Chart(data, width=900, height=250).mark_line()"
   ]
  },
  {
   "cell_type": "code",
   "execution_count": null,
   "id": "invalid-living",
   "metadata": {},
   "outputs": [],
   "source": [
    "brush = alt.selection(type='interval', encodings=['x'])\n",
    "\n",
    "upper = base.encode(\n",
    "    y=alt.Y(field='new_cases', aggregate='sum', type='quantitative'),\n",
    "    x=alt.X('date:T', scale=alt.Scale(domain=brush)),\n",
    "    color=\"continent\"\n",
    ")\n",
    "\n",
    "lower = base.encode(\n",
    "    y=alt.Y(field='new_cases', aggregate='sum', type='quantitative'),\n",
    "    x=alt.X('date:T')\n",
    ").properties(\n",
    "    height=60\n",
    ").add_selection(brush)\n",
    "\n",
    "upper & lower"
   ]
  },
  {
   "cell_type": "code",
   "execution_count": null,
   "id": "twelve-member",
   "metadata": {},
   "outputs": [],
   "source": [
    "selector = alt.selection(type=\"multi\", fields = [\"location\"], empty='none')\n",
    "\n",
    "line = base.encode(\n",
    "    y=alt.Y(field='new_cases', aggregate='sum', type='quantitative'),\n",
    "    x=alt.X('date:T'),\n",
    "    color=alt.Color(\"location\")\n",
    ")\n",
    "\n",
    "bubble_interactive = bubble_chart.encode(\n",
    "    color=alt.condition(selector, alt.Color(\"continent:N\"), alt.value('lightgray'))\n",
    ").add_selection(selector).properties(height=500, width=500)\n",
    "\n",
    "(bubble_interactive & line.transform_filter(selector)).resolve_scale(color=\"independent\")"
   ]
  },
  {
   "cell_type": "markdown",
   "id": "functioning-proxy",
   "metadata": {},
   "source": [
    "# Geo"
   ]
  },
  {
   "cell_type": "code",
   "execution_count": null,
   "id": "acquired-marks",
   "metadata": {
    "tags": []
   },
   "outputs": [],
   "source": [
    "url = \"https://raw.githubusercontent.com/CSSEGISandData/COVID-19/web-data/data/cases_country.csv\"\n",
    "cases = pd.read_csv(url).rename(columns={\"UID\":\"id\"})\n",
    "cols = [\"id\",\"Country_Region\", \"Confirmed\", \"Deaths\", \"Mortality_Rate\"]\n",
    "\n",
    "from vega_datasets import data as vega_data\n",
    "countries_topo = alt.topo_feature(vega_data.world_110m.url, 'countries')\n",
    "    \n",
    "worldmap = alt.Chart(countries_topo, width=900, height=380).mark_geoshape(stroke=\"white\").encode(\n",
    "    tooltip=[\"id:Q\"]\n",
    ").project(\"equirectangular\")\n",
    "worldmap"
   ]
  },
  {
   "cell_type": "markdown",
   "id": "finite-agency",
   "metadata": {},
   "source": [
    "## Integrating map and other data"
   ]
  },
  {
   "cell_type": "markdown",
   "id": "purple-israeli",
   "metadata": {},
   "source": [
    "To get data offline you can use: \n",
    "\n",
    "```\n",
    "#!wget https://cdn.jsdelivr.net/npm/vega-datasets@v1.29.0/data/world-110m.json\n",
    "topojson = json.loads(open(\"world-110m.json\",\"rb\").read())\n",
    "countries = alt.InlineData(topojson, format=alt.DataFormat(feature='countries',type='topojson'))\n",
    "```"
   ]
  },
  {
   "cell_type": "code",
   "execution_count": null,
   "id": "material-morocco",
   "metadata": {
    "tags": []
   },
   "outputs": [],
   "source": [
    "cols = [\"Confirmed\", \"Deaths\", \"Mortality_Rate\"] \n",
    "\n",
    "world_topo = alt.topo_feature(vega_data.world_110m.url, 'countries')\n",
    "    \n",
    "worldmap = alt.Chart(world_topo, width=900, height=380).mark_geoshape(stroke=\"white\").encode(\n",
    "    tooltip=[\"Country_Region:N\", \"Deaths:Q\"],\n",
    "    color='Deaths:Q',\n",
    ").project(\"equirectangular\")\\\n",
    ".transform_lookup(\n",
    "    lookup='id',\n",
    "    from_=alt.LookupData(cases.fillna(0), key='id', fields=cols)\n",
    ")\n",
    "worldmap"
   ]
  },
  {
   "cell_type": "markdown",
   "id": "impossible-snapshot",
   "metadata": {},
   "source": [
    "## Repeating"
   ]
  },
  {
   "cell_type": "code",
   "execution_count": null,
   "id": "dimensional-soccer",
   "metadata": {
    "tags": []
   },
   "outputs": [],
   "source": [
    "worldmap.encode(\n",
    "    tooltip=[\"Country_Region:N\", \"Deaths:Q\"],\n",
    "    color = alt.Color(alt.repeat('row'), type='quantitative'),\n",
    ").project(\"equirectangular\")\\\n",
    ".transform_lookup(\n",
    "    lookup='id',\n",
    "    from_=alt.LookupData(cases.fillna(0), key='id', fields=[\"Country_Region\"] + cols)\n",
    ").repeat(\n",
    "    row=cols\n",
    ").resolve_scale(color=\"independent\")"
   ]
  },
  {
   "cell_type": "markdown",
   "id": "improved-handling",
   "metadata": {},
   "source": [
    "\n",
    "# Interactive Maps"
   ]
  },
  {
   "cell_type": "code",
   "execution_count": null,
   "id": "coordinated-crisis",
   "metadata": {},
   "outputs": [],
   "source": [
    "click = alt.selection_multi(fields=['id'], empty='none')\n",
    "\n",
    "data = countries.join(cases.set_index(\"Country_Region\")[\"id\"].astype(int), on=\"location\")\n",
    "line_chart = alt.Chart(data, width=900, height=250).mark_line().encode(\n",
    "    x=\"date:T\", \n",
    "    y=alt.Y(field='new_cases_smoothed_per_million', aggregate='sum', type='quantitative'),\n",
    "    color=\"location\",\n",
    "    row=\"location\"\n",
    ")\n",
    "\n",
    "interactive_worldmap.add_selection(click) & line_chart.transform_filter(click)"
   ]
  },
  {
   "cell_type": "code",
   "execution_count": null,
   "id": "bigger-greensboro",
   "metadata": {},
   "outputs": [],
   "source": [
    "df = create_date_features(data[[\"date\",\"location\",\"id\",\"new_cases_per_million\"]])\n",
    "\n",
    "click = alt.selection_multi(fields=['id'], empty='none')\n",
    "chart = alt.Chart(df).mark_rect().encode(\n",
    "    x='weekday:O',\n",
    "    y='month:O',\n",
    "    color=alt.Color(field='new_cases_per_million', aggregate='mean', type='quantitative'),\n",
    "    column=\"location\",\n",
    "    row=\"year\"\n",
    ")\n",
    "(interactive_worldmap.add_selection(click) & chart.transform_filter(click)).resolve_scale(color=\"independent\")"
   ]
  },
  {
   "cell_type": "markdown",
   "id": "ordered-footage",
   "metadata": {},
   "source": [
    "# Summary\n",
    "\n",
    "Pro's\n",
    " * Esay way to encode different data types\n",
    " * Simple way to combine different charts\n",
    " * Enables powerfull interactions\n",
    " \n",
    "Con's:\n",
    " * Syntax sometimes a bit verbose \n",
    " * No Tree-Map, Sunburst, Parallel Coordinates / Categories or other fancy visualizations"
   ]
  }
 ],
 "metadata": {
  "kernelspec": {
   "display_name": "universal_content_encoder",
   "language": "python",
   "name": "universal_content_encoder"
  },
  "language_info": {
   "codemirror_mode": {
    "name": "ipython",
    "version": 3
   },
   "file_extension": ".py",
   "mimetype": "text/x-python",
   "name": "python",
   "nbconvert_exporter": "python",
   "pygments_lexer": "ipython3",
   "version": "3.8.7"
  }
 },
 "nbformat": 4,
 "nbformat_minor": 5
}
