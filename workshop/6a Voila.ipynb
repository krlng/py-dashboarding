{
 "cells": [
  {
   "cell_type": "code",
   "execution_count": null,
   "id": "237ebd82-ca2f-4466-9f1f-4bfa55b1e43e",
   "metadata": {},
   "outputs": [],
   "source": [
    "%run _prepare.ipynb"
   ]
  },
  {
   "cell_type": "markdown",
   "id": "5ac0184c-f5e3-49ff-bb74-8bdcf95a1028",
   "metadata": {},
   "source": [
    "# Voila Dashboard"
   ]
  },
  {
   "cell_type": "code",
   "execution_count": null,
   "id": "b6f4b08a-7441-499a-9fb2-34d26f28b133",
   "metadata": {},
   "outputs": [],
   "source": [
    "from _helper import *"
   ]
  },
  {
   "cell_type": "code",
   "execution_count": null,
   "id": "6ac0a4cb-483c-4a77-8bae-9c9ebac40984",
   "metadata": {},
   "outputs": [],
   "source": [
    "params = dict(\n",
    "    select_country = widgets.SelectMultiple(options=countries.country.unique().tolist(), value=[\"China\", \"United States\"]),\n",
    "    select_y = widgets.Dropdown(options=countries.select_dtypes(np.number).columns.to_list(), value=\"co2_per_capita\")\n",
    ")"
   ]
  },
  {
   "cell_type": "code",
   "execution_count": null,
   "id": "94547fac-e401-4b78-8e96-eac1af3a233a",
   "metadata": {},
   "outputs": [],
   "source": [
    "def plot(select_country, select_y):\n",
    "    df = construct_groups(countries, select_country).query(\"year>1900\")\n",
    "    display(plot_line(df, select_y))\n",
    "    display(plot_connected_lines(df, select_y))\n",
    "    display(plot_area(df, select_y))\n",
    "    \n",
    "interact(plot, **params)"
   ]
  },
  {
   "cell_type": "code",
   "execution_count": null,
   "id": "c3e74ad7-c54c-4f2c-b242-5270b74e635b",
   "metadata": {},
   "outputs": [],
   "source": []
  }
 ],
 "metadata": {
  "kernelspec": {
   "display_name": "py-dashboarding",
   "language": "python",
   "name": "py-dashboarding"
  },
  "language_info": {
   "codemirror_mode": {
    "name": "ipython",
    "version": 3
   },
   "file_extension": ".py",
   "mimetype": "text/x-python",
   "name": "python",
   "nbconvert_exporter": "python",
   "pygments_lexer": "ipython3",
   "version": "3.8.7"
  }
 },
 "nbformat": 4,
 "nbformat_minor": 5
}
