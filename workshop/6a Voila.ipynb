{
 "cells": [
  {
   "cell_type": "markdown",
   "id": "6a2276f6-aa6d-42b5-bb0d-6999456b08f7",
   "metadata": {},
   "source": [
    "Transforming this into an interactive fashion:"
   ]
  },
  {
   "cell_type": "code",
   "execution_count": null,
   "id": "7609b275-9078-4526-967e-5245fd86eaad",
   "metadata": {},
   "outputs": [],
   "source": [
    "def plot_year_relationship(aggregation_var = \"co2_per_capita\", other_cols = [\"population\"], base_year = 1990, current_year=2020):\n",
    "\n",
    "    plot_df = countries.loc[countries.year==current_year].groupby([\"country\",\"continent\"])[[aggregation_var, *other_cols]].mean().add_prefix(f\"{current_year}_\").join(\n",
    "        countries.loc[countries.year==base_year].groupby([\"country\",\"continent\"])[[aggregation_var, *other_cols]].mean().add_prefix(f\"{base_year}_\")\n",
    "    ).reset_index().fillna(0)\n",
    "\n",
    "    chart = alt.Chart(\n",
    "        plot_df, height=300, width=800\n",
    "    ).mark_circle().encode(\n",
    "        x=alt.X(f\"{base_year}_{aggregation_var}:Q\", scale=alt.Scale(domain=[0, 40])), \n",
    "        y=alt.Y(f\"{current_year}_{aggregation_var}:Q\", scale=alt.Scale(domain=[0, 40])), \n",
    "        color=\"continent\", \n",
    "        size=f\"{current_year}_{other_cols[0]}:Q\",\n",
    "        tooltip=plot_df.columns.to_list()\n",
    "    ) \n",
    "\n",
    "    min_max = plot_df.filter(like=aggregation_var).max().min()\n",
    "    diagonal = alt.Chart(\n",
    "        pd.DataFrame({ 'x': [0, 40], 'y':  [0, 40]})\n",
    "    ).mark_line(color= 'red').encode( \n",
    "        x= 'x',\n",
    "        y= 'y',\n",
    "    )\n",
    "    return chart + diagonal"
   ]
  },
  {
   "cell_type": "code",
   "execution_count": null,
   "id": "879ea3d3-b755-41b2-8787-13804ad9ef14",
   "metadata": {},
   "outputs": [],
   "source": [
    "params = {\n",
    "    \"aggregation_var\": widgets.Dropdown(options=countries.columns.tolist(), value=\"co2_per_capita\"),\n",
    "    \"other_cols\": widgets.SelectMultiple(options=countries.columns.tolist(), value=[\"population\"]),\n",
    "    \"base_year\": widgets.IntSlider(min=1900, max=2019, value=1990),\n",
    "    \"current_year\": widgets.IntSlider(min=1900, max=2020, value=2020)\n",
    "}\n",
    "\n",
    "interact(plot_year_relationship, **params)"
   ]
  }
 ],
 "metadata": {
  "kernelspec": {
   "display_name": "py-dashboarding",
   "language": "python",
   "name": "py-dashboarding"
  },
  "language_info": {
   "codemirror_mode": {
    "name": "ipython",
    "version": 3
   },
   "file_extension": ".py",
   "mimetype": "text/x-python",
   "name": "python",
   "nbconvert_exporter": "python",
   "pygments_lexer": "ipython3",
   "version": "3.8.7"
  }
 },
 "nbformat": 4,
 "nbformat_minor": 5
}
