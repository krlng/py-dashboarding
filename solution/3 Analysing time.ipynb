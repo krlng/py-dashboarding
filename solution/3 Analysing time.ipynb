{
 "cells": [
  {
   "cell_type": "code",
   "execution_count": null,
   "id": "e599c981-f26e-4917-8638-8123d43306fc",
   "metadata": {},
   "outputs": [],
   "source": [
    "%run _prepare.ipynb"
   ]
  },
  {
   "cell_type": "markdown",
   "id": "a5c21b2f-e046-4dce-b851-8f955f21992a",
   "metadata": {},
   "source": [
    "# Analysing time (Notebook 3)\n",
    "\n",
    "Time is the fourth dimension in our world and an essential component of most datasets. Therefore it is often helpful to analyse important features at different points of time, to get a full understanding.\n",
    "\n",
    "While time is a truly contionus scale, it has multiple repretitions:\n",
    " * Every 24h we have day\n",
    " * Every 7 days, we have a week\n",
    " * Some varrying amount of days between 27 and 31 say it is a month\n",
    " * Most of the time, 365 days form a year.\n",
    " \n",
    "Technically it is often a bit annoying to work with a proper time format for reasons of parsing, timezones and similiar details, that in most use cases don't make a real impact. Therefore is is totally valid to focus on only those abstractions we are interested in, to not loose track. In this case, our dataset makes it easy, as it gives us one row per country and year.\n",
    "\n",
    "The **most commonly used charts for time-series** are:\n",
    "\n",
    "* **line-charts**: Visualize independent timelines \n",
    "* **area-charts**: Visualize aggregating timelines"
   ]
  },
  {
   "cell_type": "markdown",
   "id": "c958ae49-6ec3-4c32-94c3-45cdd012dff4",
   "metadata": {
    "tags": []
   },
   "source": [
    "## Visualizing Timelines"
   ]
  },
  {
   "cell_type": "markdown",
   "id": "6febae4c-dd5a-4117-b820-3ef0638b6f23",
   "metadata": {},
   "source": [
    "### Using pandas plotting backend\n",
    "\n",
    "Plots created with the pandas API require the wide-column format:"
   ]
  },
  {
   "cell_type": "code",
   "execution_count": null,
   "id": "1c9d1a57-f346-4766-83b9-7f071b542cba",
   "metadata": {},
   "outputs": [],
   "source": [
    "plot_df_pandas = countries.groupby([\"year\",\"continent\"]).co2.sum().unstack(\"continent\").reset_index()"
   ]
  },
  {
   "cell_type": "code",
   "execution_count": null,
   "id": "26eb1133-0112-4bb9-ac30-49da266adc41",
   "metadata": {},
   "outputs": [],
   "source": [
    "plot_df_pandas.plot(x=\"year\", figsize=(20,5), kind=\"line\")"
   ]
  },
  {
   "cell_type": "code",
   "execution_count": null,
   "id": "c0a11453-ae67-4a5a-a033-d7fb13d91f28",
   "metadata": {},
   "outputs": [],
   "source": [
    "plot_df_pandas.plot(x=\"year\", figsize=(20,5), kind=\"area\")"
   ]
  },
  {
   "cell_type": "markdown",
   "id": "016e089a-d283-459b-ba77-51b449fd191f",
   "metadata": {},
   "source": [
    "### Using plotly\n",
    "\n",
    "Plotly (and Altair) prefer the long-data format:"
   ]
  },
  {
   "cell_type": "code",
   "execution_count": null,
   "id": "9ec8fd3b-baab-4a4b-8d44-a0de98bd57ea",
   "metadata": {},
   "outputs": [],
   "source": [
    "plot_df_px = countries.groupby([\"year\",\"continent\"]).co2.sum().reset_index()"
   ]
  },
  {
   "cell_type": "code",
   "execution_count": null,
   "id": "52e847cf-8830-45e8-bd9e-7ff494ba9590",
   "metadata": {},
   "outputs": [],
   "source": [
    "px.line(plot_df_px, y=\"co2\", x=\"year\", color=\"continent\")"
   ]
  },
  {
   "cell_type": "code",
   "execution_count": null,
   "id": "0ac2cf9e-c368-4362-a4c5-cac0de36a5dd",
   "metadata": {},
   "outputs": [],
   "source": [
    "px.area(plot_df_px, y=\"co2\", x=\"year\", color=\"continent\")"
   ]
  },
  {
   "cell_type": "markdown",
   "id": "644d43b4-b8d8-4927-9c89-8114d960fec5",
   "metadata": {
    "tags": []
   },
   "source": [
    "### Using Altair"
   ]
  },
  {
   "cell_type": "code",
   "execution_count": null,
   "id": "e19a08dc-bccf-40ba-97c9-0b6b4d94ba1c",
   "metadata": {},
   "outputs": [],
   "source": [
    "alt.data_transformers.disable_max_rows()"
   ]
  },
  {
   "cell_type": "code",
   "execution_count": null,
   "id": "059e18d8-2c94-45eb-afe3-783402acf335",
   "metadata": {},
   "outputs": [],
   "source": [
    "alt.Chart(plot_df_px, width=1009, height=250).mark_line().encode(\n",
    "    x=\"year\", \n",
    "    y=\"co2\",\n",
    "    color=\"continent\"\n",
    ")"
   ]
  },
  {
   "cell_type": "markdown",
   "id": "54418b5b-7e44-4cb2-93d8-e8e36c298183",
   "metadata": {},
   "source": [
    "Altair also offers the option to dynamically do aggregations for us:"
   ]
  },
  {
   "cell_type": "markdown",
   "id": "25d8f457-d532-4fc8-bdfd-ce5c101564ed",
   "metadata": {},
   "source": [
    "## Using different encodings\n",
    "\n",
    "Altair uses pandas dtype attribute to choose a default data encoding. How ever you can easily change those manually:\n",
    "\n",
    "\n",
    "| Data Type | Shorthand Code | Description |\n",
    "| ----------- | ----------- | ----------- |\n",
    "|quantitative| Q| a continuous real-valued quantity|\n",
    "|ordinal| O| a discrete ordered quantity|\n",
    "|nominal| N| a discrete unordered category|\n",
    "|temporal| T| a time or date value|\n",
    "|geojson| G| a geographic shape|"
   ]
  },
  {
   "cell_type": "code",
   "execution_count": null,
   "id": "b19b2a7b-aa83-4190-a5f7-e770ee10716e",
   "metadata": {
    "tags": []
   },
   "outputs": [],
   "source": [
    "alt.Chart(continents.query(\"year>1990\"), width=500).mark_point().encode(\n",
    "    x=alt.X(\"year\", scale=alt.Scale(zero=False)), \n",
    "    y=alt.Y(\"co2\"), \n",
    "    color=\"co2_per_capita\",\n",
    "    tooltip=[\"country\"],\n",
    "    shape=\"country\"\n",
    ")"
   ]
  },
  {
   "cell_type": "markdown",
   "id": "091d47ea-b3fa-4f11-ae15-7c975d87bee1",
   "metadata": {},
   "source": [
    "Split one chart Chart into multiple"
   ]
  },
  {
   "cell_type": "code",
   "execution_count": null,
   "id": "48ffc41f-4fef-473d-8cc1-70d8475adf1d",
   "metadata": {},
   "outputs": [],
   "source": [
    "alt.data_transformers.disable_max_rows()\n",
    "alt.Chart(countries.query(\"year>1900\"), width=1009, height=150).mark_area().encode(\n",
    "    x=\"year\", \n",
    "    y=alt.Y(field='co2', aggregate='sum', type='quantitative'),\n",
    "    color=\"country\",\n",
    "    row=\"continent\"\n",
    ")"
   ]
  },
  {
   "cell_type": "markdown",
   "id": "03474d71-336f-4ff8-9337-31d90fe91445",
   "metadata": {},
   "source": [
    "# More Timelines with Altair"
   ]
  },
  {
   "cell_type": "code",
   "execution_count": null,
   "id": "45d29703-ae7e-4e48-becf-b096fe7281b7",
   "metadata": {},
   "outputs": [],
   "source": [
    "raw_data_info.co2_per_capita"
   ]
  },
  {
   "cell_type": "code",
   "execution_count": null,
   "id": "4c15856e-361c-4f4e-bb5f-82a1ec2eb795",
   "metadata": {},
   "outputs": [],
   "source": [
    "fig = alt.Chart(countries, width=900, height=250).mark_line().encode(\n",
    "    x=\"year\", \n",
    "    y=alt.Y(field='co2_per_capita', aggregate='mean', type='quantitative'),\n",
    "    color=\"continent\"\n",
    ")"
   ]
  },
  {
   "cell_type": "code",
   "execution_count": null,
   "id": "297a0e40-a903-462a-9bbb-a3c98a8dda55",
   "metadata": {},
   "outputs": [],
   "source": [
    "base_line_chart = alt.Chart(countries, width=900, height=250).mark_line().encode(\n",
    "    x=\"year\", \n",
    "    color=\"continent\"\n",
    ")\n",
    "\n",
    "base_line_chart.encode(alt.Y(field='co2_per_capita', aggregate='mean')) & base_line_chart.encode(alt.Y(field='co2', aggregate='sum'))"
   ]
  },
  {
   "cell_type": "markdown",
   "id": "15ef5c5e-0c4f-49ef-aa4b-8865fddc42ee",
   "metadata": {},
   "source": [
    "# 📝 Task: Make a similiar chart that shows the usage of the different co2 sources\n",
    "\n",
    "* Hint: Altair requires the [long-data-format](https://de.wikipedia.org/wiki/Wide-Format_und_Long-Format). Use the `.melt()` command an your dataframe\n",
    "* You can use the `cols_co2_sources` variable"
   ]
  },
  {
   "cell_type": "code",
   "execution_count": null,
   "id": "5e8b0275-f734-44fb-bb7f-79d3cfc8abc0",
   "metadata": {},
   "outputs": [],
   "source": [
    "cols_co2_sources"
   ]
  },
  {
   "cell_type": "code",
   "execution_count": null,
   "id": "b4a79d9b-5d3f-44c6-a44f-d8ac70f2038b",
   "metadata": {
    "tags": [
     "task"
    ]
   },
   "outputs": [],
   "source": [
    "plot_df = countries[[\"country\",\"continent\", \"year\", *cols_co2_sources]].melt([\"country\",\"continent\",\"year\"])"
   ]
  },
  {
   "cell_type": "code",
   "execution_count": null,
   "id": "b2497215-7d2b-413c-9392-bfb82113229f",
   "metadata": {
    "tags": [
     "task"
    ]
   },
   "outputs": [],
   "source": [
    "co2_sources_chart = alt.Chart(plot_df, width=900, height=250).mark_line().encode(\n",
    "    x=\"year\", \n",
    "    y=alt.Y(field='value', aggregate='sum', type='quantitative'),\n",
    "    color=\"variable\"\n",
    ")"
   ]
  },
  {
   "cell_type": "code",
   "execution_count": null,
   "id": "38d73db9-0227-40dc-8b3c-012067fd041c",
   "metadata": {
    "tags": [
     "task"
    ]
   },
   "outputs": [],
   "source": [
    "co2_sources_chart"
   ]
  },
  {
   "cell_type": "markdown",
   "id": "63b3296f-3f8a-493c-9fa7-d9cf74ff1f36",
   "metadata": {},
   "source": [
    "# Altair Interactivity\n",
    "\n",
    "Altair's super power are selections, filters and transformations. By using those, we can create great, interactive charts."
   ]
  },
  {
   "cell_type": "code",
   "execution_count": null,
   "id": "ba427f28-dda7-4e50-8607-d96a00231b80",
   "metadata": {},
   "outputs": [],
   "source": [
    "import altair as alt\n",
    "\n",
    "brush = alt.selection(type='interval', encodings=['x'])\n",
    "\n",
    "plot_df = countries[[\"country\",\"continent\", \"year\", *cols_co2_sources]].melt([\"country\",\"continent\",\"year\"])\n",
    "co2_sources_chart = alt.Chart(plot_df, width=900, height=250).mark_line().encode(\n",
    "    x=\"year\", \n",
    "    y=alt.Y(field='value', aggregate='sum', type='quantitative'),\n",
    "    color=\"variable\"\n",
    ")\n",
    "\n",
    "upper = co2_sources_chart.encode(\n",
    "    alt.X('year', scale=alt.Scale(domain=brush))\n",
    ")\n",
    "\n",
    "lower = co2_sources_chart.properties(\n",
    "    height=60\n",
    ").add_selection(brush)\n",
    "\n",
    "upper & lower"
   ]
  },
  {
   "cell_type": "markdown",
   "id": "e35c0e91-a34a-4c17-ab02-02e4cd8b6674",
   "metadata": {},
   "source": [
    "And all of this is still combinable with altairs other super-powers. For example try:\n",
    "`upper.mark_area() & upper.encode(row=\"continent\") & lower`"
   ]
  },
  {
   "cell_type": "markdown",
   "id": "a874d0cf-4202-4abf-a079-cbcd3c5d1962",
   "metadata": {
    "tags": []
   },
   "source": [
    "# Discover the relationship between current co2 consumption, co2 per capita and historical co2 consumption\n",
    "\n",
    "Steps:\n",
    " * Create a Chart that corporates all three dimensions on a high level\n",
    " * Create another chart with timelines\n",
    " * Combine both charts into a dashboard using a selection and filter functionality "
   ]
  },
  {
   "cell_type": "code",
   "execution_count": null,
   "id": "b75fd6b9-2afe-4603-9674-f07c18a7e4a8",
   "metadata": {},
   "outputs": [],
   "source": [
    "scatter = alt.Chart(countries[filter_most_recent].query(\"co2>100\")).mark_circle().encode(\n",
    "    x=\"co2_per_capita\",\n",
    "    y=\"cumulative_co2\",\n",
    "    color=\"continent\",\n",
    "    size=\"co2\",\n",
    "    tooltip=[\"country\", \"co2\", \"co2_per_capita\", \"cumulative_co2\"]\n",
    ").properties(\n",
    "    width=1000,\n",
    "    height=400\n",
    ")\n",
    "scatter"
   ]
  },
  {
   "cell_type": "code",
   "execution_count": null,
   "id": "6d6bec28-c6c8-4e71-b2ea-33c79c20a0d4",
   "metadata": {},
   "outputs": [],
   "source": [
    "selection = alt.selection_multi(fields=['country'], empty='none')\n",
    "\n",
    "alt.data_transformers.disable_max_rows()\n",
    "line_co2 = alt.Chart(countries, width=600, height=150).mark_line().encode(\n",
    "    x=\"year\", \n",
    "    y=\"co2\",\n",
    "    color=\"country:N\",\n",
    "    tooltip = [\"country\", \"co2\"]\n",
    ")\n",
    "\n",
    "dashboard = alt.hconcat(\n",
    "    scatter.properties(width=400, height=450).add_selection( selection ), line_co2.transform_filter(selection)\n",
    ")\n",
    "dashboard.resolve_scale(color='independent').configure(autosize=alt.AutoSizeParams(resize=True))"
   ]
  },
  {
   "cell_type": "markdown",
   "id": "3ceeedad-33d0-48d5-83e1-21f55957a56b",
   "metadata": {
    "tags": []
   },
   "source": [
    "# 📝 Task: Extend the dashboard \n",
    "\n",
    "Goal is to enable deeper understanding of **co2_per_capita** and **historical co2** consumption. Therefore add additional timelines to the dashboard."
   ]
  },
  {
   "cell_type": "code",
   "execution_count": null,
   "id": "e117e249-5930-4145-ab00-84d3d3a34500",
   "metadata": {
    "tags": [
     "task"
    ]
   },
   "outputs": [],
   "source": [
    "selection = alt.selection_multi(fields=['country'], empty='none')\n",
    "\n",
    "alt.data_transformers.disable_max_rows()\n",
    "line_co2 = alt.Chart(countries, width=600, height=150).mark_line().encode(\n",
    "    x=\"year\", \n",
    "    y=\"co2\",\n",
    "    color=\"country:N\",\n",
    "    tooltip = [\"country\", \"co2\"]\n",
    ").transform_filter(selection)\n",
    "\n",
    "dashboard = alt.hconcat(\n",
    "    scatter.properties(width=400, height=450).add_selection( selection ),\n",
    "    line_co2 & line_co2.encode(y=\"co2_per_capita\") & \n",
    "    line_co2.encode(y=\"cumulative_co2\") & line_co2.encode(y=\"gdp\")\n",
    ")\n",
    "dashboard.resolve_scale(color='independent').configure(autosize=alt.AutoSizeParams(resize=True))"
   ]
  },
  {
   "cell_type": "code",
   "execution_count": null,
   "id": "a89e74b9-34be-4dbc-8439-e59fd19e772a",
   "metadata": {},
   "outputs": [],
   "source": []
  }
 ],
 "metadata": {
  "kernelspec": {
   "display_name": "py-dashboarding",
   "language": "python",
   "name": "py-dashboarding"
  },
  "language_info": {
   "codemirror_mode": {
    "name": "ipython",
    "version": 3
   },
   "file_extension": ".py",
   "mimetype": "text/x-python",
   "name": "python",
   "nbconvert_exporter": "python",
   "pygments_lexer": "ipython3",
   "version": "3.8.7"
  }
 },
 "nbformat": 4,
 "nbformat_minor": 5
}
