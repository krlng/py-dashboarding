{
 "cells": [
  {
   "cell_type": "code",
   "execution_count": null,
   "id": "8c1e18d2-e61d-43f1-87df-f09e5c9138df",
   "metadata": {},
   "outputs": [],
   "source": [
    "%%writefile _helper.py\n",
    "import altair as alt\n",
    "import plotly.express as px\n",
    "\n",
    "def construct_groups(countries, single_important_countries = [\"China\", \"United States\"]):\n",
    "    # Create a list of interesting metrics that keep truth by aggregation\n",
    "    summable_metrics = ['co2', 'trade_co2', 'cement_co2','coal_co2', 'flaring_co2', 'gas_co2', 'oil_co2', 'other_industry_co2','consumption_co2', 'total_ghg', 'total_ghg_excluding_lucf', 'methane','nitrous_oxide', 'population', 'gdp', 'primary_energy_consumption']\n",
    "    aggregations = dict(zip(summable_metrics, [\"sum\"] * len(summable_metrics)))\n",
    "\n",
    "    # Split the list of countries into groups\n",
    "    filter_term = countries.country.isin(single_important_countries)\n",
    "    groups = countries.loc[~filter_term].fillna(0).groupby([\"continent\", \"year\"]).agg(aggregations).reset_index()\n",
    "\n",
    "    groups_important_countries = countries.loc[filter_term, [\"country\"] + list(groups.columns)].rename(columns={\"country\": \"name\"})\n",
    "\n",
    "    groups[\"name\"] = groups.continent\n",
    "    groups = groups.append(groups_important_countries)\n",
    "    groups = groups.assign(co2_per_capita = groups.co2 / groups.population * 10e5).sort_values(\"year\")\n",
    "    return groups\n",
    "\n",
    "\n",
    "def plot_area(df, select_y, **kwargs):\n",
    "    return px.area(df, y=select_y, x=\"year\", color=\"name\")\n",
    "\n",
    "def plot_line(df, select_y, **kwargs):\n",
    "    return alt.Chart(df, width=1009, height=250).mark_line().encode(\n",
    "        x=\"year\", \n",
    "        y=select_y,\n",
    "        color=\"name\"\n",
    "    )#.interactive()\n",
    "\n",
    "def plot_connected_lines(df, select_y, **kwargs):\n",
    "    chart = alt.Chart(df.query(\"year>1900\"),\n",
    "        height=600,\n",
    "        width=1000,\n",
    "    ).mark_circle().encode(\n",
    "        x=\"co2\",\n",
    "        y=select_y,\n",
    "        color=\"name:N\",\n",
    "        order=\"year\",\n",
    "        tooltip=[\"name\", \"year\"]\n",
    "    )\n",
    "    return chart + chart.mark_trail().encode()"
   ]
  },
  {
   "cell_type": "code",
   "execution_count": null,
   "id": "bdfde6bf-f532-4519-9cd2-67a58c752197",
   "metadata": {},
   "outputs": [],
   "source": []
  }
 ],
 "metadata": {
  "kernelspec": {
   "display_name": "Python 3 (ipykernel)",
   "language": "python",
   "name": "python3"
  },
  "language_info": {
   "codemirror_mode": {
    "name": "ipython",
    "version": 3
   },
   "file_extension": ".py",
   "mimetype": "text/x-python",
   "name": "python",
   "nbconvert_exporter": "python",
   "pygments_lexer": "ipython3",
   "version": "3.8.7"
  }
 },
 "nbformat": 4,
 "nbformat_minor": 5
}
