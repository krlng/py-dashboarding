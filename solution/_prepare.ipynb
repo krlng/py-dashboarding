{
 "cells": [
  {
   "cell_type": "code",
   "execution_count": null,
   "id": "8908bd11-3bdb-468c-ac95-9c45df9c4291",
   "metadata": {},
   "outputs": [],
   "source": [
    "import pandas as pd\n",
    "import numpy as np\n",
    "import datetime"
   ]
  },
  {
   "cell_type": "code",
   "execution_count": null,
   "id": "cf4052df-4283-4980-94b7-53a6f50828c9",
   "metadata": {},
   "outputs": [],
   "source": [
    "#!wget https://github.com/owid/co2-data/raw/master/owid-co2-data.csv -O ../data/owid-co2-data.csv\n",
    "raw_data = pd.read_csv(\"../data/owid-co2-data.csv\")\n",
    "\n",
    "#!wget https://github.com/owid/co2-data/raw/master/owid-co2-codebook.csv -O ../data/owid-co2-codebook.csv\n",
    "raw_data_info = pd.read_csv(\"../data/owid-co2-codebook.csv\").set_index(\"column\").description\n",
    "raw_data_source = pd.read_csv(\"../data/owid-co2-codebook.csv\").set_index(\"column\").source"
   ]
  },
  {
   "cell_type": "code",
   "execution_count": null,
   "id": "65452442-a4f8-4dad-a3c3-7ca2af59ce03",
   "metadata": {},
   "outputs": [],
   "source": [
    "import plotly.express as px\n",
    "import altair as alt\n",
    "\n",
    "import ipywidgets as widgets\n",
    "from ipywidgets import interact\n",
    "from IPython.display import display"
   ]
  },
  {
   "cell_type": "markdown",
   "id": "346ab241-9c0a-411f-8a4b-796b2505a01c",
   "metadata": {},
   "source": [
    "# Define column groups"
   ]
  },
  {
   "cell_type": "code",
   "execution_count": null,
   "id": "32441dd8-c977-43ae-8e04-adeaa829a1ca",
   "metadata": {},
   "outputs": [],
   "source": [
    "def cols(filter_term = None):\n",
    "    if filter_term is None:\n",
    "        return raw_data.columns\n",
    "    else:\n",
    "        return [c for c in raw_data.columns if filter_term in c]\n",
    "        \n",
    "col_keys = [\"country\", \"year\"]\n",
    "cols_per_capita = cols(\"capita\")\n",
    "cols_relative = cols(\"relative\")\n",
    "cols_cumulative = cols(\"cumulative\")\n",
    "cols_per_gdp = cols(\"per_gdp\")\n",
    "cols_share = cols(\"share\")\n",
    "cols_not_calculated = raw_data_info.drop(cols_per_capita + cols_relative + cols_cumulative + cols_share + cols_per_gdp)\n",
    "cols_co2_sources = [\"cement_co2\", \"coal_co2\", \"flaring_co2\", \"gas_co2\", \"oil_co2\", \"other_industry_co2\"]"
   ]
  },
  {
   "cell_type": "markdown",
   "id": "73153eb3-068e-4e0b-84df-3afaa9cd1b9f",
   "metadata": {},
   "source": [
    "# Prepare other DataFrames"
   ]
  },
  {
   "cell_type": "code",
   "execution_count": null,
   "id": "2a8e7ee5-9b51-4785-b4d4-0b90a1e9dba1",
   "metadata": {},
   "outputs": [],
   "source": [
    "countries = raw_data[~raw_data.iso_code.fillna(\"OWID\").str.contains(\"OWID\")]"
   ]
  },
  {
   "cell_type": "code",
   "execution_count": null,
   "id": "13841fc6-caf4-44ce-914e-a35af34ba4bf",
   "metadata": {},
   "outputs": [],
   "source": [
    "#!wget https://raw.githubusercontent.com/lukes/ISO-3166-Countries-with-Regional-Codes/master/all/all.csv -O ../data/continent.csv\n",
    "continent_mapping = pd.read_csv(\"../data/continent.csv\").set_index(\"alpha-3\").region.rename(\"continent\")\n",
    "countries = countries.join(continent_mapping, on=\"iso_code\").dropna(subset=[\"continent\"])"
   ]
  },
  {
   "cell_type": "code",
   "execution_count": null,
   "id": "9a127743-3fe8-4945-966e-0aeddaf01e39",
   "metadata": {},
   "outputs": [],
   "source": [
    "# Loaded from https://ourworldindata.org/grapher/world-banks-income-groups\n",
    "income_groups = pd.read_csv(\"../data/world-banks-income-groups.csv\").rename(columns={\"Income classifications (World Bank (2017))\": \"income_group\"})\n",
    "income_groups = income_groups.append(pd.concat([income_groups.query(\"Year==2016\").assign(Year=year) for year in [2017, 2018, 2019, 2020, 2021]]))\n",
    "\n",
    "countries = countries.join(income_groups.set_index([\"Entity\", \"Year\"]), on=[\"country\", \"year\"])"
   ]
  },
  {
   "cell_type": "code",
   "execution_count": null,
   "id": "7fa1146f-fa7d-4f8c-a3c6-c22438ae58b8",
   "metadata": {},
   "outputs": [],
   "source": [
    "not_countries = raw_data[raw_data.iso_code.fillna(\"OWID\").str.contains(\"OWID\")]\n",
    "world = raw_data.query(\"country=='World'\")\n",
    "continents = raw_data[raw_data.country.isin([\"Europe\", \"North America\", \"Asia\", \"Africa\", \"South America\"])]\n",
    "incomes = raw_data[raw_data.country.str.contains(\"-income countries\")]"
   ]
  },
  {
   "cell_type": "markdown",
   "id": "68bc6297-dc10-491f-a1e8-23417a7bceb5",
   "metadata": {},
   "source": [
    "# Prepare Filters"
   ]
  },
  {
   "cell_type": "code",
   "execution_count": null,
   "id": "d338aad6-fefd-4c8b-9d4f-0f963874c604",
   "metadata": {},
   "outputs": [],
   "source": [
    "filter_most_recent = lambda x: x.year == 2020"
   ]
  }
 ],
 "metadata": {
  "kernelspec": {
   "display_name": "py-dashboarding",
   "language": "python",
   "name": "py-dashboarding"
  },
  "language_info": {
   "codemirror_mode": {
    "name": "ipython",
    "version": 3
   },
   "file_extension": ".py",
   "mimetype": "text/x-python",
   "name": "python",
   "nbconvert_exporter": "python",
   "pygments_lexer": "ipython3",
   "version": "3.8.7"
  }
 },
 "nbformat": 4,
 "nbformat_minor": 5
}
