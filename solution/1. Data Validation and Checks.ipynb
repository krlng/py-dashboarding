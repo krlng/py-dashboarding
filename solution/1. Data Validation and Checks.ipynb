{
 "cells": [
  {
   "cell_type": "markdown",
   "id": "3bb5c9da-fb33-44af-8228-334af8c5fbc4",
   "metadata": {
    "jp-MarkdownHeadingCollapsed": true,
    "tags": []
   },
   "source": [
    "# Data Validation and Checks (Notebook 1)\n",
    "\n",
    "The first step is always loading the data and make yourself familiar with its size, identifiers, features etc.\n",
    "\n",
    "Things to look out for:\n",
    " * What is the **size of the dataset**? Is down-sampling needed?\n",
    " * **Which columns are present**? And which seem most important? Is there a structure?\n",
    " * Are there **outliers** and / or **inplausible values**?\n",
    " * Is **data missing**? If so, how many fields are missing? In which columns / rows and what might be reasons?\n",
    " "
   ]
  },
  {
   "cell_type": "markdown",
   "id": "6e997c91-0ae8-4a2b-bfa1-c5658a52283d",
   "metadata": {},
   "source": [
    "# Loading the Data"
   ]
  },
  {
   "cell_type": "markdown",
   "id": "97ce575a-eaab-4378-b475-c5d0c8bd370b",
   "metadata": {},
   "source": [
    "We are using the [CO2 dataset provided by our world in data](https://ourworldindata.org/co2-dataset-sources)."
   ]
  },
  {
   "cell_type": "code",
   "execution_count": null,
   "id": "a66a7460-d0e7-49fc-bbc6-97ca449b644f",
   "metadata": {},
   "outputs": [],
   "source": [
    "import pandas as pd\n",
    "import numpy as np\n",
    "import datetime"
   ]
  },
  {
   "cell_type": "markdown",
   "id": "7a8524be-3851-4f83-af7c-0a735af85872",
   "metadata": {},
   "source": [
    "You should find the data already checked into the data folder. Otherwise, you can download them by uncommenting:"
   ]
  },
  {
   "cell_type": "code",
   "execution_count": null,
   "id": "46896924-8e57-4e72-be10-d98307dc350d",
   "metadata": {},
   "outputs": [],
   "source": [
    "#!wget https://github.com/owid/co2-data/raw/master/owid-co2-data.csv -O ../data/owid-co2-data.csv\n",
    "raw_data = pd.read_csv(\"../data/owid-co2-data.csv\")\n",
    "\n",
    "#!wget https://github.com/owid/co2-data/raw/master/owid-co2-codebook.csv -O ../data/owid-co2-codebook.csv\n",
    "raw_data_info = pd.read_csv(\"../data/owid-co2-codebook.csv\").set_index(\"column\").description\n",
    "raw_data_source = pd.read_csv(\"../data/owid-co2-codebook.csv\").set_index(\"column\").source"
   ]
  },
  {
   "cell_type": "markdown",
   "id": "77fb6574-bfe1-44e4-bae3-3c5d9c4d67e0",
   "metadata": {},
   "source": [
    "Some plotting libraries we are going to use:"
   ]
  },
  {
   "cell_type": "code",
   "execution_count": null,
   "id": "ad50b0b0-996f-4267-8634-c1053fa803c3",
   "metadata": {},
   "outputs": [],
   "source": [
    "import plotly.express as px\n",
    "import altair as alt\n",
    "from IPython.display import display"
   ]
  },
  {
   "cell_type": "markdown",
   "id": "4d3bb1b8-fb55-417d-ab5c-a7668ee17831",
   "metadata": {},
   "source": [
    "# First Impression of our dataset\n",
    "\n",
    "* How many data do we have?\n",
    "    * Rows\n",
    "    * Columns\n",
    "* Which data types are contained"
   ]
  },
  {
   "cell_type": "code",
   "execution_count": null,
   "id": "a1a3c426-c7c8-475d-9836-8427fb978b45",
   "metadata": {},
   "outputs": [],
   "source": [
    "raw_data"
   ]
  },
  {
   "cell_type": "code",
   "execution_count": null,
   "id": "09401c0f-666c-470b-b6b5-5aadc9d1668a",
   "metadata": {},
   "outputs": [],
   "source": [
    "raw_data.dtypes.value_counts().plot.barh()"
   ]
  },
  {
   "cell_type": "markdown",
   "id": "91d100c5-85e1-4bd2-bcf5-384ab38e7480",
   "metadata": {},
   "source": [
    "As there are over 50 float columns, their description is quite verbose"
   ]
  },
  {
   "cell_type": "code",
   "execution_count": null,
   "id": "80ddaa7c-b087-47cc-a5fb-29fd21102f3f",
   "metadata": {},
   "outputs": [],
   "source": [
    "raw_data.describe()"
   ]
  },
  {
   "cell_type": "markdown",
   "id": "be42f265-0949-43dc-8307-3ff94701098a",
   "metadata": {},
   "source": [
    "More interesting are the Non-Float Columns such as country"
   ]
  },
  {
   "cell_type": "code",
   "execution_count": null,
   "id": "d2e0d6b4-5d18-4315-aeca-a1fc4c93dfe6",
   "metadata": {},
   "outputs": [],
   "source": [
    "raw_data.country.value_counts().hist(bins=50, figsize=(20,5))"
   ]
  },
  {
   "cell_type": "markdown",
   "id": "246f7c57-c69b-4de4-b244-5c2e2c34e4a7",
   "metadata": {},
   "source": [
    "The plotting (such as `hist`, `plot`...) commands of pandas can also be used with other plotting libraries using the `backend` parameter"
   ]
  },
  {
   "cell_type": "code",
   "execution_count": null,
   "id": "ec397fba-f741-4c1c-9eb0-f53a322d2596",
   "metadata": {},
   "outputs": [],
   "source": [
    "raw_data.country.value_counts().hist(backend=\"plotly\")"
   ]
  },
  {
   "cell_type": "markdown",
   "id": "67af9014-290a-431f-8b35-2d1cb617a095",
   "metadata": {},
   "source": [
    "# Libraries for EDA \n",
    "\n",
    "Of course, the python eco-system also provides multiple libraries to support you with the explorative analysis of data. To mention a few:\n",
    "\n",
    "* [Dataprep](https://dataprep.ai/)\n",
    "* [SweetViz](https://github.com/fbdesignpro/sweetviz)\n",
    "* [PandasProfiling](https://github.com/ydataai/pandas-profiling)\n",
    "* [Dtale](https://github.com/man-group/dtale)\n",
    "\n",
    "For more info you might read: [Comparing the Five Most Popular EDA Tools](https://towardsdatascience.com/comparing-five-most-popular-eda-tools-dccdef05aa4c)"
   ]
  },
  {
   "cell_type": "code",
   "execution_count": null,
   "id": "7642a4eb-b04e-47db-9540-f79432082dba",
   "metadata": {
    "tags": []
   },
   "outputs": [],
   "source": [
    "from dataprep.eda import plot\n",
    "from dataprep.eda import create_report\n",
    "report = create_report(raw_data)\n",
    "report.save('Dataprep Report on Countries')\n",
    "report.show_browser()"
   ]
  },
  {
   "cell_type": "code",
   "execution_count": null,
   "id": "8f3d2cd6-ab30-4a32-982f-93e205c00017",
   "metadata": {},
   "outputs": [],
   "source": [
    "plot(raw_data, \"year\")"
   ]
  },
  {
   "cell_type": "markdown",
   "id": "8cd9f7e8-b420-4b25-94a6-4917bf571e0c",
   "metadata": {
    "tags": []
   },
   "source": [
    "# Analyzing Columns\n",
    "\n",
    "EDA tooling offers a great way to easily get an overview of certain columns. How ever, for datasets such as this, there is way to much information to read over all of them. Therefore it is a good idea to have a closer look at the column names to discover some structure"
   ]
  },
  {
   "cell_type": "code",
   "execution_count": null,
   "id": "2a04bee1-cb7b-4f04-a07d-dbcf8d236599",
   "metadata": {},
   "outputs": [],
   "source": [
    "raw_data.columns"
   ]
  },
  {
   "cell_type": "code",
   "execution_count": null,
   "id": "9f6599c0-c4ed-4d51-a57c-9ea7433f76b8",
   "metadata": {
    "tags": []
   },
   "outputs": [],
   "source": [
    "search_terms = [\"capita\", \"relative\", \"cumulative\", \"per_gdp\", \"share\"]\n",
    "\n",
    "df = pd.DataFrame([[c, *[term in c for term in search_terms]] for c in raw_data.columns], columns=[\"column\"] + search_terms)"
   ]
  },
  {
   "cell_type": "code",
   "execution_count": null,
   "id": "d53579c2-3099-4968-bae9-67b9114caaba",
   "metadata": {
    "tags": []
   },
   "outputs": [],
   "source": [
    "df.groupby(search_terms).count()"
   ]
  },
  {
   "cell_type": "markdown",
   "id": "a1af87b5-e40d-4e7f-9da3-aad9671217a0",
   "metadata": {},
   "source": [
    "Lets use this information to create some groups of column names to filter them easily"
   ]
  },
  {
   "cell_type": "code",
   "execution_count": null,
   "id": "9e97966e-f9e6-40ea-8746-572e04493b2d",
   "metadata": {},
   "outputs": [],
   "source": [
    "def cols(filter_term = None):\n",
    "    if filter_term is None:\n",
    "        return raw_data.columns\n",
    "    else:\n",
    "        return [c for c in raw_data.columns if filter_term in c]\n",
    "        \n",
    "col_keys = [\"country\", \"year\"]\n",
    "cols_per_capita = cols(\"capita\")\n",
    "cols_relative = cols(\"relative\")\n",
    "cols_cumulative = cols(\"cumulative\")\n",
    "cols_per_gdp = cols(\"per_gdp\")\n",
    "cols_share = cols(\"share\")"
   ]
  },
  {
   "cell_type": "code",
   "execution_count": null,
   "id": "857df0ac-62c2-4bd1-8290-61c54de04795",
   "metadata": {},
   "outputs": [],
   "source": [
    "cols_not_calculated = raw_data_info.drop(cols_per_capita + cols_relative + cols_cumulative + cols_share + cols_per_gdp).index.tolist()[1:]"
   ]
  },
  {
   "cell_type": "code",
   "execution_count": null,
   "id": "2efaa66d-4f79-43b5-8fa8-ba808cb53cc8",
   "metadata": {},
   "outputs": [],
   "source": [
    "cols_not_calculated"
   ]
  },
  {
   "cell_type": "code",
   "execution_count": null,
   "id": "7981ca7e-f3df-4030-a2e2-7048b089fe6a",
   "metadata": {},
   "outputs": [],
   "source": [
    "cols_co2_sources = [\"cement_co2\", \"coal_co2\", \"flaring_co2\", \"gas_co2\", \"oil_co2\", \"other_industry_co2\"]"
   ]
  },
  {
   "cell_type": "markdown",
   "id": "2b7c45fd-3fb8-48d3-befa-45a42c6e2837",
   "metadata": {
    "tags": []
   },
   "source": [
    "# Outliers and implausible values\n",
    "\n",
    "Another important task in the beginning is to look out for unexpected dataset. For example in this dataset, we expect the rows to be countries. How ever, we can quickly see that there are also aggregations of single countries contained:\n",
    "\n",
    "    * by contintent\n",
    "    * by income-groups\n",
    "    * Some other groups\n",
    "    \n",
    "As we don't want to count cases multiple times, we will have to divide those groups"
   ]
  },
  {
   "cell_type": "code",
   "execution_count": null,
   "id": "e0a9ec6c-3406-4799-9168-79627703ab59",
   "metadata": {},
   "outputs": [],
   "source": [
    "countries = raw_data[~raw_data.iso_code.fillna(\"OWID\").str.contains(\"OWID\")]\n",
    "not_countries = raw_data[raw_data.iso_code.fillna(\"OWID\").str.contains(\"OWID\")]"
   ]
  },
  {
   "cell_type": "code",
   "execution_count": null,
   "id": "348b2ffb-5ff5-453e-8481-0d5da9316741",
   "metadata": {},
   "outputs": [],
   "source": [
    "countries.country.value_counts()"
   ]
  },
  {
   "cell_type": "code",
   "execution_count": null,
   "id": "cc0b7390-9b8f-4d7c-95b1-b12ee2829aeb",
   "metadata": {
    "tags": []
   },
   "outputs": [],
   "source": [
    "not_countries.fillna(\"\").groupby([\"iso_code\", \"country\"]).size()"
   ]
  },
  {
   "cell_type": "code",
   "execution_count": null,
   "id": "8467943e-4b13-4bc7-8667-9ed3e3425ec5",
   "metadata": {},
   "outputs": [],
   "source": [
    "world = raw_data.query(\"country=='World'\")\n",
    "continents = raw_data[raw_data.country.isin([\"Europe\", \"North America\", \"Asia\", \"Africa\", \"South America\", \"Oceania\"])]\n",
    "incomes = raw_data[raw_data.country.str.contains(\"-income countries\")]"
   ]
  },
  {
   "cell_type": "markdown",
   "id": "62480b8e-1f2d-4330-bc39-038e42f21f92",
   "metadata": {
    "tags": []
   },
   "source": [
    "# Analyzing Missing Values"
   ]
  },
  {
   "cell_type": "markdown",
   "id": "87473c21-41a8-451a-b360-7fce073bbce1",
   "metadata": {},
   "source": [
    "percentage of cells with missing data"
   ]
  },
  {
   "cell_type": "code",
   "execution_count": null,
   "id": "8b3d3ee7-b20f-4f2a-87e2-0bc05ba6da06",
   "metadata": {},
   "outputs": [],
   "source": [
    "raw_data.isna().mean().mean()"
   ]
  },
  {
   "cell_type": "markdown",
   "id": "010f18dc-2f15-43b3-b9be-ba603cdc647f",
   "metadata": {},
   "source": [
    "## Which columns have little missing values?"
   ]
  },
  {
   "cell_type": "code",
   "execution_count": null,
   "id": "042f4f0f-5c7c-431a-8d48-3eab737250f6",
   "metadata": {
    "tags": []
   },
   "outputs": [],
   "source": [
    "columns_most_present = (1- raw_data[cols_not_calculated].isna().mean()).sort_values()"
   ]
  },
  {
   "cell_type": "code",
   "execution_count": null,
   "id": "07486e22-693f-408a-a1cd-5ea2a27f2999",
   "metadata": {
    "tags": []
   },
   "outputs": [],
   "source": [
    "columns_most_present.plot.barh(figsize=(10,10), title=\"Fraction of columns with data\")"
   ]
  },
  {
   "cell_type": "markdown",
   "id": "911133ba-e33a-4ae0-8295-517e55486fbc",
   "metadata": {},
   "source": [
    "## 📝 Which countries offer the best data?\n",
    "\n",
    "Create a similiar chart as above, to compare the amount of missing data per country"
   ]
  },
  {
   "cell_type": "code",
   "execution_count": null,
   "id": "c6eb3cbb-080a-4090-bfe5-0ce4081da30b",
   "metadata": {
    "tags": [
     "task"
    ]
   },
   "outputs": [],
   "source": [
    "plot_df = raw_data.groupby(\"country\").apply(lambda x: 1-x.isna().mean().mean()).sort_values()\n",
    "plot_df.plot.barh(title=\"data_information_by_country\", figsize=(20,50))"
   ]
  },
  {
   "cell_type": "markdown",
   "id": "7aba22c4-9fe1-44e3-87af-83dd664575d8",
   "metadata": {},
   "source": [
    "## How does time affect missing values?"
   ]
  },
  {
   "cell_type": "code",
   "execution_count": null,
   "id": "a85c9f1b-5b2c-4534-b263-8d11246bbcb6",
   "metadata": {},
   "outputs": [],
   "source": [
    "raw_data.groupby(\"year\").apply(lambda x: x.isna().mean().mean()).plot.line(figsize=(15, 5))"
   ]
  },
  {
   "cell_type": "markdown",
   "id": "4054f62d-1ea6-492d-b84a-3e1b06dec28a",
   "metadata": {},
   "source": [
    "## How do countries and columns relate?"
   ]
  },
  {
   "cell_type": "code",
   "execution_count": null,
   "id": "830b26ae-ff49-410f-a5bd-b8b04fb1fc71",
   "metadata": {
    "tags": []
   },
   "outputs": [],
   "source": [
    "percentage_na_per_country = raw_data.groupby(\"country\").apply(\n",
    "    lambda df: 1-df.select_dtypes(np.number).isna().mean()\n",
    ").unstack().reset_index().rename(columns={\"level_0\": \"variable\", 0: \"columns\"})"
   ]
  },
  {
   "cell_type": "code",
   "execution_count": null,
   "id": "d47e7116-639d-4b26-935c-7fac0f96858c",
   "metadata": {
    "tags": []
   },
   "outputs": [],
   "source": [
    "heatmap = countries.groupby(\"country\").apply(\n",
    "    lambda df: df.select_dtypes(np.number).isna().mean()\n",
    ").reset_index()"
   ]
  },
  {
   "cell_type": "code",
   "execution_count": null,
   "id": "b543afea-5971-426c-a832-976fe9915e90",
   "metadata": {
    "tags": []
   },
   "outputs": [],
   "source": [
    "heatmap.style.format(precision=2).background_gradient(cmap='coolwarm')"
   ]
  },
  {
   "cell_type": "markdown",
   "id": "ba93a98b-7d2a-4de3-99c7-8c81d5bdbc43",
   "metadata": {},
   "source": [
    "As this table is really long, maybe it is better to only include some countries and columns:"
   ]
  },
  {
   "cell_type": "code",
   "execution_count": null,
   "id": "25df0edc-c71a-4790-8534-f4388afd7c1e",
   "metadata": {
    "tags": []
   },
   "outputs": [],
   "source": [
    "filter_most_recent = lambda x: x.year == 2020\n",
    "top_20_most_emitting_countries = countries[filter_most_recent].set_index(\"country\").sort_values(\"co2\", ascending=False).head(20)"
   ]
  },
  {
   "cell_type": "code",
   "execution_count": null,
   "id": "eca5f80f-1f9e-494e-b02b-c317d3254ac6",
   "metadata": {
    "tags": []
   },
   "outputs": [],
   "source": [
    "table_style = [dict(selector=\"th\", props=[('max-width', '80px'),\n",
    "                                ('text-overflow', 'ellipsis'), ('overflow', 'hidden')])]\n",
    "\n",
    "heatmap.loc[\n",
    "    heatmap.country.isin(top_20_most_emitting_countries.index), cols_not_calculated\n",
    "].style.format(precision=2).background_gradient(cmap='coolwarm').set_table_styles(table_style)"
   ]
  },
  {
   "cell_type": "markdown",
   "id": "d0c50a56-91ee-4e9e-b570-1a6c1fbc90db",
   "metadata": {},
   "source": [
    "Of course, such a heatmap could also be created with some visualization tools, here Altair. Don't mind the complicated code, we will introduce Altair later:"
   ]
  },
  {
   "cell_type": "code",
   "execution_count": null,
   "id": "5e7253f3-d748-4ee0-a6bd-c9cb37f4adb8",
   "metadata": {
    "tags": []
   },
   "outputs": [],
   "source": [
    "plot_df = percentage_na_per_country.loc[\n",
    "    (percentage_na_per_country.country.isin(top_20_most_emitting_countries.index)) &\n",
    "    (percentage_na_per_country.variable.isin(cols_not_calculated))\n",
    "]\n",
    "\n",
    "alt.data_transformers.disable_max_rows()\n",
    "alt.Chart(\n",
    "    plot_df, \n",
    "    title=\"Fraction of data with data\"\n",
    ").mark_rect().encode(\n",
    "    x=alt.X('variable',  sort=alt.SortArray(list(cols_not_calculated))),\n",
    "    y=alt.Y('country', sort=alt.SortArray(list(top_20_most_emitting_countries.index))),\n",
    "    color=alt.Color('columns', scale=alt.Scale(scheme='redyellowgreen')),\n",
    "    tooltip=[\"country\",\"variable\", \"columns\"]\n",
    ")"
   ]
  },
  {
   "cell_type": "markdown",
   "id": "bb24c879-e9f7-4e6f-8b88-e6e9d8213e03",
   "metadata": {},
   "source": [
    "# Results\n",
    "\n",
    "* The rows of the dataset contain **countries** and **country aggregations**\n",
    "* The dataset contains over 50 columns with mostly numerical values, but many of those are somehow calculated (relationships, aggregations...)\n",
    "* The key columns are:\n",
    "    * country\n",
    "    * year\n",
    "    \n",
    "* We have over 50% missing data. The reason for this are:\n",
    "    * Some countries have a longer tracking history then others\n",
    "    * More general metrics (co2, population) are tracked longer then others (co2 sources, co2 trading)\n",
    "    \n",
    "* We can re-use some of our datastructure (column-groups, splitted datasets, filters)"
   ]
  },
  {
   "cell_type": "code",
   "execution_count": null,
   "id": "9d78525c-2f13-4789-a4ca-b37b28e1148a",
   "metadata": {},
   "outputs": [],
   "source": []
  }
 ],
 "metadata": {
  "kernelspec": {
   "display_name": "py-dashboarding",
   "language": "python",
   "name": "py-dashboarding"
  },
  "language_info": {
   "codemirror_mode": {
    "name": "ipython",
    "version": 3
   },
   "file_extension": ".py",
   "mimetype": "text/x-python",
   "name": "python",
   "nbconvert_exporter": "python",
   "pygments_lexer": "ipython3",
   "version": "3.8.7"
  }
 },
 "nbformat": 4,
 "nbformat_minor": 5
}
