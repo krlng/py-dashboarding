{
 "cells": [
  {
   "cell_type": "code",
   "execution_count": null,
   "id": "blocked-stand",
   "metadata": {},
   "outputs": [],
   "source": [
    "%run _prepare.ipynb"
   ]
  },
  {
   "cell_type": "code",
   "execution_count": null,
   "id": "loving-minute",
   "metadata": {
    "tags": []
   },
   "outputs": [],
   "source": [
    "#countries_actual.dropna(subset=[\"people_vaccinated\"])"
   ]
  },
  {
   "cell_type": "code",
   "execution_count": null,
   "id": "destroyed-turner",
   "metadata": {},
   "outputs": [],
   "source": [
    "import plotly.express as px\n",
    "import plotly.graph_objects as go"
   ]
  },
  {
   "cell_type": "code",
   "execution_count": null,
   "id": "direct-exclusion",
   "metadata": {},
   "outputs": [],
   "source": [
    "url = \"https://raw.githubusercontent.com/CSSEGISandData/COVID-19/web-data/data/cases_country.csv\"\n",
    "cases = pd.read_csv(url).rename(columns={\"UID\":\"id\"})\n",
    "cols = [\"id\",\"Country_Region\", \"Confirmed\", \"Deaths\", \"Mortality_Rate\"]\n"
   ]
  },
  {
   "cell_type": "code",
   "execution_count": null,
   "id": "treated-interpretation",
   "metadata": {},
   "outputs": [],
   "source": [
    "df = data.query(\"date=='2021-10-27'\")"
   ]
  },
  {
   "cell_type": "code",
   "execution_count": null,
   "id": "cognitive-catholic",
   "metadata": {},
   "outputs": [],
   "source": [
    "fig = px.treemap(df, path=[\"continent\",\"location\"], values=\"new_cases\", \n",
    "                 title='COVID-10 New cases', height=400, width=800)\n",
    "fig.update_layout(margin=dict(t=30,l=0,r=0,b=0))\n",
    "fig #.write_image('covid-compare-3-1.png')"
   ]
  },
  {
   "cell_type": "code",
   "execution_count": null,
   "id": "foster-antarctica",
   "metadata": {},
   "outputs": [],
   "source": [
    "fig = px.icicle(df, path=[\"continent\",\"location\"], values=\"new_cases\", \n",
    "                 title='COVID-10 New cases', height=400, width=800)\n",
    "fig.update_layout(margin=dict(t=30,l=0,r=0,b=0))\n",
    "fig #.write_image('covid-compare-3-1.png')"
   ]
  },
  {
   "cell_type": "code",
   "execution_count": null,
   "id": "graduate-winter",
   "metadata": {},
   "outputs": [],
   "source": [
    "fig = px.sunburst(df, path=[\"continent\",\"location\"], values=\"new_cases\", \n",
    "                 title='COVID-10 New cases', height=400, width=800)\n",
    "fig.update_layout(margin=dict(t=30,l=0,r=0,b=0))\n",
    "fig #.write_image('covid-compare-3-1.png')"
   ]
  },
  {
   "cell_type": "code",
   "execution_count": null,
   "id": "monthly-frontier",
   "metadata": {
    "tags": []
   },
   "outputs": [],
   "source": [
    "def create_date_features(df):\n",
    "    \"\"\"\n",
    "    Creates some time related features: year, month, day, weekday and week_of_year\n",
    "    \"\"\"\n",
    "    df.loc[:,\"year\"] = df.date.dt.year\n",
    "    df.loc[:,\"month\"] = df.date.dt.month\n",
    "    df.loc[:,\"day\"] = df.date.dt.day\n",
    "    df.loc[:,\"weekday\"] = df.date.dt.weekday\n",
    "    df.loc[:,\"week_of_year\"] = df.date.dt.isocalendar().week\n",
    "    df.loc[:,\"week_of_year\"] = df.date.dt.isocalendar().week\n",
    "    df.loc[:,\"days_since_start\"] = (countries.date - countries.date.min()).dt.days\n",
    "    return df"
   ]
  },
  {
   "cell_type": "markdown",
   "id": "outside-shopping",
   "metadata": {},
   "source": [
    "# Timeline"
   ]
  },
  {
   "cell_type": "code",
   "execution_count": null,
   "id": "departmental-stockholm",
   "metadata": {},
   "outputs": [],
   "source": [
    "url = \"https://raw.githubusercontent.com/CSSEGISandData/COVID-19/web-data/data/cases_country.csv\"\n",
    "cases = pd.read_csv(url).rename(columns={\"UID\":\"id\"})\n",
    "cols = [\"id\",\"Country_Region\", \"Confirmed\", \"Deaths\", \"Mortality_Rate\"]"
   ]
  },
  {
   "cell_type": "code",
   "execution_count": null,
   "id": "offshore-roads",
   "metadata": {},
   "outputs": [],
   "source": [
    "countries.new_cases_smoothed_per_million"
   ]
  },
  {
   "cell_type": "code",
   "execution_count": null,
   "id": "spare-bouquet",
   "metadata": {},
   "outputs": [],
   "source": [
    "df = create_date_features(countries[[\"iso_code\",\"location\",\"date\",\"new_cases_smoothed_per_million\"]]).sort_values(\"days_since_start\")\n",
    "fig = px.choropleth(df, \n",
    "                    locations=\"iso_code\", \n",
    "                    color=\"new_cases_smoothed_per_million\", \n",
    "                    hover_name=\"location\", \n",
    "                    animation_frame=\"days_since_start\",\n",
    "                    range_color=[0,1000],\n",
    "                   width=1000, height=550)\n",
    "fig.show()\n"
   ]
  },
  {
   "cell_type": "code",
   "execution_count": null,
   "id": "concrete-export",
   "metadata": {},
   "outputs": [],
   "source": [
    "df = data.query(\"location == 'Germany'\")\n",
    "\n",
    "fig = px.line(df, x=\"date\", y=\"new_cases\")\n",
    "\n",
    "fig.update_layout(\n",
    "    title_text=\"Time series with range slider and selectors\", \n",
    ")\n",
    "\n",
    "# Add range slider\n",
    "fig.update_layout(\n",
    "    xaxis=dict(\n",
    "        rangeselector=dict(\n",
    "            buttons=list([\n",
    "                dict(count=1, label=\"1m\", step=\"month\", stepmode=\"backward\"), \n",
    "                dict(count=6, label=\"6m\", step=\"month\", stepmode=\"backward\"), \n",
    "                dict(count=1, label=\"YTD\", step=\"year\", stepmode=\"todate\"), \n",
    "                dict(count=1, label=\"1y\", step=\"year\", stepmode=\"backward\"), \n",
    "                dict(step=\"all\")\n",
    "            ])\n",
    "        ),\n",
    "        rangeslider=dict( visible=True ), \n",
    "        type=\"date\"\n",
    "    )\n",
    ")\n",
    "\n",
    "fig.show()"
   ]
  },
  {
   "cell_type": "code",
   "execution_count": null,
   "id": "straight-shelter",
   "metadata": {},
   "outputs": [],
   "source": [
    "import plotly.express as px\n",
    "fig = px.scatter(countries_actual, \n",
    "                 x=\"new_cases_per_million\", \n",
    "                 y=\"new_deaths_per_million\", \n",
    "                 color=\"continent\", \n",
    "                 hover_name=\"location\",\n",
    "                 marginal_y=\"histogram\",\n",
    "                 marginal_x=\"box\",\n",
    "                 height=600,\n",
    "                 template=\"simple_white\")\n",
    "fig.show()"
   ]
  },
  {
   "cell_type": "code",
   "execution_count": null,
   "id": "mexican-symbol",
   "metadata": {},
   "outputs": [],
   "source": [
    "cols = [\"total_cases_per_million\",\"total_deaths_per_million\", \"people_vaccinated_per_hundred\",\"life_expectancy\", \"human_development_index\"]\n",
    "df = countries_actual[[\"continent\",\"location\"]+cols].dropna()\n",
    "fig = px.parallel_coordinates(df, color=\"continent\", labels=[\"location\"])\n",
    "fig"
   ]
  },
  {
   "cell_type": "code",
   "execution_count": null,
   "id": "velvet-annex",
   "metadata": {},
   "outputs": [],
   "source": [
    "import plotly.express as px\n",
    "df = countries_actual[[\"continent\",\"location\", \"total_cases\"]].join(\n",
    "    (countries_actual.total_cases_per_million < 5000).astype(str).rename(\"incidence < 50\")\n",
    ").join(\n",
    "    (countries_actual.total_vaccinations_per_hundred > 70).astype(str).rename(\"70% vaccinated\"))\n",
    "fig = px.parallel_categories(df)\n",
    "fig.show()"
   ]
  },
  {
   "cell_type": "code",
   "execution_count": null,
   "id": "dying-imperial",
   "metadata": {},
   "outputs": [],
   "source": [
    "fig = px.scatter(df, x=\"total_cases_per_million\", y=\"total_deaths_per_million\", animation_frame=\"year_month\", animation_group=\"location\",\n",
    "           color=\"continent\", hover_name=\"location\", facet_col=\"continent\", size_max=45, range_x=[100,250000], range_y=[100,10000])\n",
    "fig.show()"
   ]
  },
  {
   "cell_type": "code",
   "execution_count": null,
   "id": "northern-resistance",
   "metadata": {},
   "outputs": [],
   "source": [
    "df = data.groupby(\"date\")[\"new_cases\"].sum().reset_index()\n",
    "df = pd.DataFrame(dict(\n",
    "    date=df.date,\n",
    "    year=df.date.dt.year,\n",
    "    month=df.date.dt.year,\n",
    "    week_of_year=df.date.dt.isocalendar().week,\n",
    "    weekday=df.date.dt.weekday,\n",
    "    new_cases=df.new_cases\n",
    "))\n",
    "px.parallel_categories(df)"
   ]
  },
  {
   "cell_type": "markdown",
   "id": "fossil-rogers",
   "metadata": {},
   "source": [
    "# Maps"
   ]
  },
  {
   "cell_type": "code",
   "execution_count": null,
   "id": "announced-wrestling",
   "metadata": {},
   "outputs": [],
   "source": [
    "import plotly.express as px\n",
    "df = px.data.gapminder()\n",
    "fig = px.choropleth(df, locations=\"iso_alpha\", color=\"lifeExp\", hover_name=\"country\", animation_frame=\"year\", range_color=[20,80])\n",
    "fig.show()\n"
   ]
  },
  {
   "cell_type": "code",
   "execution_count": null,
   "id": "retained-static",
   "metadata": {},
   "outputs": [],
   "source": []
  }
 ],
 "metadata": {
  "kernelspec": {
   "display_name": "Python 3",
   "language": "python",
   "name": "python3"
  },
  "language_info": {
   "codemirror_mode": {
    "name": "ipython",
    "version": 3
   },
   "file_extension": ".py",
   "mimetype": "text/x-python",
   "name": "python",
   "nbconvert_exporter": "python",
   "pygments_lexer": "ipython3",
   "version": "3.8.7"
  }
 },
 "nbformat": 4,
 "nbformat_minor": 5
}
