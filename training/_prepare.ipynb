{
 "cells": [
  {
   "cell_type": "code",
   "execution_count": null,
   "id": "c38bb5c9-be81-48ad-b80e-82d8352ee038",
   "metadata": {},
   "outputs": [],
   "source": [
    "#Download Data from https://covid.ourworldindata.org/data/owid-covid-data.csv:\n",
    "\n",
    "#!wget https://covid.ourworldindata.org/data/owid-covid-data.csv -O ../data/owid-covid-data.csv "
   ]
  },
  {
   "cell_type": "code",
   "execution_count": null,
   "id": "6244f7e9-c111-4a53-a29e-0bf3a866ec9a",
   "metadata": {},
   "outputs": [],
   "source": [
    "import pandas as pd\n",
    "raw_data = pd.read_csv(\"../data/owid-covid-data.csv\")\n",
    "\n",
    "countries = raw_data.dropna(subset=[\"continent\"])\n",
    "countries.loc[:,\"date\"]= pd.to_datetime(countries.date)\n",
    "countries.loc[:,\"year_month\"]= countries.date.dt.year.astype(str) + \"_\" + countries.date.dt.month.astype(str).str.pad(2, fillchar=\"0\")\n",
    "\n",
    "countries_actual = countries.query(f\"date == '{countries.date.max()}'\")\n",
    "print(f\"defined \\\"countries_actual\\\" on date {countries.date.max().date()}\")\n",
    "\n",
    "data = countries[[\"continent\",\"location\",\"date\",\"new_cases\", \"new_cases_smoothed\"]].copy()"
   ]
  },
  {
   "cell_type": "code",
   "execution_count": null,
   "id": "4aa556f2-673b-4997-93ae-1e4a78d5accc",
   "metadata": {},
   "outputs": [],
   "source": []
  }
 ],
 "metadata": {
  "kernelspec": {
   "display_name": "py-dashboarding",
   "language": "python",
   "name": "py-dashboarding"
  },
  "language_info": {
   "codemirror_mode": {
    "name": "ipython",
    "version": 3
   },
   "file_extension": ".py",
   "mimetype": "text/x-python",
   "name": "python",
   "nbconvert_exporter": "python",
   "pygments_lexer": "ipython3",
   "version": "3.8.7"
  }
 },
 "nbformat": 4,
 "nbformat_minor": 5
}
