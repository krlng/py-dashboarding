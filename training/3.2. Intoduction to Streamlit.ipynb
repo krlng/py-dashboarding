{
 "cells": [
  {
   "cell_type": "code",
   "execution_count": null,
   "metadata": {},
   "outputs": [],
   "source": [
    "import streamlit as st\n",
    "import pandas as pd"
   ]
  },
  {
   "cell_type": "code",
   "execution_count": null,
   "metadata": {},
   "outputs": [],
   "source": [
    "DATE_COLUMN = 'date/time'\n",
    "DATA_URL = ('https://s3-us-west-2.amazonaws.com/'\n",
    "         'streamlit-demo-data/uber-raw-data-sep14.csv.gz')\n",
    "\n",
    "def load_data(nrows):\n",
    "    data = pd.read_csv(DATA_URL, nrows=nrows)\n",
    "    lowercase = lambda x: str(x).lower()\n",
    "    data.rename(lowercase, axis='columns', inplace=True)\n",
    "    data[DATE_COLUMN] = pd.to_datetime(data[DATE_COLUMN])\n",
    "    return data\n",
    "\n",
    "# Create a text element and let the reader know the data is loading.\n",
    "data_load_state = st.text('Loading data...')\n",
    "# Load 10,000 rows of data into the dataframe.\n",
    "data = load_data(10000)\n",
    "# Notify the reader that the data was successfully loaded.\n",
    "data_load_state.text('Loading data...done!')"
   ]
  },
  {
   "cell_type": "code",
   "execution_count": null,
   "metadata": {},
   "outputs": [],
   "source": [
    "@st.cache\n",
    "def load_data(nrows):"
   ]
  },
  {
   "cell_type": "code",
   "execution_count": null,
   "metadata": {},
   "outputs": [],
   "source": [
    "%%writefile streamlit_dashboard.py\n",
    "\"\"\"\n",
    "## APP NAME\n",
    "\n",
    "DESCRIPTION\n",
    "\n",
    "Author: [YOUR NAME](https://URL_TO_YOU))\\n\n",
    "Source: [Github](https://github.com/URL_TO_CODE)\n",
    "\"\"\"\n",
    "import streamlit as st\n",
    "\n",
    "# Your imports goes below\n",
    "\n",
    "def main():\n",
    "    st.title(\"APP NAME\")\n",
    "    st.markdown(\"DESCRIPTION\")\n",
    "\n",
    "    # Your code goes below\n",
    "\n",
    "if __name__ == \"__main__\":\n",
    "    main()"
   ]
  },
  {
   "cell_type": "code",
   "execution_count": null,
   "metadata": {},
   "outputs": [],
   "source": [
    "%%bash\n",
    "poetry run streamlit run streamlit_dashboard.py"
   ]
  },
  {
   "cell_type": "code",
   "execution_count": null,
   "metadata": {},
   "outputs": [],
   "source": [
    "#https://docs.streamlit.io/library/api-reference/charts/st.altair_chart"
   ]
  },
  {
   "cell_type": "code",
   "execution_count": null,
   "metadata": {},
   "outputs": [],
   "source": [
    "%%writefile streamlit_dashboard.py\n",
    "import altair as alt\n",
    "import pandas as pd\n",
    "import streamlit as st\n",
    "from vega_datasets import data\n",
    "\n",
    "@st.experimental_memo\n",
    "def get_data():\n",
    "    source = data.stocks()\n",
    "    source = source[source.date.gt(\"2004-01-01\")]\n",
    "    return source\n",
    "\n",
    "source = get_data()\n",
    "\n",
    "# Original time series chart. Omitted `get_chart` for clarity\n",
    "chart = get_chart(source)\n",
    "\n",
    "# Input annotations\n",
    "ANNOTATIONS = [\n",
    "    (\"Mar 01, 2008\", \"Pretty good day for GOOG\"),\n",
    "    (\"Dec 01, 2007\", \"Something's going wrong for GOOG & AAPL\"),\n",
    "    (\"Nov 01, 2008\", \"Market starts again thanks to...\"),\n",
    "    (\"Dec 01, 2009\", \"Small crash for GOOG after...\"),\n",
    "]\n",
    "\n",
    "# Create a chart with annotations\n",
    "annotations_df = pd.DataFrame(ANNOTATIONS, columns=[\"date\", \"event\"])\n",
    "annotations_df.date = pd.to_datetime(annotations_df.date)\n",
    "annotations_df[\"y\"] = 0\n",
    "annotation_layer = (\n",
    "    alt.Chart(annotations_df)\n",
    "    .mark_text(size=15, text=\"⬇\", dx=-3, dy=-10, align=\"center\")\n",
    "    .encode(\n",
    "        x=\"date:T\",\n",
    "        y=alt.Y(\"y:Q\"),\n",
    "        tooltip=[\"event\"],\n",
    "    )\n",
    "    .interactive()\n",
    ")\n",
    "\n",
    "# Display both charts together\n",
    "st.altair_chart((chart + annotation_layer).interactive(), use_container_width=True)"
   ]
  },
  {
   "cell_type": "code",
   "execution_count": null,
   "metadata": {},
   "outputs": [],
   "source": [
    "%%bash\n",
    "poetry run streamlit run streamlit_dashboard.py"
   ]
  },
  {
   "cell_type": "code",
   "execution_count": null,
   "metadata": {},
   "outputs": [],
   "source": []
  }
 ],
 "metadata": {
  "kernelspec": {
   "display_name": "py-dashboarding",
   "language": "python",
   "name": "py-dashboarding"
  },
  "language_info": {
   "codemirror_mode": {
    "name": "ipython",
    "version": 3
   },
   "file_extension": ".py",
   "mimetype": "text/x-python",
   "name": "python",
   "nbconvert_exporter": "python",
   "pygments_lexer": "ipython3",
   "version": "3.8.7"
  }
 },
 "nbformat": 4,
 "nbformat_minor": 4
}
