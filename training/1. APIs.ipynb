{
 "cells": [
  {
   "cell_type": "code",
   "execution_count": null,
   "id": "structural-sword",
   "metadata": {},
   "outputs": [],
   "source": [
    "%run _prepare.ipynb"
   ]
  },
  {
   "cell_type": "code",
   "execution_count": null,
   "id": "laden-refund",
   "metadata": {},
   "outputs": [],
   "source": [
    "data = raw_data[[\"continent\",\"location\",\"date\",\"new_cases\", \"new_cases_smoothed\", \"human_development_index\", \"new_deaths\"]].dropna(subset=[\"continent\"])\n",
    "data[\"date\"]= pd.to_datetime(data.date)"
   ]
  },
  {
   "cell_type": "markdown",
   "id": "graphic-index",
   "metadata": {},
   "source": [
    "# High-Level-Plotting API"
   ]
  },
  {
   "cell_type": "markdown",
   "id": "immune-terry",
   "metadata": {},
   "source": [
    "## Plotting backends"
   ]
  },
  {
   "cell_type": "markdown",
   "id": "nervous-hazard",
   "metadata": {},
   "source": [
    "* pandas_bokeh (https://github.com/PatrikHlobil/Pandas-Bokeh)\n",
    "* plotly_express\n",
    "* altair(https://github.com/altair-viz/pdvega)"
   ]
  },
  {
   "cell_type": "code",
   "execution_count": null,
   "id": "persistent-thought",
   "metadata": {},
   "outputs": [],
   "source": [
    "data.groupby([\"date\",\"continent\"]).new_cases.sum().unstack().plot(kind=\"line\",backend=\"pandas_bokeh\", figsize=(17,5))"
   ]
  },
  {
   "cell_type": "code",
   "execution_count": null,
   "id": "serious-weather",
   "metadata": {
    "tags": []
   },
   "outputs": [],
   "source": [
    "data.groupby([\"date\",\"continent\"]).new_cases_smoothed.sum().unstack().plot(kind=\"line\", figsize=(17,5))"
   ]
  },
  {
   "cell_type": "code",
   "execution_count": null,
   "id": "conscious-crest",
   "metadata": {},
   "outputs": [],
   "source": [
    "cases_vs_death = data.groupby([\"location\",\"continent\"])[[\"new_cases\",\"new_deaths\"]].sum().reset_index(level=1).reset_index()\n",
    "cases_vs_death.plot.scatter(x=\"new_cases\",y=\"new_deaths\", logx=True, logy=True)#, color=\"continent\")"
   ]
  },
  {
   "cell_type": "markdown",
   "id": "looking-balloon",
   "metadata": {},
   "source": [
    "# Matplotlib "
   ]
  },
  {
   "cell_type": "code",
   "execution_count": null,
   "id": "cb15cf75-80de-4a2e-995c-af09f407e29b",
   "metadata": {
    "tags": []
   },
   "outputs": [],
   "source": [
    "from matplotlib import pyplot as plt\n",
    "df = data.groupby([\"date\",\"continent\"]).new_cases.sum().reset_index()\n",
    "\n",
    "plt.figure(figsize=(16, 10))"
   ]
  },
  {
   "cell_type": "code",
   "execution_count": null,
   "id": "4307cafa-eea3-4aef-af03-b0a0f6d5f3a2",
   "metadata": {},
   "outputs": [],
   "source": [
    "\n",
    "# Does not work - think of a solution\n",
    "#plt.plot(df.date, df.new_cases, hue=df.continent)"
   ]
  },
  {
   "cell_type": "markdown",
   "id": "accessible-capital",
   "metadata": {},
   "source": [
    "# Seaborn"
   ]
  },
  {
   "cell_type": "code",
   "execution_count": null,
   "id": "wrong-studio",
   "metadata": {},
   "outputs": [],
   "source": [
    "import seaborn as sns"
   ]
  },
  {
   "cell_type": "code",
   "execution_count": null,
   "id": "certain-procedure",
   "metadata": {},
   "outputs": [],
   "source": [
    "sns.lineplot(data=data.groupby([\"date\",\"continent\"]).new_cases.sum().reset_index(), x=\"date\", y=\"new_cases\", hue=\"continent\")"
   ]
  },
  {
   "cell_type": "code",
   "execution_count": null,
   "id": "angry-hopkins",
   "metadata": {},
   "outputs": [],
   "source": [
    "sns.scatterplot(data=cases_vs_death, x=\"new_deaths\", y=\"new_cases\", hue=\"continent\")"
   ]
  },
  {
   "cell_type": "markdown",
   "id": "periodic-charlotte",
   "metadata": {},
   "source": [
    "# Bokeh"
   ]
  },
  {
   "cell_type": "markdown",
   "id": "streaming-pocket",
   "metadata": {},
   "source": [
    "# Plotly Express"
   ]
  },
  {
   "cell_type": "code",
   "execution_count": null,
   "id": "coordinated-attack",
   "metadata": {},
   "outputs": [],
   "source": [
    "import plotly.express as px"
   ]
  },
  {
   "cell_type": "code",
   "execution_count": null,
   "id": "historical-occasion",
   "metadata": {},
   "outputs": [],
   "source": [
    "px.line(df, x=\"date\", y=\"new_cases\", color=\"continent\")"
   ]
  },
  {
   "cell_type": "markdown",
   "id": "specified-carroll",
   "metadata": {},
   "source": [
    "# Altair"
   ]
  },
  {
   "cell_type": "code",
   "execution_count": null,
   "id": "clear-nancy",
   "metadata": {
    "tags": []
   },
   "outputs": [],
   "source": [
    "import altair as alt"
   ]
  },
  {
   "cell_type": "code",
   "execution_count": null,
   "id": "stable-relevance",
   "metadata": {},
   "outputs": [],
   "source": [
    "alt.data_transformers.disable_max_rows()\n",
    "alt.Chart(data, width=900, height=250).mark_line().encode(\n",
    "    x=\"date:T\", \n",
    "    y=alt.Y(field='new_cases', aggregate='sum', type='quantitative'),\n",
    "    color=\"continent\"\n",
    ").interactive()"
   ]
  },
  {
   "cell_type": "code",
   "execution_count": null,
   "id": "international-slovakia",
   "metadata": {},
   "outputs": [],
   "source": [
    "alt.Chart(cases_vs_death).mark_circle().transform_filter(\n",
    "    alt.datum.new_cases > 1 and alt.datum.new_deaths > 1\n",
    ").encode(\n",
    "    alt.X(\"new_cases\", scale=alt.Scale(type=\"log\")),\n",
    "    alt.Y(\"new_deaths\", scale=alt.Scale(type=\"log\")),\n",
    "    color=\"continent\",\n",
    "    tooltip=[\"location\",\"continent\",\"new_cases\",\"new_deaths\"]\n",
    ").interactive()"
   ]
  },
  {
   "cell_type": "code",
   "execution_count": null,
   "id": "outside-kingston",
   "metadata": {},
   "outputs": [],
   "source": []
  }
 ],
 "metadata": {
  "kernelspec": {
   "display_name": "pyviz",
   "language": "python",
   "name": "pyviz"
  },
  "language_info": {
   "codemirror_mode": {
    "name": "ipython",
    "version": 3
   },
   "file_extension": ".py",
   "mimetype": "text/x-python",
   "name": "python",
   "nbconvert_exporter": "python",
   "pygments_lexer": "ipython3",
   "version": "3.8.7"
  }
 },
 "nbformat": 4,
 "nbformat_minor": 5
}
