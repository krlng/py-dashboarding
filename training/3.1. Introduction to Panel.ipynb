{
 "cells": [
  {
   "cell_type": "code",
   "execution_count": null,
   "id": "acknowledged-delaware",
   "metadata": {},
   "outputs": [],
   "source": [
    "from bokeh.models import CustomJS, ColumnDataSource\n",
    "from bokeh.models.widgets import DataTable, TableColumn\n",
    "from bokeh.plotting import figure\n",
    "\n",
    "import param\n",
    "import pandas as pd\n",
    "from pandas import json_normalize\n",
    "\n",
    "import altair as alt\n",
    "import numpy as np\n",
    "import panel as pn\n",
    "\n",
    "pn.extension(\"vega\")"
   ]
  },
  {
   "cell_type": "code",
   "execution_count": null,
   "id": "promising-scale",
   "metadata": {},
   "outputs": [],
   "source": [
    "pn.interact()"
   ]
  },
  {
   "cell_type": "code",
   "execution_count": null,
   "id": "f20a4ef0-9771-40a8-a35d-9f7977fecd59",
   "metadata": {},
   "outputs": [],
   "source": []
  }
 ],
 "metadata": {
  "kernelspec": {
   "display_name": "universal_content_encoder",
   "language": "python",
   "name": "universal_content_encoder"
  },
  "language_info": {
   "codemirror_mode": {
    "name": "ipython",
    "version": 3
   },
   "file_extension": ".py",
   "mimetype": "text/x-python",
   "name": "python",
   "nbconvert_exporter": "python",
   "pygments_lexer": "ipython3",
   "version": "3.7.9"
  }
 },
 "nbformat": 4,
 "nbformat_minor": 5
}
